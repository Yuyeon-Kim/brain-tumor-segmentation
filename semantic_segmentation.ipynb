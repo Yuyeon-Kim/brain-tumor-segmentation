{
  "cells": [
    {
      "cell_type": "markdown",
      "id": "aBmoSv0PZCZe",
      "metadata": {
        "id": "aBmoSv0PZCZe"
      },
      "source": [
        "#### MOUNT"
      ]
    },
    {
      "cell_type": "code",
      "execution_count": 227,
      "id": "SR5baZrLZCDV",
      "metadata": {
        "colab": {
          "base_uri": "https://localhost:8080/"
        },
        "id": "SR5baZrLZCDV",
        "outputId": "007bc5fb-880a-44f9-def1-0524fe375465"
      },
      "outputs": [],
      "source": [
        "# from google.colab import drive\n",
        "# drive.mount('/content/drive')"
      ]
    },
    {
      "cell_type": "code",
      "execution_count": 228,
      "id": "1e0ca1ec-3c68-45f8-b6cf-1d5b32bc0230",
      "metadata": {
        "colab": {
          "base_uri": "https://localhost:8080/"
        },
        "id": "1e0ca1ec-3c68-45f8-b6cf-1d5b32bc0230",
        "outputId": "246248d0-5662-47a0-b8b6-b49307d1cf43"
      },
      "outputs": [],
      "source": [
        "# cd /content/drive/MyDrive/MICCAI_BraTS_2019_Data_Training"
      ]
    },
    {
      "cell_type": "markdown",
      "id": "8675e8c6-e8cb-4d07-bc5b-11d5ad7becf4",
      "metadata": {
        "id": "8675e8c6-e8cb-4d07-bc5b-11d5ad7becf4"
      },
      "source": [
        "#### 라이브러리 불러오기"
      ]
    },
    {
      "cell_type": "code",
      "execution_count": 229,
      "id": "03b3fa18-780a-4da8-b1ba-e22e168efb93",
      "metadata": {
        "id": "03b3fa18-780a-4da8-b1ba-e22e168efb93"
      },
      "outputs": [],
      "source": [
        "import tensorboard"
      ]
    },
    {
      "cell_type": "code",
      "execution_count": 230,
      "id": "a1b9c861-2a8c-439d-a043-a7aed87a68ac",
      "metadata": {
        "id": "a1b9c861-2a8c-439d-a043-a7aed87a68ac"
      },
      "outputs": [],
      "source": [
        "import os\n",
        "import numpy as np\n",
        "\n",
        "import torch\n",
        "import torch.nn as nn\n",
        "from torch.utils.data import DataLoader\n",
        "from torch.utils.tensorboard import SummaryWriter\n",
        "\n",
        "import matplotlib.pyplot as plt\n",
        "\n",
        "from torchvision import transforms, datasets"
      ]
    },
    {
      "cell_type": "markdown",
      "id": "cbcf1e2c-0697-4391-ac96-4b1a2dc870c1",
      "metadata": {
        "id": "cbcf1e2c-0697-4391-ac96-4b1a2dc870c1"
      },
      "source": [
        "# 1. 데이터셋 정리(전처리)"
      ]
    },
    {
      "cell_type": "code",
      "execution_count": 231,
      "id": "2e02750a-121a-4272-81fb-9ef96858ae61",
      "metadata": {
        "id": "2e02750a-121a-4272-81fb-9ef96858ae61"
      },
      "outputs": [],
      "source": [
        "dir_data ='./dataset'"
      ]
    },
    {
      "cell_type": "markdown",
      "id": "1fd806ae-07ad-46c3-aafa-6b92440de0d0",
      "metadata": {
        "id": "1fd806ae-07ad-46c3-aafa-6b92440de0d0"
      },
      "source": [
        "#### HGG 파일 내의 데이터를 input, label로 분류해서 dataset 안에 정리"
      ]
    },
    {
      "cell_type": "code",
      "execution_count": 232,
      "id": "ua2iNnuiVk4r",
      "metadata": {
        "colab": {
          "base_uri": "https://localhost:8080/",
          "height": 35
        },
        "id": "ua2iNnuiVk4r",
        "outputId": "53cb6f1c-e75e-467d-a6a1-cd1c48b846df"
      },
      "outputs": [
        {
          "data": {
            "text/plain": [
              "'/Users/kim-yuyeon/Documents/visual_studio_code/brain-tumor-segmentation'"
            ]
          },
          "execution_count": 232,
          "metadata": {},
          "output_type": "execute_result"
        }
      ],
      "source": [
        "%pwd"
      ]
    },
    {
      "cell_type": "code",
      "execution_count": 233,
      "id": "eb501e8d-0518-4a7c-9a81-39be3aa27729",
      "metadata": {
        "id": "eb501e8d-0518-4a7c-9a81-39be3aa27729"
      },
      "outputs": [],
      "source": [
        "import random\n",
        "\n",
        "# 실행 환경에 맞게 dataset path, hgg path 변경 필요\n",
        "dataset_path = './drive/MyDrive/MICCIC_BraTS_2019_Data_Training'\n",
        "hgg_path = dataset_path + \"/HGG\"\n",
        "\n",
        "\n",
        "filename = os.listdir(hgg_path)\n",
        "# fielname = random.shuffle(filename)\n",
        "# shuffle(filename) # 모두가 같은 데이터를 사용해야하기 때문에 셔플 제거\n",
        "filename = filename[:5]\n",
        "filecount = len(filename)\n",
        "HGG1 = round(filecount*0.6)\n",
        "HGG2 = round(filecount*0.8)"
      ]
    },
    {
      "cell_type": "code",
      "execution_count": 234,
      "id": "05663cef",
      "metadata": {},
      "outputs": [
        {
          "data": {
            "text/plain": [
              "['BraTS19_CBICA_ANG_1',\n",
              " 'BraTS19_TCIA02_198_1',\n",
              " 'BraTS19_TCIA01_378_1',\n",
              " 'BraTS19_2013_23_1',\n",
              " 'BraTS19_CBICA_ASU_1']"
            ]
          },
          "execution_count": 234,
          "metadata": {},
          "output_type": "execute_result"
        }
      ],
      "source": [
        "filename"
      ]
    },
    {
      "cell_type": "code",
      "execution_count": 235,
      "id": "c638df07",
      "metadata": {},
      "outputs": [],
      "source": [
        "# !pip install nibabel"
      ]
    },
    {
      "cell_type": "code",
      "execution_count": 236,
      "id": "df20eb7c-9062-4a85-94da-488fbf51fd4d",
      "metadata": {
        "id": "df20eb7c-9062-4a85-94da-488fbf51fd4d"
      },
      "outputs": [],
      "source": [
        "import nibabel as nib"
      ]
    },
    {
      "cell_type": "code",
      "execution_count": 237,
      "id": "8eba1106-4d11-4fa7-8552-05d1f4ea6aeb",
      "metadata": {
        "id": "8eba1106-4d11-4fa7-8552-05d1f4ea6aeb"
      },
      "outputs": [
        {
          "name": "stdout",
          "output_type": "stream",
          "text": [
            "./dataset/train 폴더가 이미 존재함\n",
            "./dataset/val 폴더가 이미 존재함\n",
            "./dataset/test 폴더가 이미 존재함\n"
          ]
        }
      ],
      "source": [
        "# 주의사항: data types, file names의 train, val, test 순서를 잘 맞추자!!\n",
        "data_types = [\"train\", \"val\", \"test\"]\n",
        "\n",
        "original_file_train = filename[:HGG1] #Htrain\n",
        "original_file_val = filename[HGG1:HGG2] #Val\n",
        "original_file_test = filename[HGG2:] #Test\n",
        "original_files = [original_file_train, original_file_val, original_file_test]\n",
        "\n",
        "\n",
        "# Train, Val, Test 저장\n",
        "for data_type, original_file in zip(data_types, original_files):\n",
        "  dir_save = os.path.join(dir_data, data_type)\n",
        "  if os.path.exists(dir_save): # 이미 파일이 있다면 더 진행하지 않음\n",
        "    print(dir_save,\"폴더가 이미 존재함\")\n",
        "    continue\n",
        "  os.makedirs(dir_save)\n",
        "\n",
        "  i = 0\n",
        "  for current_data in original_file:\n",
        "    if current_data[0] == \".\":\n",
        "      continue\n",
        "    i+=1\n",
        "    for b in os.listdir(os.path.join(hgg_path, current_data)):\n",
        "      if 'seg' in b:\n",
        "        img_label = nib.load(os.path.join(hgg_path,current_data, b)).get_fdata()\n",
        "        label_= np.array(img_label)\n",
        "        np.save(os.path.join(dir_save, 'label_%03d.npy' % (4*i-3)),label_)\n",
        "        np.save(os.path.join(dir_save, 'label_%03d.npy' % (4*i-2)),label_)\n",
        "        np.save(os.path.join(dir_save, 'label_%03d.npy' % (4*i-1)),label_)\n",
        "        np.save(os.path.join(dir_save, 'label_%03d.npy' % (4*i)),label_)\n",
        "      elif 'flair' in b:\n",
        "        img_input = nib.load(os.path.join(hgg_path,current_data, b)).get_fdata()\n",
        "        input_ = np.array(img_input)\n",
        "        np.save(os.path.join(dir_save, 'input_%03d.npy' % (4*i-3)),input_)\n",
        "      elif 't2' in b:\n",
        "        img_input = nib.load(os.path.join(hgg_path,current_data, b)).get_fdata()\n",
        "        input_ = np.array(img_input)\n",
        "        np.save(os.path.join(dir_save, 'input_%03d.npy' % (4*i-2)),input_)\n",
        "      elif 't1ce' in b:\n",
        "        img_input = nib.load(os.path.join(hgg_path,current_data, b)).get_fdata()\n",
        "        input_ = np.array(img_input)\n",
        "        np.save(os.path.join(dir_save, 'input_%03d.npy' % (4*i-1)),input_)\n",
        "      else :\n",
        "        img_input = nib.load(os.path.join(hgg_path,current_data, b)).get_fdata()\n",
        "        input_ = np.array(img_input)\n",
        "        np.save(os.path.join(dir_save, 'input_%03d.npy' % (4*i)),input_)\n",
        "    \n",
        "  print(dir_save,\"처리 완료\")"
      ]
    },
    {
      "cell_type": "code",
      "execution_count": 238,
      "id": "ed64c104",
      "metadata": {},
      "outputs": [
        {
          "data": {
            "text/plain": [
              "(240, 240, 155)"
            ]
          },
          "execution_count": 238,
          "metadata": {},
          "output_type": "execute_result"
        }
      ],
      "source": [
        "label_.shape"
      ]
    },
    {
      "cell_type": "code",
      "execution_count": 239,
      "id": "d60ad941-dc59-4b30-8c38-b717e1690c98",
      "metadata": {
        "colab": {
          "base_uri": "https://localhost:8080/",
          "height": 308
        },
        "id": "d60ad941-dc59-4b30-8c38-b717e1690c98",
        "outputId": "d1340ef4-9c2b-4b4a-db97-05750a8a664b"
      },
      "outputs": [
        {
          "data": {
            "image/png": "[encoded data removed]",
            "text/plain": [
              "<Figure size 640x480 with 2 Axes>"
            ]
          },
          "metadata": {},
          "output_type": "display_data"
        }
      ],
      "source": [
        "## 이미지 시각화(input)\n",
        "plt.subplot(122)\n",
        "plt.imshow(label_[:,:,77])\n",
        "plt.title('label')\n",
        "\n",
        "plt.subplot(121)\n",
        "plt.imshow(input_[:,:,77])\n",
        "plt.title('input')\n",
        "\n",
        "plt.show()"
      ]
    },
    {
      "cell_type": "code",
      "execution_count": 240,
      "id": "55dd30de-1d1f-4fdb-8b94-6ba2ec4c78e6",
      "metadata": {
        "colab": {
          "base_uri": "https://localhost:8080/",
          "height": 487
        },
        "id": "55dd30de-1d1f-4fdb-8b94-6ba2ec4c78e6",
        "outputId": "79d93c32-9142-4c3f-e7db-dc407112e69e"
      },
      "outputs": [
        {
          "data": {
            "image/png": "[encoded data removed]",
            "text/plain": [
              "<Figure size 640x480 with 2 Axes>"
            ]
          },
          "metadata": {},
          "output_type": "display_data"
        }
      ],
      "source": [
        "## 한 이미지의 분포\n",
        "plt.subplot(122)\n",
        "plt.hist(label_.flatten(), bins=20)\n",
        "plt.title('label')\n",
        "\n",
        "plt.subplot(121)\n",
        "plt.hist(input_.flatten(), bins=20)\n",
        "plt.title('input')\n",
        "\n",
        "plt.tight_layout()\n",
        "plt.show()"
      ]
    },
    {
      "cell_type": "code",
      "execution_count": 241,
      "id": "44d81e47-13b8-463c-9be7-fd834ddcd7b7",
      "metadata": {
        "id": "44d81e47-13b8-463c-9be7-fd834ddcd7b7"
      },
      "outputs": [],
      "source": [
        "#Val\n",
        "filename_val = filename[HGG1:HGG2]\n",
        "\n",
        "i=0\n",
        "for a in filename_val:\n",
        "  i+=1\n",
        "  for b in os.listdir(hgg_path + '/' + a):\n",
        "    if 'seg' in b:\n",
        "      img_label = nib.load(os.path.join(hgg_path,a, b)).get_fdata()\n",
        "      label_ = np.array(img_label)\n",
        "      np.save(os.path.join(dir_save_val, 'label_%03d.npy' % (4*i-3)),label_)\n",
        "      np.save(os.path.join(dir_save_val, 'label_%03d.npy' % (4*i-2)),label_)\n",
        "      np.save(os.path.join(dir_save_val, 'label_%03d.npy' % (4*i-1)),label_)\n",
        "      np.save(os.path.join(dir_save_val, 'label_%03d.npy' % (4*i)),label_)\n",
        "    elif 'flair' in b:\n",
        "      img_input = nib.load(os.path.join(hgg_path,a, b)).get_fdata()\n",
        "      input_ = np.array(img_input)\n",
        "      np.save(os.path.join(dir_save_val, 'input_%03d.npy' % (4*i-3)),input_)\n",
        "    elif 't2' in b:\n",
        "      img_input = nib.load(os.path.join(hgg_path,a, b)).get_fdata()\n",
        "      input_ = np.array(img_input)\n",
        "      np.save(os.path.join(dir_save_val, 'input_%03d.npy' % (4*i-2)),input_)\n",
        "    elif 't1ce' in b:\n",
        "      img_input = nib.load(os.path.join(hgg_path,a, b)).get_fdata()\n",
        "      input_ = np.array(img_input)\n",
        "      np.save(os.path.join(dir_save_val, 'input_%03d.npy' % (4*i-1)),input_)\n",
        "    else :\n",
        "      img_input = nib.load(os.path.join(hgg_path,a, b)).get_fdata()\n",
        "      input_ = np.array(img_input)\n",
        "      np.save(os.path.join(dir_save_val, 'input_%03d.npy' % (4*i)),input_)"
      ]
    },
    {
      "cell_type": "code",
      "execution_count": 242,
      "id": "4a73e1ad-9244-489f-bb02-9dfb9ff530f2",
      "metadata": {
        "id": "4a73e1ad-9244-489f-bb02-9dfb9ff530f2"
      },
      "outputs": [],
      "source": [
        "#Test\n",
        "filename_test = filename[HGG2:]\n",
        "\n",
        "i=0\n",
        "for a in filename_test:\n",
        "  i+=1\n",
        "  for b in os.listdir(hgg_path + '/' + a):\n",
        "    if 'seg' in b:\n",
        "      img_label = nib.load(os.path.join(hgg_path,a, b)).get_fdata()\n",
        "      label_ = np.array(img_label)\n",
        "      np.save(os.path.join(dir_save_test, 'label_%03d.npy' % (4*i-3)),label_)\n",
        "      np.save(os.path.join(dir_save_test, 'label_%03d.npy' % (4*i-2)),label_)\n",
        "      np.save(os.path.join(dir_save_test, 'label_%03d.npy' % (4*i-1)),label_)\n",
        "      np.save(os.path.join(dir_save_test, 'label_%03d.npy' % (4*i)),label_)\n",
        "    elif 'flair' in b:\n",
        "      img_input = nib.load(os.path.join(hgg_path,a, b)).get_fdata()\n",
        "      input_ = np.array(img_input)\n",
        "      np.save(os.path.join(dir_save_test, 'input_%03d.npy' % (4*i-3)),input_)\n",
        "    elif 't2' in b:\n",
        "      img_input = nib.load(os.path.join(hgg_path,a, b)).get_fdata()\n",
        "      input_ = np.array(img_input)\n",
        "      np.save(os.path.join(dir_save_test, 'input_%03d.npy' % (4*i-2)),input_)\n",
        "    elif 't1ce' in b:\n",
        "      img_input = nib.load(os.path.join(hgg_path,a, b)).get_fdata()\n",
        "      input_ = np.array(img_input)\n",
        "      np.save(os.path.join(dir_save_test, 'input_%03d.npy' % (4*i-1)),input_)\n",
        "    else :\n",
        "      img_input = nib.load(os.path.join(hgg_path,a, b)).get_fdata()\n",
        "      input_ = np.array(img_input)\n",
        "      np.save(os.path.join(dir_save_test, 'input_%03d.npy' % (4*i)),input_)"
      ]
    },
    {
      "cell_type": "markdown",
      "id": "65a99de1-3970-4ca9-8b0e-d5c914ee03c8",
      "metadata": {
        "id": "65a99de1-3970-4ca9-8b0e-d5c914ee03c8"
      },
      "source": [
        "## 3D 네트워크 구축하기"
      ]
    },
    {
      "cell_type": "code",
      "execution_count": 243,
      "id": "58572de8-afcf-4e3a-b4d9-e89366319f5a",
      "metadata": {
        "id": "58572de8-afcf-4e3a-b4d9-e89366319f5a"
      },
      "outputs": [],
      "source": [
        "## 라이브러리 불러오기\n",
        "import os\n",
        "import numpy as np\n",
        "\n",
        "import torch\n",
        "import torch.nn as nn\n",
        "from torch.utils.data import DataLoader\n",
        "from torch.utils.tensorboard import SummaryWriter\n",
        "\n",
        "import matplotlib.pyplot as plt\n",
        "\n",
        "from torchvision import transforms, datasets\n",
        "\n",
        "## 네트워크 구축하기\n",
        "class UNet(nn.Module):\n",
        "    def __init__(self):\n",
        "        super(UNet, self).__init__()\n",
        "\n",
        "        # Convolution + BatchNormalization + Relu 정의하기\n",
        "        def CBR2d(in_channels, out_channels, kernel_size=3, stride=1, padding=1, bias=True):\n",
        "            layers = []\n",
        "            layers += [nn.Conv2d(in_channels=in_channels, out_channels=out_channels,\n",
        "                                 kernel_size=kernel_size, stride=stride, padding=padding,\n",
        "                                 bias=bias)]\n",
        "            layers += [nn.BatchNorm2d(num_features=out_channels)]\n",
        "            layers += [nn.ReLU()]\n",
        "\n",
        "            cbr = nn.Sequential(*layers)\n",
        "            # nn.Sequential 클래스 : nn.ReLU 등의 모듈들을 인수로 받아서 순서대로 정렬해놓고\n",
        "            #입력값이 들어오면, 순서대로 묘듈 실행해서 결과값 리턴\n",
        "            # 리스트 이름에 별 붙여야함\n",
        "\n",
        "            return cbr\n",
        "\n",
        "        # 수축 경로(Contracting path)\n",
        "        self.enc1_1 = CBR2d(in_channels=1, out_channels=64)\n",
        "        self.enc1_2 = CBR2d(in_channels=64, out_channels=64)\n",
        "\n",
        "        self.pool1 = nn.MaxPool2d(kernel_size=2)\n",
        "\n",
        "        self.enc2_1 = CBR2d(in_channels=64, out_channels=128)\n",
        "        self.enc2_2 = CBR2d(in_channels=128, out_channels=128)\n",
        "\n",
        "        self.pool2 = nn.MaxPool2d(kernel_size=2)\n",
        "\n",
        "        self.enc3_1 = CBR2d(in_channels=128, out_channels=256)\n",
        "        self.enc3_2 = CBR2d(in_channels=256, out_channels=256)\n",
        "\n",
        "        self.pool3 = nn.MaxPool2d(kernel_size=2)\n",
        "\n",
        "        self.enc4_1 = CBR2d(in_channels=256, out_channels=512)\n",
        "        self.enc4_2 = CBR2d(in_channels=512, out_channels=512)\n",
        "\n",
        "        self.pool4 = nn.MaxPool2d(kernel_size=2)\n",
        "\n",
        "        self.enc5_1 = CBR2d(in_channels=512, out_channels=1024)\n",
        "\n",
        "        # 확장 경로(Expansive path)\n",
        "        self.dec5_1 = CBR2d(in_channels=1024, out_channels=512)\n",
        "\n",
        "        self.unpool4 = nn.ConvTranspose2d(in_channels=512, out_channels=512,\n",
        "                                          kernel_size=2, stride=2, padding=0, bias=True)\n",
        "\n",
        "        self.dec4_2 = CBR2d(in_channels=2 * 512, out_channels=512)\n",
        "        self.dec4_1 = CBR2d(in_channels=512, out_channels=256)\n",
        "\n",
        "        self.unpool3 = nn.ConvTranspose2d(in_channels=256, out_channels=256,\n",
        "                                          kernel_size=2, stride=2, padding=0, bias=True)\n",
        "\n",
        "        self.dec3_2 = CBR2d(in_channels=2 * 256, out_channels=256)\n",
        "        self.dec3_1 = CBR2d(in_channels=256, out_channels=128)\n",
        "\n",
        "        self.unpool2 = nn.ConvTranspose2d(in_channels=128, out_channels=128,\n",
        "                                          kernel_size=2, stride=2, padding=0, bias=True)\n",
        "\n",
        "        self.dec2_2 = CBR2d(in_channels=2 * 128, out_channels=128)\n",
        "        self.dec2_1 = CBR2d(in_channels=128, out_channels=64)\n",
        "\n",
        "        self.unpool1 = nn.ConvTranspose2d(in_channels=64, out_channels=64,\n",
        "                                          kernel_size=2, stride=2, padding=0, bias=True)\n",
        "\n",
        "        self.dec1_2 = CBR2d(in_channels=2 * 64, out_channels=64)\n",
        "        self.dec1_1 = CBR2d(in_channels=64, out_channels=64)\n",
        "\n",
        "        self.fc = nn.Conv2d(in_channels=64, out_channels=1, kernel_size=1, stride=1, padding=0, bias=True)\n",
        "\n",
        "    # forward 함수 정의하기\n",
        "    def forward(self, x):\n",
        "        enc1_1 = self.enc1_1(x)\n",
        "        enc1_2 = self.enc1_2(enc1_1)\n",
        "        pool1 = self.pool1(enc1_2)\n",
        "\n",
        "        enc2_1 = self.enc2_1(pool1)\n",
        "        enc2_2 = self.enc2_2(enc2_1)\n",
        "        pool2 = self.pool2(enc2_2)\n",
        "\n",
        "        enc3_1 = self.enc3_1(pool2)\n",
        "        enc3_2 = self.enc3_2(enc3_1)\n",
        "        pool3 = self.pool3(enc3_2)\n",
        "\n",
        "        enc4_1 = self.enc4_1(pool3)\n",
        "        enc4_2 = self.enc4_2(enc4_1)\n",
        "        pool4 = self.pool4(enc4_2)\n",
        "\n",
        "        enc5_1 = self.enc5_1(pool4)\n",
        "\n",
        "        dec5_1 = self.dec5_1(enc5_1)\n",
        "\n",
        "        unpool4 = self.unpool4(dec5_1)\n",
        "        cat4 = torch.cat((unpool4, enc4_2), dim=1)\n",
        "        dec4_2 = self.dec4_2(cat4)\n",
        "        dec4_1 = self.dec4_1(dec4_2)\n",
        "\n",
        "        unpool3 = self.unpool3(dec4_1)\n",
        "        cat3 = torch.cat((unpool3, enc3_2), dim=1)\n",
        "        dec3_2 = self.dec3_2(cat3)\n",
        "        dec3_1 = self.dec3_1(dec3_2)\n",
        "\n",
        "        unpool2 = self.unpool2(dec3_1)\n",
        "        cat2 = torch.cat((unpool2, enc2_2), dim=1)\n",
        "        dec2_2 = self.dec2_2(cat2)\n",
        "        dec2_1 = self.dec2_1(dec2_2)\n",
        "\n",
        "        unpool1 = self.unpool1(dec2_1)\n",
        "        cat1 = torch.cat((unpool1, enc1_2), dim=1)\n",
        "        dec1_2 = self.dec1_2(cat1)\n",
        "        dec1_1 = self.dec1_1(dec1_2)\n",
        "\n",
        "        x = self.fc(dec1_1)\n",
        "\n",
        "        return x"
      ]
    },
    {
      "cell_type": "code",
      "execution_count": 244,
      "id": "96c8cc14",
      "metadata": {},
      "outputs": [],
      "source": [
        "#!pip install segmentation_models_pytorch"
      ]
    },
    {
      "cell_type": "code",
      "execution_count": 245,
      "id": "f01674e4",
      "metadata": {},
      "outputs": [],
      "source": [
        "import segmentation_models_pytorch as smp\n",
        "\n",
        "TS_Net = smp.Unet(\n",
        "    encoder_name=\"resnet34\", \n",
        "    encoder_weights=\"imagenet\",\n",
        "    activation='sigmoid',\n",
        "    in_channels=1,\n",
        "    classes=1)\n",
        "\n",
        "def make_TS_Net():\n",
        "  return smp.Unet(\n",
        "    encoder_name=\"resnet34\", \n",
        "    encoder_weights=\"imagenet\",\n",
        "    activation='sigmoid',\n",
        "    in_channels=1,\n",
        "    classes=1)"
      ]
    },
    {
      "cell_type": "markdown",
      "id": "388634fe-4445-4444-80be-102c9811bc1e",
      "metadata": {
        "id": "388634fe-4445-4444-80be-102c9811bc1e"
      },
      "source": [
        "# 3-1. DataLoader"
      ]
    },
    {
      "cell_type": "markdown",
      "id": "417b8563-2daf-4eaf-b549-fe8f156ecdaa",
      "metadata": {
        "id": "417b8563-2daf-4eaf-b549-fe8f156ecdaa"
      },
      "source": [
        "#### : 네트워크에 데이터를 올리기 위해 DataLoader로 구현"
      ]
    },
    {
      "cell_type": "code",
      "execution_count": 246,
      "id": "c48a5cef-debf-4bf2-9769-7bf2c2222763",
      "metadata": {
        "id": "c48a5cef-debf-4bf2-9769-7bf2c2222763"
      },
      "outputs": [],
      "source": [
        "# 데이터 로더를 구현하기\n",
        "class Dataset(torch.utils.data.Dataset): #torch.utils.data.Dataset 상속\n",
        "    def __init__(self, data_dir, transform=None):\n",
        "        self.data_dir = data_dir\n",
        "        self.transform = transform\n",
        "\n",
        "        lst_data = os.listdir(self.data_dir)\n",
        "\n",
        "        lst_label = [f for f in lst_data if f.startswith('label')]\n",
        "        lst_input = [f for f in lst_data if f.startswith('input')]\n",
        "\n",
        "        #정렬(오름차순)\n",
        "        lst_label.sort()\n",
        "        lst_input.sort()\n",
        "\n",
        "        self.lst_label = lst_label\n",
        "        self.lst_input = lst_input\n",
        "\n",
        "    def update_cropped_data(self, net):\n",
        "        # TODO: net을 매개변수로 받는 것이 아니라, 이전 모델의 출력 값을 받아서 이후에 __getitem__에서 꺼내쓸 수 있도록 조치\n",
        "        # Update cropped data based on network prediction\n",
        "        cropped_data = []\n",
        "        for data_item in self.data:\n",
        "            input = data_item['input']\n",
        "            # Assuming input is tensor, you might need some adjustments based on your data format\n",
        "            output = net(input)\n",
        "            cropped_segment = self.crop_segment(output)\n",
        "            cropped_data.append({'input': cropped_segment})\n",
        "        self.cropped_data = cropped_data\n",
        "\n",
        "    def __len__(self):\n",
        "        return len(self.lst_label)\n",
        "\n",
        "    def __getitem__(self, index):\n",
        "        label = np.load(os.path.join(self.data_dir, self.lst_label[index]))\n",
        "        input = np.load(os.path.join(self.data_dir, self.lst_input[index]))\n",
        "        # TODO: 필요하다면, crop 부분 추가\n",
        "\n",
        "        # 정규화\n",
        "        label = label/255.0\n",
        "        input = input/255.0\n",
        "\n",
        "        # 이미지와 레이블의 차원 = 3일 경우(채널이 없을 경우, 흑백 이미지), 새로운 채널(축) 생성\n",
        "        if label.ndim == 3:\n",
        "            label = label[:, :, :,np.newaxis]\n",
        "        if input.ndim == 3:\n",
        "            input = input[:, :, :,np.newaxis]\n",
        "\n",
        "        self.data = {'input': input, 'label': label}\n",
        "\n",
        "        # transform이 정의되어 있다면 transform을 거친 데이터를 불러옴\n",
        "        if self.transform:\n",
        "            self.data = self.transform(self.data)\n",
        "\n",
        "        return self.data"
      ]
    },
    {
      "cell_type": "code",
      "execution_count": 247,
      "id": "a2b428cc-25fd-4db6-8158-63032faeddb7",
      "metadata": {
        "id": "a2b428cc-25fd-4db6-8158-63032faeddb7"
      },
      "outputs": [],
      "source": [
        "# 데이터로더 잘 구현되었는지 확인\n",
        "dataset_train = Dataset(data_dir=dir_save_train)\n",
        "data = dataset_train.__getitem__(0) # 한 이미지 불러오기\n",
        "input = data['input']\n",
        "label = data['label']"
      ]
    },
    {
      "cell_type": "code",
      "execution_count": 248,
      "id": "568a0592",
      "metadata": {},
      "outputs": [
        {
          "data": {
            "text/plain": [
              "(240, 240, 155, 1)"
            ]
          },
          "execution_count": 248,
          "metadata": {},
          "output_type": "execute_result"
        }
      ],
      "source": [
        "input.shape"
      ]
    },
    {
      "cell_type": "code",
      "execution_count": 249,
      "id": "38c8470e",
      "metadata": {},
      "outputs": [
        {
          "data": {
            "text/plain": [
              "array([[[0.],\n",
              "        [0.],\n",
              "        [0.],\n",
              "        ...,\n",
              "        [0.],\n",
              "        [0.],\n",
              "        [0.]],\n",
              "\n",
              "       [[0.],\n",
              "        [0.],\n",
              "        [0.],\n",
              "        ...,\n",
              "        [0.],\n",
              "        [0.],\n",
              "        [0.]],\n",
              "\n",
              "       [[0.],\n",
              "        [0.],\n",
              "        [0.],\n",
              "        ...,\n",
              "        [0.],\n",
              "        [0.],\n",
              "        [0.]],\n",
              "\n",
              "       ...,\n",
              "\n",
              "       [[0.],\n",
              "        [0.],\n",
              "        [0.],\n",
              "        ...,\n",
              "        [0.],\n",
              "        [0.],\n",
              "        [0.]],\n",
              "\n",
              "       [[0.],\n",
              "        [0.],\n",
              "        [0.],\n",
              "        ...,\n",
              "        [0.],\n",
              "        [0.],\n",
              "        [0.]],\n",
              "\n",
              "       [[0.],\n",
              "        [0.],\n",
              "        [0.],\n",
              "        ...,\n",
              "        [0.],\n",
              "        [0.],\n",
              "        [0.]]])"
            ]
          },
          "execution_count": 249,
          "metadata": {},
          "output_type": "execute_result"
        }
      ],
      "source": [
        "label[0]"
      ]
    },
    {
      "cell_type": "code",
      "execution_count": 250,
      "id": "050c4fc6-0ace-48c7-ad68-ccc4084cfbda",
      "metadata": {
        "colab": {
          "base_uri": "https://localhost:8080/",
          "height": 308
        },
        "id": "050c4fc6-0ace-48c7-ad68-ccc4084cfbda",
        "outputId": "4ba37297-24eb-4081-b76e-8cbce0da0441"
      },
      "outputs": [
        {
          "data": {
            "image/png": "[encoded data removed]",
            "text/plain": [
              "<Figure size 640x480 with 2 Axes>"
            ]
          },
          "metadata": {},
          "output_type": "display_data"
        }
      ],
      "source": [
        "# 불러온 이미지 시각화 (가운데 슬라이스만)\n",
        "plt.subplot(122)\n",
        "plt.imshow(label[:,:,77,:].reshape(240,240), cmap='gray')\n",
        "plt.title('label')\n",
        "\n",
        "plt.subplot(121)\n",
        "plt.imshow(input[:,:,77,:].reshape(240,240), cmap='gray')\n",
        "plt.title('input')\n",
        "\n",
        "plt.show()"
      ]
    },
    {
      "cell_type": "markdown",
      "id": "16f8c319-7386-48ef-97b4-bb5407e88fc2",
      "metadata": {
        "id": "16f8c319-7386-48ef-97b4-bb5407e88fc2"
      },
      "source": [
        "## 3-2.Transform\n",
        "\n",
        "- ToTensor : numpy에서 tensor로 데이터 type을 변경\n",
        "- Normalization : 데이터 정규화\n",
        "- RandomFlip : 랜덤 좌우 및 상하 반전\n",
        "- ResizeImage : 이미지 사이즈 변경"
      ]
    },
    {
      "cell_type": "code",
      "execution_count": 251,
      "id": "5de85996",
      "metadata": {},
      "outputs": [],
      "source": [
        "# pip install elasticdeform"
      ]
    },
    {
      "cell_type": "code",
      "execution_count": 278,
      "id": "07194887-536b-4182-8095-b2ccf8e414da",
      "metadata": {
        "id": "07194887-536b-4182-8095-b2ccf8e414da"
      },
      "outputs": [],
      "source": [
        "# 트렌스폼 구현하기\n",
        "from scipy.ndimage import rotate\n",
        "import elasticdeform\n",
        "import torch\n",
        "import torch.nn.functional as F\n",
        "import torchvision.transforms as transforms\n",
        "\n",
        "class ToTensor(object):\n",
        "    def __call__(self, data):\n",
        "        label, input = data['label'], data['input']\n",
        "\n",
        "        # 채널 차원 순서 변경 : (높이, 너비, 깊이, 채널) -> (채널, 높이, 너비, 깊이)\n",
        "        label = label.transpose((3, 0, 1, 2)).astype(np.float32)\n",
        "        input = input.transpose((3, 0, 1, 2)).astype(np.float32)\n",
        "\n",
        "        data = {'label': torch.from_numpy(label), 'input': torch.from_numpy(input)}\n",
        "\n",
        "        return data\n",
        "\n",
        "class Normalization(object):\n",
        "    def __init__(self, mean=0.5, std=0.5):\n",
        "        self.mean = mean\n",
        "        self.std = std\n",
        "\n",
        "    def __call__(self, data):\n",
        "        label, input = data['label'], data['input']\n",
        "\n",
        "        input = (input - self.mean) / self.std\n",
        "\n",
        "        data = {'label': label, 'input': input}\n",
        "\n",
        "        return data\n",
        "\n",
        "\n",
        "# FIXME: ValueError: Input and output must have the same number of spatial dimensions, but got input with spatial dimensions of [240, 240, 155, 1] and output size of (256, 256, 155). Please provide input tensor in (N, C, d1, d2, ...,dK) format and output size in (o1, o2, ...,oK) format.\n",
        "class ResizeImage:\n",
        "    def __init__(self, output_size):\n",
        "        self.output_size = output_size\n",
        "\n",
        "    def __call__(self, data):\n",
        "        label, input = data['label'], data['input']\n",
        "\n",
        "        # 이미지 크기 변경\n",
        "        label = torch.from_numpy(label).unsqueeze(0).unsqueeze(0)  # 배치 차원 추가\n",
        "        label = F.interpolate(label, size=self.output_size, mode='bilinear', align_corners=False)\n",
        "        label = label.squeeze(0).squeeze(0).numpy()  # 오류 수정\n",
        "\n",
        "        input = torch.from_numpy(input).unsqueeze(0).unsqueeze(0)  # 배치 차원 추가\n",
        "        input = F.interpolate(input, size=self.output_size, mode='bilinear', align_corners=False)\n",
        "        input = input.squeeze(0).squeeze(0).numpy()  # 오류 수정\n",
        "\n",
        "        data = {'label': label, 'input': input}\n",
        "\n",
        "        return data\n",
        "\n",
        "class MinMaxNormalization(object):\n",
        "    def __init__(self, min_val=0, max_val=1):\n",
        "        self.min_val = min_val\n",
        "        self.max_val = max_val\n",
        "\n",
        "    def __call__(self, data):\n",
        "        label, input = data['label'], data['input']\n",
        "\n",
        "        input = (input - input.min()) / (input.max() - input.min())\n",
        "        input = input * (self.max_val - self.min_val) + self.min_val\n",
        "\n",
        "        data = {'label': label, 'input': input}\n",
        "\n",
        "        return data\n",
        "\n",
        "class FlipRot(object):\n",
        "    def __call__(self, data):\n",
        "        label, input = data['label'], data['input']\n",
        "\n",
        "        # rotation [0, 45]\n",
        "        if np.random.rand() > 0.5:\n",
        "          angle = 45\n",
        "          label = rotate(label, angle, reshape=False, mode=\"nearest\")\n",
        "          input = rotate(input, angle, reshape=False, mode=\"nearest\")\n",
        "\n",
        "        # 수평 뒤집기\n",
        "        if np.random.rand() > 0.5:\n",
        "            label = np.flipud(label)\n",
        "            input = np.flipud(input)\n",
        "\n",
        "        data = {'label': label, 'input': input}\n",
        "\n",
        "        return data\n",
        "\n",
        "class GammaCorrection(object):\n",
        "    def __init__(self, gamma_range):\n",
        "        self.gamma_range = gamma_range\n",
        "\n",
        "    def __call__(self, data):\n",
        "        label, input = data['label'], data['input']\n",
        "\n",
        "        gamma = np.random.uniform(*self.gamma_range)\n",
        "        input = input ** gamma\n",
        "\n",
        "        data = {'label': label, 'input': input}\n",
        "\n",
        "        return data\n",
        "\n",
        "\n",
        "class ElasticDeformation(object):\n",
        "    def __call__(self, data):\n",
        "        label, input = data['label'], data['input']\n",
        "\n",
        "        input, label = elasticdeform.deform_random_grid([input, label], sigma=2, axis=[(0, 1, 2), (0, 1, 2)], order=[1, 0], mode='constant')\n",
        "\n",
        "        data = {'label': label, 'input': input}\n",
        "\n",
        "        return data\n",
        "\n",
        "\n",
        "class FlipRot3D(object):\n",
        "    def __call__(self, data):\n",
        "        label, input = data['label'], data['input']\n",
        "\n",
        "        flip_choice = np.random.randint(3)\n",
        "\n",
        "        if choice == 0: # x축 flip\n",
        "          label, input = label[::-1, :, :], input[::-1, :, :, :]\n",
        "        if choice == 1: # y축 flip\n",
        "          label, input = label[:, ::-1, :], input[:, ::-1, :, :]\n",
        "        if choice == 2: # z축 flip\n",
        "          label, input = label[:, :, ::-1], input[:, :, ::-1, :]\n",
        "\n",
        "        rotate_choice = np.random.randint(2)\n",
        "        if rotate_choice == 0: \n",
        "          angle = np.random.randint(91)  # 0~90도로 무작위 회전할지, 특정 angle을 정할지\n",
        "          label, input = self.rotate(label, angle), self.rotate(input, angle) \n",
        "\n",
        "        data = {'label': label, 'input': input}\n",
        "\n",
        "        return data"
      ]
    },
    {
      "cell_type": "code",
      "execution_count": 279,
      "id": "0ede01a3-141a-4e1d-8494-70b5382020f6",
      "metadata": {
        "colab": {
          "base_uri": "https://localhost:8080/",
          "height": 487
        },
        "id": "0ede01a3-141a-4e1d-8494-70b5382020f6",
        "outputId": "18bef839-db83-4352-d8d7-f30c05e21497"
      },
      "outputs": [
        {
          "data": {
            "image/png": "[encoded data removed]",
            "text/plain": [
              "<Figure size 640x480 with 2 Axes>"
            ]
          },
          "metadata": {},
          "output_type": "display_data"
        }
      ],
      "source": [
        "# 트랜스폼 잘 구현되었는지 확인\n",
        "transform = transforms.Compose([FlipRot(),\n",
        "                                GammaCorrection(gamma_range=(0.4, 1.2)),\n",
        "                                Normalization(mean=0.5, std=0.5),\n",
        "                                ToTensor()])\n",
        "dataset_train = Dataset(data_dir=dir_save_train, transform=transform)\n",
        "data = dataset_train.__getitem__(0) # 한 이미지 불러오기\n",
        "input = data['input'][:,:,77]\n",
        "label = data['label'][:,:,77]\n",
        "\n",
        "# 불러온 이미지 시각화\n",
        "plt.subplot(122)\n",
        "plt.hist(label.flatten(), bins=20)\n",
        "plt.title('label')\n",
        "\n",
        "plt.subplot(121)\n",
        "plt.hist(input.flatten(), bins=20)\n",
        "plt.title('input')\n",
        "\n",
        "plt.tight_layout()\n",
        "plt.show()"
      ]
    },
    {
      "cell_type": "code",
      "execution_count": 280,
      "id": "0da0a130",
      "metadata": {},
      "outputs": [
        {
          "data": {
            "image/png": "[encoded data removed]",
            "text/plain": [
              "<Figure size 640x480 with 2 Axes>"
            ]
          },
          "metadata": {},
          "output_type": "display_data"
        }
      ],
      "source": [
        "# 트랜스폼 잘 구현되었는지 확인\n",
        "transform = transforms.Compose([FlipRot(),\n",
        "                                ElasticDeformation(),\n",
        "                                GammaCorrection(gamma_range=(0.4, 1.2)),\n",
        "                                Normalization(mean=0.5, std=0.5),\n",
        "                                ToTensor()])\n",
        "dataset_train = Dataset(data_dir=dir_save_train, transform=transform)\n",
        "data = dataset_train.__getitem__(0) # 한 이미지 불러오기\n",
        "input = data['input'][:,:,77]\n",
        "label = data['label'][:,:,77]\n",
        "\n",
        "# 불러온 이미지 시각화\n",
        "plt.subplot(122)\n",
        "plt.hist(label.flatten(), bins=20)\n",
        "plt.title('label')\n",
        "\n",
        "plt.subplot(121)\n",
        "plt.hist(input.flatten(), bins=20)\n",
        "plt.title('input')\n",
        "\n",
        "plt.tight_layout()\n",
        "plt.show()\n"
      ]
    },
    {
      "cell_type": "markdown",
      "id": "2e7f4903-a252-4e91-8564-c11045acaebd",
      "metadata": {
        "id": "2e7f4903-a252-4e91-8564-c11045acaebd"
      },
      "source": [
        "## 4. 네트워크 저장/불러오는 함수 정의하기"
      ]
    },
    {
      "cell_type": "code",
      "execution_count": 281,
      "id": "da08fbee-d67f-4ada-8015-fb011b94dd1a",
      "metadata": {
        "id": "da08fbee-d67f-4ada-8015-fb011b94dd1a"
      },
      "outputs": [],
      "source": [
        "## 네트워크 저장하기\n",
        "def save(ckpt_dir, net, optim, epoch):\n",
        "    if not os.path.exists(ckpt_dir):\n",
        "        os.makedirs(ckpt_dir)\n",
        "\n",
        "    torch.save({'net': net.state_dict(), 'optim': optim.state_dict()},\n",
        "               \"%s/model_epoch%d.pth\" % (ckpt_dir, epoch))\n",
        "\n",
        "## 네트워크 불러오기\n",
        "def load(ckpt_dir, net, optim):\n",
        "    if not os.path.exists(ckpt_dir):\n",
        "        epoch = 0\n",
        "        return net, optim, epoch\n",
        "\n",
        "    ckpt_lst = os.listdir(ckpt_dir)\n",
        "    ckpt_lst.sort(key=lambda f: int(''.join(filter(str.isdigit, f))))\n",
        "\n",
        "    dict_model = torch.load('%s/%s' % (ckpt_dir, ckpt_lst[-1]))\n",
        "\n",
        "    net.load_state_dict(dict_model['net'])\n",
        "    optim.load_state_dict(dict_model['optim'])\n",
        "    epoch = int(ckpt_lst[-1].split('epoch')[1].split('.pth')[0])\n",
        "\n",
        "    return net, optim, epoch"
      ]
    },
    {
      "cell_type": "markdown",
      "id": "a60ee484-5748-4a50-aeef-ed3e1e5248f6",
      "metadata": {
        "id": "a60ee484-5748-4a50-aeef-ed3e1e5248f6"
      },
      "source": [
        "## 5. 네트워크 훈련하기"
      ]
    },
    {
      "cell_type": "code",
      "execution_count": 282,
      "id": "d5b839ef-e876-4f81-992f-21fa9f9bfd0a",
      "metadata": {
        "id": "d5b839ef-e876-4f81-992f-21fa9f9bfd0a"
      },
      "outputs": [],
      "source": [
        "# 훈련 파라미터 설정하기\n",
        "param = {\n",
        "    \"model\": \"tsnet\", # unet, tsnet\n",
        "    \"aug\": \"fegn\", # 아래 transform에 맞게 변경\n",
        "    \"device\": \"cpu\",\n",
        "    \"loss\": \"BCE\", # \"MSE\", \"BCE\"\n",
        "    \"optimizer\": \"Adam\", # (Adam, SGD)\n",
        "    \"scheduler\": \"LambdaLR_0.995\", #(None,LambdaLR_[계수], MultiplicativeLR_[계수], StepLR_[step_size]_[gamma])\n",
        "    \"learning_rate\": 1e-3,\n",
        "    \"training_epochs\": 20,\n",
        "    \"batch_size\": 4,\n",
        "    \"num_workers\": 0\n",
        "    }\n",
        "\n",
        "base_dir = f'./runs/{param[\"model\"]}_{param[\"aug\"]}_{param[\"loss\"]}_{param[\"optimizer\"]}_{param[\"scheduler\"]}_{param[\"learning_rate\"]}_{param[\"training_epochs\"]}_{param[\"batch_size\"]}'\n",
        "data_dir = dir_data\n",
        "ckpt_dir = os.path.join(base_dir, \"checkpoint\")\n",
        "log_dir = os.path.join(base_dir, \"log\")\n",
        "\n"
      ]
    },
    {
      "cell_type": "code",
      "execution_count": 283,
      "id": "75588f5e-9193-4af6-ac45-723e35dad31c",
      "metadata": {
        "colab": {
          "base_uri": "https://localhost:8080/"
        },
        "id": "75588f5e-9193-4af6-ac45-723e35dad31c",
        "outputId": "9a9fbb57-70d8-482a-c201-6c1397273397"
      },
      "outputs": [],
      "source": [
        "\n",
        "# dataset_train = Dataset(data_dir=os.path.join(data_dir, 'train'), transform=transform)\n",
        "# loader_train = DataLoader(dataset_train, batch_size=param[\"batch_size\"], shuffle=True, num_workers=param[\"num_workers\"])\n",
        "\n",
        "# dataset_val = Dataset(data_dir=os.path.join(data_dir, 'val'), transform=transform)\n",
        "# loader_val = DataLoader(dataset_val, batch_size=param[\"batch_size\"], shuffle=False, num_workers=param[\"num_workers\"])\n",
        "\n",
        "# 훈련을 위한 Transform과 DataLoader\n",
        "# transform = transforms.Compose([ToTensor(),\n",
        "#                                 # Normalization(mean=0.5, std=0.5),\n",
        "#                                 # FlipRot(), \n",
        "#                                 GammaCorrection(gamma_range=(0.4, 1.2)), \n",
        "#                                 ResizeImage(output_size=(512,512)),\n",
        "#                                 MinMaxNormalization()])\n",
        "transform = transforms.Compose([FlipRot(),\n",
        "                                ElasticDeformation(),\n",
        "                                GammaCorrection(gamma_range=(0.4, 1.2)),\n",
        "                                ResizeImage(output_size=(256, 256, 155)),\n",
        "                                Normalization(mean=0.5, std=0.5),\n",
        "                                ToTensor()])\n",
        "\n",
        "# Whole Tumor Dataset\n",
        "dataset_train_whole_tumor = Dataset(data_dir=os.path.join(data_dir, 'train'), transform=transform)\n",
        "loader_train_whole_tumor = DataLoader(dataset_train_whole_tumor, batch_size=param[\"batch_size\"], shuffle=True, num_workers=param[\"num_workers\"])\n",
        "\n",
        "dataset_val_whole_tumor = Dataset(data_dir=os.path.join(data_dir, 'val'), transform=transform)\n",
        "loader_val_whole_tumor = DataLoader(dataset_val_whole_tumor, batch_size=param[\"batch_size\"], shuffle=False, num_workers=param[\"num_workers\"])\n",
        "\n",
        "# Tumor Core Dataset\n",
        "dataset_train_tumor_core = Dataset(data_dir=os.path.join(data_dir, 'train'), transform=transform)\n",
        "loader_train_tumor_core = DataLoader(dataset_train_tumor_core, batch_size=param[\"batch_size\"], shuffle=True, num_workers=param[\"num_workers\"])\n",
        "\n",
        "dataset_val_tumor_core = Dataset(data_dir=os.path.join(data_dir, 'val'), transform=transform)\n",
        "loader_val_tumor_core = DataLoader(dataset_val_tumor_core, batch_size=param[\"batch_size\"], shuffle=False, num_workers=param[\"num_workers\"])\n",
        "\n",
        "# Enhancing Tumor Core Dataset\n",
        "dataset_train_enhancing_tumor_core = Dataset(data_dir=os.path.join(data_dir, 'train'), transform=transform)\n",
        "loader_train_enhancing_tumor_core = DataLoader(dataset_train_enhancing_tumor_core, batch_size=param[\"batch_size\"], shuffle=True, num_workers=param[\"num_workers\"])\n",
        "\n",
        "dataset_val_enhancing_tumor_core = Dataset(data_dir=os.path.join(data_dir, 'val'), transform=transform)\n",
        "loader_val_enhancing_tumor_core = DataLoader(dataset_val_enhancing_tumor_core, batch_size=param[\"batch_size\"], shuffle=False, num_workers=param[\"num_workers\"])\n",
        "\n",
        "\n",
        "\n",
        "device = torch.device('cuda' if torch.cuda.is_available() else 'cpu')\n",
        "\n",
        "# 네트워크 생성하기\n",
        "if param[\"model\"] == \"unet\":\n",
        "    net_whole_tumor = UNet().to(device) \n",
        "    net_tumor_core = UNet().to(device)\n",
        "    net_enhancing_tumor_core = UNet().to(device)\n",
        "elif param[\"model\"] == \"tsnet\":\n",
        "    net_whole_tumor = make_TS_Net().to(device)\n",
        "    net_tumor_core = make_TS_Net().to(device)\n",
        "    net_enhancing_tumor_core = make_TS_Net().to(device)\n",
        "\n",
        "# Define the loss function and optimizer\n",
        "if param[\"loss\"] == \"MSE\":\n",
        "    fn_loss = nn.MSELoss().to(device)\n",
        "elif param[\"loss\"] == \"BCE\":\n",
        "    fn_loss = nn.BCEWithLogitsLoss().to(device)\n",
        "else:\n",
        "    print(\"올바른 loss function을 설정해주세요. (MSE)\")\n",
        "\n",
        "# Optimizer 설정하기\n",
        "if param[\"optimizer\"] == \"Adam\":\n",
        "    optim_whole_tumor = torch.optim.Adam(net_whole_tumor.parameters(), lr=param[\"learning_rate\"])\n",
        "    optim_tumor_core = torch.optim.Adam(net_tumor_core.parameters(), lr=param[\"learning_rate\"])\n",
        "    optim_enhancing_tumor_core = torch.optim.Adam(net_enhancing_tumor_core.parameters(), lr=param[\"learning_rate\"])\n",
        "elif param[\"optimizer\"] == \"SGD\":\n",
        "    optim_whole_tumor = torch.optim.SGD(net_whole_tumor.parameters() , lr=param[\"learning_rate\"])\n",
        "    optim_tumor_core = torch.optim.SGD(net_tumor_core.parameters() , lr=param[\"learning_rate\"])\n",
        "    optim_enhancing_tumor_core = torch.optim.SGD(net_enhancing_tumor_core.parameters() , lr=param[\"learning_rate\"])\n",
        "else:\n",
        "    print(\"올바른 optimizer를 입력해 주세요. (Adam, SGD)\")\n",
        "\n",
        "# Scheduler 설정하기\n",
        "if param[\"scheduler\"] == \"None\":\n",
        "    scheduler_whole_tumor = False\n",
        "    scheduler_tumor_core = False\n",
        "    scheduler_enhancing_tumor_core = False\n",
        "elif param[\"scheduler\"].split(\"_\")[0] == \"LambdaLR\":\n",
        "    lambda_coefficient = float(param[\"scheduler\"].split(\"_\")[1])\n",
        "    scheduler_whole_tumor = torch.optim.lr_scheduler.LambdaLR(optimizer=optim_whole_tumor, lr_lambda=lambda epoch: lambda_coefficient ** epoch)\n",
        "    scheduler_tumor_core = torch.optim.lr_scheduler.LambdaLR(optimizer=optim_tumor_core, lr_lambda=lambda epoch: lambda_coefficient ** epoch)\n",
        "    scheduler_enhancing_tumor_core = torch.optim.lr_scheduler.LambdaLR(optimizer=optim_enhancing_tumor_core, lr_lambda=lambda epoch: lambda_coefficient ** epoch)\n",
        "elif param[\"scheduler\"].split(\"_\")[0] == \"MultiplicativeLR\":\n",
        "    lambda_coefficient = float(param[\"scheduler\"].split(\"_\")[1])\n",
        "    scheduler_whole_tumor = torch.optim.lr_scheduler.MultiplicativeLR(optimizer=optim_whole_tumor, lr_lambda=lambda epoch: lambda_coefficient ** epoch)\n",
        "    scheduler_tumor_core = torch.optim.lr_scheduler.MultiplicativeLR(optimizer=optim_tumor_core, lr_lambda=lambda epoch: lambda_coefficient ** epoch)\n",
        "    scheduler_enhancing_tumor_core = torch.optim.lr_scheduler.MultiplicativeLR(optimizer=optim_enhancing_tumor_core, lr_lambda=lambda epoch: lambda_coefficient ** epoch)\n",
        "elif param[\"scheduler\"].split(\"_\")[0] == \"StepLR\":\n",
        "    param_scheduler = param[\"scheduler\"].split(\"_\")\n",
        "    step_size = int(param_scheduler[1])\n",
        "    gamma = float(param_scheduler[2])\n",
        "    scheduler_whole_tumor = torch.optim.lr_scheduler.StepLR(optim_whole_tumor, step_size=step_size, gamma=gamma)\n",
        "    scheduler_tumor_core = torch.optim.lr_scheduler.StepLR(optim_tumor_core, step_size=step_size, gamma=gamma)\n",
        "    scheduler_enhancing_tumor_core = torch.optim.lr_scheduler.StepLR(optim_enhancing_tumor_core, step_size=step_size, gamma=gamma)\n",
        "else:\n",
        "    scheduler_whole_tumor = False\n",
        "    scheduler_tumor_core = False\n",
        "    scheduler_enhancing_tumor_core = False\n",
        "    print(\"올바른 스케줄러를 입력하세요. (None, LambdaLR_[계수], MultiplicativeLR_[계수], StepLR_[step_size]_[gamma])\")\n",
        "\n",
        "\n",
        "# 그밖에 부수적인 variables 설정하기\n",
        "num_data_train = len(dataset_train_whole_tumor)\n",
        "num_data_val = len(loader_train_whole_tumor)\n",
        "\n",
        "num_batch_train = np.ceil(num_data_train / param[\"batch_size\"])\n",
        "num_batch_val = np.ceil(num_data_val / param[\"batch_size\"])\n",
        "\n",
        "# 그 밖에 부수적인 functions 설정하기\n",
        "fn_tonumpy = lambda x: x.to('cpu').detach().numpy().transpose(0, 2, 3, 1)\n",
        "fn_denorm = lambda x, mean, std: (x * std) + mean\n",
        "fn_class = lambda x: 1.0 * (x > 0.5)"
      ]
    },
    {
      "cell_type": "code",
      "execution_count": 284,
      "id": "17456195-4e50-4ca7-aeb0-c593a755af12",
      "metadata": {
        "id": "17456195-4e50-4ca7-aeb0-c593a755af12"
      },
      "outputs": [],
      "source": [
        "# Tensorboard 를 사용하기 위한 SummaryWriter 설정\n",
        "writer_train = SummaryWriter(log_dir=os.path.join(log_dir, 'train'))\n",
        "writer_val = SummaryWriter(log_dir=os.path.join(log_dir, 'val'))"
      ]
    },
    {
      "cell_type": "code",
      "execution_count": 285,
      "id": "8f658923-d68b-4e6d-b249-e3f83c366705",
      "metadata": {
        "id": "8f658923-d68b-4e6d-b249-e3f83c366705"
      },
      "outputs": [],
      "source": [
        "# 네트워크 학습시키기\n",
        "st_epoch = 0\n",
        "# 학습한 모델이 있을 경우 모델 로드하기\n",
        "# net, optim, st_epoch = load(ckpt_dir=ckpt_dir, net=net, optim=optim)"
      ]
    },
    {
      "cell_type": "code",
      "execution_count": 286,
      "id": "d17e4bd3",
      "metadata": {},
      "outputs": [],
      "source": [
        "def crop_input_based_on_output(input_image, output_whole_tumor, label_whole_tumor, threshold=0.5):\n",
        "    # 이 함수에서 input_image는 첫 번째 모델의 입력 이미지입니다.\n",
        "    # output_whole_tumor는 첫 번째 모델의 출력입니다.\n",
        "    # label_whole_tumor는 첫 번째 모델의 정답 레이블입니다.\n",
        "    # threshold는 임계값으로, 기본값은 0.5입니다.\n",
        "\n",
        "    # 여기서 output_whole_tumor를 기반으로 입력 이미지를 잘라내거나 크기를 조정하여 \n",
        "    # 두 번째 모델인 tumor core 모델의 입력으로 생성합니다.\n",
        "\n",
        "    # 예시: output_whole_tumor를 기준으로 입력 이미지를 crop하는 방법\n",
        "    # 예시에서는 output_whole_tumor가 바이너리 세그멘테이션 맵으로 가정합니다.\n",
        "    # 세그멘테이션 맵을 기반으로 입력 이미지를 crop하여 반환합니다.\n",
        "\n",
        "    # 세그멘테이션 맵에서 유효한 영역을 가져옵니다.\n",
        "    valid_area = output_whole_tumor > threshold\n",
        "\n",
        "    # 세그멘테이션 맵을 기반으로 입력 이미지를 crop합니다.\n",
        "    # 여기서는 PyTorch의 indexing을 사용하여 crop할 수 있습니다.\n",
        "    cropped_input_image = input_image[:, valid_area]\n",
        "\n",
        "    # 반환된 crop된 이미지를 tumor core 모델의 입력으로 사용합니다.\n",
        "    return cropped_input_image, label_whole_tumor[:, valid_area]  # label_whole_tumor도 동일한 영역으로 잘라내어야 합니다."
      ]
    },
    {
      "cell_type": "code",
      "execution_count": 287,
      "id": "b12b929d",
      "metadata": {},
      "outputs": [
        {
          "name": "stderr",
          "output_type": "stream",
          "text": [
            "/var/folders/3c/tqn138d95dz87nrgybs0rgfw0000gn/T/ipykernel_85724/299734409.py:97: RuntimeWarning: invalid value encountered in power\n",
            "  input = input ** gamma\n"
          ]
        },
        {
          "ename": "ValueError",
          "evalue": "Input and output must have the same number of spatial dimensions, but got input with spatial dimensions of [240, 240, 155, 1] and output size of (256, 256, 155). Please provide input tensor in (N, C, d1, d2, ...,dK) format and output size in (o1, o2, ...,oK) format.",
          "output_type": "error",
          "traceback": [
            "\u001b[0;31m---------------------------------------------------------------------------\u001b[0m",
            "\u001b[0;31mValueError\u001b[0m                                Traceback (most recent call last)",
            "Cell \u001b[0;32mIn[287], line 47\u001b[0m\n\u001b[1;32m     45\u001b[0m \u001b[38;5;66;03m# Training loop\u001b[39;00m\n\u001b[1;32m     46\u001b[0m \u001b[38;5;28;01mfor\u001b[39;00m epoch \u001b[38;5;129;01min\u001b[39;00m \u001b[38;5;28mrange\u001b[39m(st_epoch \u001b[38;5;241m+\u001b[39m \u001b[38;5;241m1\u001b[39m, param[\u001b[38;5;124m\"\u001b[39m\u001b[38;5;124mtraining_epochs\u001b[39m\u001b[38;5;124m\"\u001b[39m] \u001b[38;5;241m+\u001b[39m \u001b[38;5;241m1\u001b[39m):\n\u001b[0;32m---> 47\u001b[0m     \u001b[43mtrain_model\u001b[49m\u001b[43m(\u001b[49m\u001b[43mnet_whole_tumor\u001b[49m\u001b[43m,\u001b[49m\u001b[43m \u001b[49m\u001b[43moptim_whole_tumor\u001b[49m\u001b[43m,\u001b[49m\u001b[43m \u001b[49m\u001b[43mscheduler_whole_tumor\u001b[49m\u001b[43m,\u001b[49m\u001b[43m \u001b[49m\u001b[43mloader_train_whole_tumor\u001b[49m\u001b[43m,\u001b[49m\u001b[43m \u001b[49m\u001b[43mwriter_train\u001b[49m\u001b[43m,\u001b[49m\u001b[43m \u001b[49m\u001b[43mepoch\u001b[49m\u001b[43m,\u001b[49m\u001b[43m \u001b[49m\u001b[38;5;124;43m'\u001b[39;49m\u001b[38;5;124;43mtrain\u001b[39;49m\u001b[38;5;124;43m'\u001b[39;49m\u001b[43m)\u001b[49m\n\u001b[1;32m     48\u001b[0m     train_model(net_whole_tumor, \u001b[38;5;28;01mNone\u001b[39;00m, \u001b[38;5;28;01mNone\u001b[39;00m, loader_val_whole_tumor, writer_val, epoch, \u001b[38;5;124m'\u001b[39m\u001b[38;5;124mval\u001b[39m\u001b[38;5;124m'\u001b[39m)\n\u001b[1;32m     50\u001b[0m     \u001b[38;5;66;03m# Apply crop and forward the cropped output to the next model\u001b[39;00m\n",
            "Cell \u001b[0;32mIn[287], line 5\u001b[0m, in \u001b[0;36mtrain_model\u001b[0;34m(net, optimizer, scheduler, data_loader, writer, epoch, phase)\u001b[0m\n\u001b[1;32m      2\u001b[0m net\u001b[38;5;241m.\u001b[39mtrain() \u001b[38;5;28;01mif\u001b[39;00m phase \u001b[38;5;241m==\u001b[39m \u001b[38;5;124m'\u001b[39m\u001b[38;5;124mtrain\u001b[39m\u001b[38;5;124m'\u001b[39m \u001b[38;5;28;01melse\u001b[39;00m net\u001b[38;5;241m.\u001b[39meval()\n\u001b[1;32m      3\u001b[0m loss_arr \u001b[38;5;241m=\u001b[39m []\n\u001b[0;32m----> 5\u001b[0m \u001b[38;5;28;01mfor\u001b[39;00m batch, data \u001b[38;5;129;01min\u001b[39;00m \u001b[38;5;28menumerate\u001b[39m(data_loader, \u001b[38;5;241m1\u001b[39m):\n\u001b[1;32m      6\u001b[0m     label \u001b[38;5;241m=\u001b[39m data[\u001b[38;5;124m'\u001b[39m\u001b[38;5;124mlabel\u001b[39m\u001b[38;5;124m'\u001b[39m]\u001b[38;5;241m.\u001b[39mto(device)\n\u001b[1;32m      7\u001b[0m     \u001b[38;5;28minput\u001b[39m \u001b[38;5;241m=\u001b[39m data[\u001b[38;5;124m'\u001b[39m\u001b[38;5;124minput\u001b[39m\u001b[38;5;124m'\u001b[39m]\u001b[38;5;241m.\u001b[39mto(device)\n",
            "File \u001b[0;32m~/opt/anaconda3/envs/3dseg/lib/python3.10/site-packages/torch/utils/data/dataloader.py:631\u001b[0m, in \u001b[0;36m_BaseDataLoaderIter.__next__\u001b[0;34m(self)\u001b[0m\n\u001b[1;32m    628\u001b[0m \u001b[38;5;28;01mif\u001b[39;00m \u001b[38;5;28mself\u001b[39m\u001b[38;5;241m.\u001b[39m_sampler_iter \u001b[38;5;129;01mis\u001b[39;00m \u001b[38;5;28;01mNone\u001b[39;00m:\n\u001b[1;32m    629\u001b[0m     \u001b[38;5;66;03m# TODO(https://github.com/pytorch/pytorch/issues/76750)\u001b[39;00m\n\u001b[1;32m    630\u001b[0m     \u001b[38;5;28mself\u001b[39m\u001b[38;5;241m.\u001b[39m_reset()  \u001b[38;5;66;03m# type: ignore[call-arg]\u001b[39;00m\n\u001b[0;32m--> 631\u001b[0m data \u001b[38;5;241m=\u001b[39m \u001b[38;5;28;43mself\u001b[39;49m\u001b[38;5;241;43m.\u001b[39;49m\u001b[43m_next_data\u001b[49m\u001b[43m(\u001b[49m\u001b[43m)\u001b[49m\n\u001b[1;32m    632\u001b[0m \u001b[38;5;28mself\u001b[39m\u001b[38;5;241m.\u001b[39m_num_yielded \u001b[38;5;241m+\u001b[39m\u001b[38;5;241m=\u001b[39m \u001b[38;5;241m1\u001b[39m\n\u001b[1;32m    633\u001b[0m \u001b[38;5;28;01mif\u001b[39;00m \u001b[38;5;28mself\u001b[39m\u001b[38;5;241m.\u001b[39m_dataset_kind \u001b[38;5;241m==\u001b[39m _DatasetKind\u001b[38;5;241m.\u001b[39mIterable \u001b[38;5;129;01mand\u001b[39;00m \\\n\u001b[1;32m    634\u001b[0m         \u001b[38;5;28mself\u001b[39m\u001b[38;5;241m.\u001b[39m_IterableDataset_len_called \u001b[38;5;129;01mis\u001b[39;00m \u001b[38;5;129;01mnot\u001b[39;00m \u001b[38;5;28;01mNone\u001b[39;00m \u001b[38;5;129;01mand\u001b[39;00m \\\n\u001b[1;32m    635\u001b[0m         \u001b[38;5;28mself\u001b[39m\u001b[38;5;241m.\u001b[39m_num_yielded \u001b[38;5;241m>\u001b[39m \u001b[38;5;28mself\u001b[39m\u001b[38;5;241m.\u001b[39m_IterableDataset_len_called:\n",
            "File \u001b[0;32m~/opt/anaconda3/envs/3dseg/lib/python3.10/site-packages/torch/utils/data/dataloader.py:675\u001b[0m, in \u001b[0;36m_SingleProcessDataLoaderIter._next_data\u001b[0;34m(self)\u001b[0m\n\u001b[1;32m    673\u001b[0m \u001b[38;5;28;01mdef\u001b[39;00m \u001b[38;5;21m_next_data\u001b[39m(\u001b[38;5;28mself\u001b[39m):\n\u001b[1;32m    674\u001b[0m     index \u001b[38;5;241m=\u001b[39m \u001b[38;5;28mself\u001b[39m\u001b[38;5;241m.\u001b[39m_next_index()  \u001b[38;5;66;03m# may raise StopIteration\u001b[39;00m\n\u001b[0;32m--> 675\u001b[0m     data \u001b[38;5;241m=\u001b[39m \u001b[38;5;28;43mself\u001b[39;49m\u001b[38;5;241;43m.\u001b[39;49m\u001b[43m_dataset_fetcher\u001b[49m\u001b[38;5;241;43m.\u001b[39;49m\u001b[43mfetch\u001b[49m\u001b[43m(\u001b[49m\u001b[43mindex\u001b[49m\u001b[43m)\u001b[49m  \u001b[38;5;66;03m# may raise StopIteration\u001b[39;00m\n\u001b[1;32m    676\u001b[0m     \u001b[38;5;28;01mif\u001b[39;00m \u001b[38;5;28mself\u001b[39m\u001b[38;5;241m.\u001b[39m_pin_memory:\n\u001b[1;32m    677\u001b[0m         data \u001b[38;5;241m=\u001b[39m _utils\u001b[38;5;241m.\u001b[39mpin_memory\u001b[38;5;241m.\u001b[39mpin_memory(data, \u001b[38;5;28mself\u001b[39m\u001b[38;5;241m.\u001b[39m_pin_memory_device)\n",
            "File \u001b[0;32m~/opt/anaconda3/envs/3dseg/lib/python3.10/site-packages/torch/utils/data/_utils/fetch.py:51\u001b[0m, in \u001b[0;36m_MapDatasetFetcher.fetch\u001b[0;34m(self, possibly_batched_index)\u001b[0m\n\u001b[1;32m     49\u001b[0m         data \u001b[38;5;241m=\u001b[39m \u001b[38;5;28mself\u001b[39m\u001b[38;5;241m.\u001b[39mdataset\u001b[38;5;241m.\u001b[39m__getitems__(possibly_batched_index)\n\u001b[1;32m     50\u001b[0m     \u001b[38;5;28;01melse\u001b[39;00m:\n\u001b[0;32m---> 51\u001b[0m         data \u001b[38;5;241m=\u001b[39m [\u001b[38;5;28mself\u001b[39m\u001b[38;5;241m.\u001b[39mdataset[idx] \u001b[38;5;28;01mfor\u001b[39;00m idx \u001b[38;5;129;01min\u001b[39;00m possibly_batched_index]\n\u001b[1;32m     52\u001b[0m \u001b[38;5;28;01melse\u001b[39;00m:\n\u001b[1;32m     53\u001b[0m     data \u001b[38;5;241m=\u001b[39m \u001b[38;5;28mself\u001b[39m\u001b[38;5;241m.\u001b[39mdataset[possibly_batched_index]\n",
            "File \u001b[0;32m~/opt/anaconda3/envs/3dseg/lib/python3.10/site-packages/torch/utils/data/_utils/fetch.py:51\u001b[0m, in \u001b[0;36m<listcomp>\u001b[0;34m(.0)\u001b[0m\n\u001b[1;32m     49\u001b[0m         data \u001b[38;5;241m=\u001b[39m \u001b[38;5;28mself\u001b[39m\u001b[38;5;241m.\u001b[39mdataset\u001b[38;5;241m.\u001b[39m__getitems__(possibly_batched_index)\n\u001b[1;32m     50\u001b[0m     \u001b[38;5;28;01melse\u001b[39;00m:\n\u001b[0;32m---> 51\u001b[0m         data \u001b[38;5;241m=\u001b[39m [\u001b[38;5;28;43mself\u001b[39;49m\u001b[38;5;241;43m.\u001b[39;49m\u001b[43mdataset\u001b[49m\u001b[43m[\u001b[49m\u001b[43midx\u001b[49m\u001b[43m]\u001b[49m \u001b[38;5;28;01mfor\u001b[39;00m idx \u001b[38;5;129;01min\u001b[39;00m possibly_batched_index]\n\u001b[1;32m     52\u001b[0m \u001b[38;5;28;01melse\u001b[39;00m:\n\u001b[1;32m     53\u001b[0m     data \u001b[38;5;241m=\u001b[39m \u001b[38;5;28mself\u001b[39m\u001b[38;5;241m.\u001b[39mdataset[possibly_batched_index]\n",
            "Cell \u001b[0;32mIn[246], line 53\u001b[0m, in \u001b[0;36mDataset.__getitem__\u001b[0;34m(self, index)\u001b[0m\n\u001b[1;32m     51\u001b[0m \u001b[38;5;66;03m# transform이 정의되어 있다면 transform을 거친 데이터를 불러옴\u001b[39;00m\n\u001b[1;32m     52\u001b[0m \u001b[38;5;28;01mif\u001b[39;00m \u001b[38;5;28mself\u001b[39m\u001b[38;5;241m.\u001b[39mtransform:\n\u001b[0;32m---> 53\u001b[0m     \u001b[38;5;28mself\u001b[39m\u001b[38;5;241m.\u001b[39mdata \u001b[38;5;241m=\u001b[39m \u001b[38;5;28;43mself\u001b[39;49m\u001b[38;5;241;43m.\u001b[39;49m\u001b[43mtransform\u001b[49m\u001b[43m(\u001b[49m\u001b[38;5;28;43mself\u001b[39;49m\u001b[38;5;241;43m.\u001b[39;49m\u001b[43mdata\u001b[49m\u001b[43m)\u001b[49m\n\u001b[1;32m     55\u001b[0m \u001b[38;5;28;01mreturn\u001b[39;00m \u001b[38;5;28mself\u001b[39m\u001b[38;5;241m.\u001b[39mdata\n",
            "File \u001b[0;32m~/opt/anaconda3/envs/3dseg/lib/python3.10/site-packages/torchvision/transforms/transforms.py:95\u001b[0m, in \u001b[0;36mCompose.__call__\u001b[0;34m(self, img)\u001b[0m\n\u001b[1;32m     93\u001b[0m \u001b[38;5;28;01mdef\u001b[39;00m \u001b[38;5;21m__call__\u001b[39m(\u001b[38;5;28mself\u001b[39m, img):\n\u001b[1;32m     94\u001b[0m     \u001b[38;5;28;01mfor\u001b[39;00m t \u001b[38;5;129;01min\u001b[39;00m \u001b[38;5;28mself\u001b[39m\u001b[38;5;241m.\u001b[39mtransforms:\n\u001b[0;32m---> 95\u001b[0m         img \u001b[38;5;241m=\u001b[39m \u001b[43mt\u001b[49m\u001b[43m(\u001b[49m\u001b[43mimg\u001b[49m\u001b[43m)\u001b[49m\n\u001b[1;32m     96\u001b[0m     \u001b[38;5;28;01mreturn\u001b[39;00m img\n",
            "Cell \u001b[0;32mIn[278], line 44\u001b[0m, in \u001b[0;36mResizeImage.__call__\u001b[0;34m(self, data)\u001b[0m\n\u001b[1;32m     42\u001b[0m \u001b[38;5;66;03m# 이미지 크기 변경\u001b[39;00m\n\u001b[1;32m     43\u001b[0m label \u001b[38;5;241m=\u001b[39m torch\u001b[38;5;241m.\u001b[39mfrom_numpy(label)\u001b[38;5;241m.\u001b[39munsqueeze(\u001b[38;5;241m0\u001b[39m)\u001b[38;5;241m.\u001b[39munsqueeze(\u001b[38;5;241m0\u001b[39m)  \u001b[38;5;66;03m# 배치 차원 추가\u001b[39;00m\n\u001b[0;32m---> 44\u001b[0m label \u001b[38;5;241m=\u001b[39m \u001b[43mF\u001b[49m\u001b[38;5;241;43m.\u001b[39;49m\u001b[43minterpolate\u001b[49m\u001b[43m(\u001b[49m\u001b[43mlabel\u001b[49m\u001b[43m,\u001b[49m\u001b[43m \u001b[49m\u001b[43msize\u001b[49m\u001b[38;5;241;43m=\u001b[39;49m\u001b[38;5;28;43mself\u001b[39;49m\u001b[38;5;241;43m.\u001b[39;49m\u001b[43moutput_size\u001b[49m\u001b[43m,\u001b[49m\u001b[43m \u001b[49m\u001b[43mmode\u001b[49m\u001b[38;5;241;43m=\u001b[39;49m\u001b[38;5;124;43m'\u001b[39;49m\u001b[38;5;124;43mbilinear\u001b[39;49m\u001b[38;5;124;43m'\u001b[39;49m\u001b[43m,\u001b[49m\u001b[43m \u001b[49m\u001b[43malign_corners\u001b[49m\u001b[38;5;241;43m=\u001b[39;49m\u001b[38;5;28;43;01mFalse\u001b[39;49;00m\u001b[43m)\u001b[49m\n\u001b[1;32m     45\u001b[0m label \u001b[38;5;241m=\u001b[39m label\u001b[38;5;241m.\u001b[39msqueeze(\u001b[38;5;241m0\u001b[39m)\u001b[38;5;241m.\u001b[39msqueeze(\u001b[38;5;241m0\u001b[39m)\u001b[38;5;241m.\u001b[39mnumpy()  \u001b[38;5;66;03m# 오류 수정\u001b[39;00m\n\u001b[1;32m     47\u001b[0m \u001b[38;5;28minput\u001b[39m \u001b[38;5;241m=\u001b[39m torch\u001b[38;5;241m.\u001b[39mfrom_numpy(\u001b[38;5;28minput\u001b[39m)\u001b[38;5;241m.\u001b[39munsqueeze(\u001b[38;5;241m0\u001b[39m)\u001b[38;5;241m.\u001b[39munsqueeze(\u001b[38;5;241m0\u001b[39m)  \u001b[38;5;66;03m# 배치 차원 추가\u001b[39;00m\n",
            "File \u001b[0;32m~/opt/anaconda3/envs/3dseg/lib/python3.10/site-packages/torch/nn/functional.py:3934\u001b[0m, in \u001b[0;36minterpolate\u001b[0;34m(input, size, scale_factor, mode, align_corners, recompute_scale_factor, antialias)\u001b[0m\n\u001b[1;32m   3932\u001b[0m \u001b[38;5;28;01mif\u001b[39;00m \u001b[38;5;28misinstance\u001b[39m(size, (\u001b[38;5;28mlist\u001b[39m, \u001b[38;5;28mtuple\u001b[39m)):\n\u001b[1;32m   3933\u001b[0m     \u001b[38;5;28;01mif\u001b[39;00m \u001b[38;5;28mlen\u001b[39m(size) \u001b[38;5;241m!=\u001b[39m dim:\n\u001b[0;32m-> 3934\u001b[0m         \u001b[38;5;28;01mraise\u001b[39;00m \u001b[38;5;167;01mValueError\u001b[39;00m(\n\u001b[1;32m   3935\u001b[0m             \u001b[38;5;124m\"\u001b[39m\u001b[38;5;124mInput and output must have the same number of spatial dimensions, but got \u001b[39m\u001b[38;5;124m\"\u001b[39m\n\u001b[1;32m   3936\u001b[0m             \u001b[38;5;124mf\u001b[39m\u001b[38;5;124m\"\u001b[39m\u001b[38;5;124minput with spatial dimensions of \u001b[39m\u001b[38;5;132;01m{\u001b[39;00m\u001b[38;5;28mlist\u001b[39m(\u001b[38;5;28minput\u001b[39m\u001b[38;5;241m.\u001b[39mshape[\u001b[38;5;241m2\u001b[39m:])\u001b[38;5;132;01m}\u001b[39;00m\u001b[38;5;124m and output size of \u001b[39m\u001b[38;5;132;01m{\u001b[39;00msize\u001b[38;5;132;01m}\u001b[39;00m\u001b[38;5;124m. \u001b[39m\u001b[38;5;124m\"\u001b[39m\n\u001b[1;32m   3937\u001b[0m             \u001b[38;5;124m\"\u001b[39m\u001b[38;5;124mPlease provide input tensor in (N, C, d1, d2, ...,dK) format and \u001b[39m\u001b[38;5;124m\"\u001b[39m\n\u001b[1;32m   3938\u001b[0m             \u001b[38;5;124m\"\u001b[39m\u001b[38;5;124moutput size in (o1, o2, ...,oK) format.\u001b[39m\u001b[38;5;124m\"\u001b[39m\n\u001b[1;32m   3939\u001b[0m         )\n\u001b[1;32m   3940\u001b[0m     \u001b[38;5;28;01mif\u001b[39;00m \u001b[38;5;129;01mnot\u001b[39;00m torch\u001b[38;5;241m.\u001b[39mjit\u001b[38;5;241m.\u001b[39mis_scripting():\n\u001b[1;32m   3941\u001b[0m         \u001b[38;5;28;01mif\u001b[39;00m \u001b[38;5;129;01mnot\u001b[39;00m \u001b[38;5;28mall\u001b[39m(_is_integer(x) \u001b[38;5;28;01mfor\u001b[39;00m x \u001b[38;5;129;01min\u001b[39;00m size):\n",
            "\u001b[0;31mValueError\u001b[0m: Input and output must have the same number of spatial dimensions, but got input with spatial dimensions of [240, 240, 155, 1] and output size of (256, 256, 155). Please provide input tensor in (N, C, d1, d2, ...,dK) format and output size in (o1, o2, ...,oK) format."
          ]
        }
      ],
      "source": [
        "def train_model(net, optimizer, scheduler, data_loader, writer, epoch, phase):\n",
        "    net.train() if phase == 'train' else net.eval()\n",
        "    loss_arr = []\n",
        "\n",
        "    for batch, data in enumerate(data_loader, 1):\n",
        "        label = data['label'].to(device)\n",
        "        input = data['input'].to(device)\n",
        "\n",
        "        output = net(input)\n",
        "\n",
        "        if phase == 'train':\n",
        "            optimizer.zero_grad()\n",
        "\n",
        "        loss = fn_loss(output, label)\n",
        "        if phase == 'train':\n",
        "            loss.backward()\n",
        "            optimizer.step()\n",
        "\n",
        "        loss_arr += [loss.item()]\n",
        "\n",
        "        print(\"%s: EPOCH %04d / %04d | BATCH %04d / %04d | LOSS %.4f\" %\n",
        "              (phase.upper(), epoch, param[\"training_epochs\"], batch, len(data_loader), np.mean(loss_arr)), end=\"\")\n",
        "        if scheduler and phase == 'train':\n",
        "            print(\" | LR\",*scheduler.get_last_lr())\n",
        "        elif phase == 'train':\n",
        "            print(\" | LR\",optimizer.param_groups[0]['lr'])\n",
        "        else:\n",
        "            print()\n",
        "\n",
        "        label = fn_tonumpy(label)\n",
        "        input = fn_tonumpy(fn_denorm(input, mean=0.5, std=0.5))\n",
        "        output = fn_tonumpy(fn_class(output))\n",
        "\n",
        "        writer.add_image('label', label, len(data_loader) * (epoch - 1) + batch, dataformats='NHWC')\n",
        "        writer.add_image('input', input, len(data_loader) * (epoch - 1) + batch, dataformats='NHWC')\n",
        "        writer.add_image('output', output, len(data_loader) * (epoch - 1) + batch, dataformats='NHWC')\n",
        "    if scheduler and phase == 'train':\n",
        "      scheduler.step()\n",
        "      writer.add_scalar('learning_rate', *scheduler.get_last_lr())\n",
        "    elif phase == 'train':\n",
        "      writer.add_scalar('learning_rate', optimizer.param_groups[0]['lr'])\n",
        "    writer.add_scalar('loss', np.mean(loss_arr), epoch)\n",
        "\n",
        "\n",
        "# Training loop\n",
        "for epoch in range(st_epoch + 1, param[\"training_epochs\"] + 1):\n",
        "    train_model(net_whole_tumor, optim_whole_tumor, scheduler_whole_tumor, loader_train_whole_tumor, writer_train, epoch, 'train')\n",
        "    train_model(net_whole_tumor, None, None, loader_val_whole_tumor, writer_val, epoch, 'val')\n",
        "    \n",
        "    # Apply crop and forward the cropped output to the next model\n",
        "    loader_train_tumor_core.dataset.update_cropped_data(net_whole_tumor)\n",
        "    train_model(net_tumor_core, optim_tumor_core, scheduler_tumor_core, loader_train_tumor_core, writer_train, epoch, 'train')\n",
        "    train_model(net_tumor_core, None, None, loader_val_tumor_core, writer_val, epoch, 'val')\n",
        "\n",
        "    # Apply crop and forward the cropped output to the next model\n",
        "    loader_train_enhancing_tumor_core.dataset.update_cropped_data(net_tumor_core)\n",
        "    train_model(net_enhancing_tumor_core, optim_enhancing_tumor_core, scheduler_enhancing_tumor_core, loader_train_enhancing_tumor_core, writer_train, epoch, 'train')\n",
        "    train_model(net_enhancing_tumor_core, None, None, loader_val_enhancing_tumor_core, writer_val, epoch, 'val')\n",
        "\n",
        "    # Save models every 50 epochs\n",
        "    if epoch % 50 == 0:\n",
        "        save(ckpt_dir=ckpt_dir, net=net_whole_tumor, optim=optim_whole_tumor, epoch=epoch)\n",
        "        save(ckpt_dir=ckpt_dir, net=net_tumor_core, optim=optim_tumor_core, epoch=epoch)\n",
        "        save(ckpt_dir=ckpt_dir, net=net_enhancing_tumor_core, optim=optim_enhancing_tumor_core, epoch=epoch)\n",
        "\n",
        "# Close writers\n",
        "writer_train.close()\n",
        "writer_val.close()"
      ]
    },
    {
      "cell_type": "code",
      "execution_count": null,
      "id": "7015893d",
      "metadata": {},
      "outputs": [],
      "source": [
        "def train_model(net, optimizer, scheduler, data_loader, writer, epoch, phase):\n",
        "    net.train() if phase == 'train' else net.eval()\n",
        "    loss_arr = []\n",
        "\n",
        "    for batch, data in enumerate(data_loader, 1):\n",
        "        label = data['label'].to(device)\n",
        "        input = data['input'].to(device)\n",
        "\n",
        "        if phase == 'train':\n",
        "            optimizer.zero_grad()\n",
        "\n",
        "        output = net(input)\n",
        "\n",
        "        # If in training phase, use output for the next model\n",
        "        if phase == 'train':\n",
        "            cropped_input = crop_input_based_on_output(input, output)\n",
        "            next_model_output = net(cropped_input)\n",
        "            loss = fn_loss(next_model_output, label)\n",
        "            loss.backward()\n",
        "            optimizer.step()\n",
        "        else:\n",
        "            loss = fn_loss(output, label)\n",
        "\n",
        "        loss_arr += [loss.item()]\n",
        "\n",
        "        print(\"%s: EPOCH %04d / %04d | BATCH %04d / %04d | LOSS %.4f\" %\n",
        "              (phase.upper(), epoch, param[\"training_epochs\"], batch, len(data_loader), np.mean(loss_arr)), end=\"\")\n",
        "        if scheduler and phase == 'train':\n",
        "            print(\" | LR\",*scheduler.get_last_lr())\n",
        "        elif phase == 'train':\n",
        "            print(\" | LR\",optimizer.param_groups[0]['lr'])\n",
        "        else:\n",
        "            print()\n",
        "\n",
        "        label = fn_tonumpy(label)\n",
        "        input = fn_tonumpy(fn_denorm(input, mean=0.5, std=0.5))\n",
        "        output = fn_tonumpy(fn_class(output))\n",
        "\n",
        "        writer.add_image('label', label, len(data_loader) * (epoch - 1) + batch, dataformats='NHWC')\n",
        "        writer.add_image('input', input, len(data_loader) * (epoch - 1) + batch, dataformats='NHWC')\n",
        "        writer.add_image('output', output, len(data_loader) * (epoch - 1) + batch, dataformats='NHWC')\n",
        "    if scheduler and phase == 'train':\n",
        "      scheduler.step()\n",
        "      writer.add_scalar('learning_rate', *scheduler.get_last_lr())\n",
        "    elif phase == 'train':\n",
        "      writer.add_scalar('learning_rate', optimizer.param_groups[0]['lr'])\n",
        "    writer.add_scalar('loss', np.mean(loss_arr), epoch)\n",
        "\n",
        "\n",
        "# Training loop\n",
        "for epoch in range(st_epoch + 1, param[\"training_epochs\"] + 1):\n",
        "    train_model(net_whole_tumor, optim_whole_tumor, scheduler_whole_tumor, loader_train_whole_tumor, writer_train, epoch, 'train')\n",
        "    train_model(net_whole_tumor, None, None, loader_val_whole_tumor, writer_val, epoch, 'val')\n",
        "    \n",
        "    # Train and validate tumor core model\n",
        "    train_model(net_tumor_core, optim_tumor_core, scheduler_tumor_core, loader_train_tumor_core, writer_train, epoch, 'train')\n",
        "    train_model(net_tumor_core, None, None, loader_val_tumor_core, writer_val, epoch, 'val')\n",
        "\n",
        "    # Train and validate enhancing tumor core model\n",
        "    train_model(net_enhancing_tumor_core, optim_enhancing_tumor_core, scheduler_enhancing_tumor_core, loader_train_enhancing_tumor_core, writer_train, epoch, 'train')\n",
        "    train_model(net_enhancing_tumor_core, None, None, loader_val_enhancing_tumor_core, writer_val, epoch, 'val')\n",
        "\n",
        "    # Save models every 50 epochs\n",
        "    if epoch % 50 == 0:\n",
        "        save(ckpt_dir=ckpt_dir, net=net_whole_tumor, optim=optim_whole_tumor, epoch=epoch)\n",
        "        save(ckpt_dir=ckpt_dir, net=net_tumor_core, optim=optim_tumor_core, epoch=epoch)\n",
        "        save(ckpt_dir=ckpt_dir, net=net_enhancing_tumor_core, optim=optim_enhancing_tumor_core, epoch=epoch)\n",
        "\n",
        "# Close writers\n",
        "writer_train.close()\n",
        "writer_val.close()\n"
      ]
    },
    {
      "cell_type": "code",
      "execution_count": null,
      "id": "f08f75b4",
      "metadata": {},
      "outputs": [],
      "source": [
        "# 첫번째 모델의 출력을 사용하여 두번째 모델의 입력을 생성하고 학습, 두번째 모델의 출력을 사용하여 세번째 모델의 입력을 생성하고 학습\n",
        "for epoch in range(st_epoch + 1, param[\"training_epochs\"] + 1):\n",
        "    net_whole_tumor.train()\n",
        "    net_tumor_core.train()\n",
        "    net_enhancing_tumor_core.train()  # Enhancing tumor core 모델도 학습 상태로 설정\n",
        "    loss_arr_whole_tumor = []\n",
        "    loss_arr_tumor_core = []\n",
        "    loss_arr_enhancing_tumor_core = []\n",
        "\n",
        "    for batch, data in enumerate(loader_train_whole_tumor, 1):\n",
        "        # forward pass\n",
        "        label_whole_tumor = data['label'].to(device)\n",
        "        input_whole_tumor = data['input'].to(device)\n",
        "\n",
        "        # Get output of whole tumor model\n",
        "        output_whole_tumor = net_whole_tumor(input_whole_tumor)\n",
        "\n",
        "        # Crop input based on whole tumor model output\n",
        "        input_tumor_core, label_tumor_core = crop_input_based_on_output(input_whole_tumor, label_whole_tumor, output_whole_tumor)\n",
        "\n",
        "        # Forward pass for tumor core model\n",
        "        output_tumor_core = net_tumor_core(input_tumor_core)\n",
        "\n",
        "        # Crop input based on tumor core model output\n",
        "        input_enhancing_tumor_core, label_enhancing_tumor_core = crop_input_based_on_output(input_tumor_core, label_tumor_core, output_tumor_core)\n",
        "\n",
        "        # Forward pass for enhancing tumor core model\n",
        "        output_enhancing_tumor_core = net_enhancing_tumor_core(input_enhancing_tumor_core)\n",
        "\n",
        "        # Backward pass for enhancing tumor core model\n",
        "        optim_enhancing_tumor_core.zero_grad()\n",
        "        loss_enhancing_tumor_core = fn_loss(output_enhancing_tumor_core, label_enhancing_tumor_core)\n",
        "        loss_enhancing_tumor_core.backward()\n",
        "        optim_enhancing_tumor_core.step()\n",
        "\n",
        "        # Backward pass for tumor core model\n",
        "        optim_tumor_core.zero_grad()\n",
        "        loss_tumor_core = fn_loss(output_tumor_core, label_tumor_core)\n",
        "        loss_tumor_core.backward()\n",
        "        optim_tumor_core.step()\n",
        "\n",
        "        # Backward pass for whole tumor model\n",
        "        optim_whole_tumor.zero_grad()\n",
        "        loss_whole_tumor = fn_loss(output_whole_tumor, label_whole_tumor)\n",
        "        loss_whole_tumor.backward()\n",
        "        optim_whole_tumor.step()\n",
        "\n",
        "        loss_arr_whole_tumor.append(loss_whole_tumor.item())\n",
        "        loss_arr_tumor_core.append(loss_tumor_core.item())\n",
        "        loss_arr_enhancing_tumor_core.append(loss_enhancing_tumor_core.item())\n",
        "\n",
        "        print(\"TRAIN: EPOCH %04d / %04d | BATCH %04d / %04d | WT_LOSS %.4f | TC_LOSS %.4f | ETC_LOSS %.4f\" %\n",
        "              (epoch, param[\"training_epochs\"], batch, len(loader_train_whole_tumor), np.mean(loss_arr_whole_tumor), np.mean(loss_arr_tumor_core), np.mean(loss_arr_enhancing_tumor_core)))\n",
        "\n",
        "        # Tensorboard 저장하기\n",
        "        if param[\"scheduler\"] != \"None\":\n",
        "            scheduler_whole_tumor.step()\n",
        "            scheduler_tumor_core.step()\n",
        "            scheduler_enhancing_tumor_core.step()\n",
        "            writer_train.add_scalar('learning_rater_whole_tumor', *scheduler_whole_tumor.get_last_lr())\n",
        "            writer_train.add_scalar('learning_rate_tumor_core', *scheduler_tumor_core.get_last_lr())\n",
        "            writer_train.add_scalar('learning_rater_enhancing_tumor_core', *scheduler_enhancing_tumor_core.get_last_lr())\n",
        "        else:\n",
        "            writer_train.add_scalar('learning_rater_whole_tumor', optim_whole_tumor.param_groups[0]['lr'])\n",
        "            writer_train.add_scalar('learning_rate_tumor_core', optim_tumor_core.param_groups[0]['lr'])\n",
        "            writer_train.add_scalar('learning_rater_enhancing_tumor_core', optim_enhancing_tumor_core.param_groups[0]['lr'])\n",
        "        writer_train.add_scalar('loss_whole_tumor', np.mean(loss_arr_whole_tumor), epoch)\n",
        "        writer_train.add_scalar('loss_tumor_core', np.mean(loss_arr_tumor_core), epoch)\n",
        "        writer_train.add_scalar('loss_enhancing_tumor_core', np.mean(loss_arr_enhancing_tumor_core), epoch)\n",
        "\n",
        "    # 이하 validation 코드도 위와 동일한 방식으로 수정\n",
        "    # 생략\n"
      ]
    },
    {
      "cell_type": "markdown",
      "id": "E4QShmz2KMVM",
      "metadata": {
        "id": "E4QShmz2KMVM"
      },
      "source": [
        "## 6. 훈련된 모델 테스트하기"
      ]
    },
    {
      "cell_type": "code",
      "execution_count": null,
      "id": "ZPSoUnfVKAtF",
      "metadata": {
        "id": "ZPSoUnfVKAtF"
      },
      "outputs": [],
      "source": [
        "# TODO: Validation 코드 수정\n",
        "\n",
        "transform = transforms.Compose([ToTensor(),\n",
        "                                ResizeImage(output_size=(512,512)),\n",
        "                                MinMaxNormalization()])\n",
        "\n",
        "dataset_test = Dataset(data_dir=os.path.join(data_dir, 'test'), transform=transform)\n",
        "loader_test = DataLoader(dataset_test, batch_size=param[\"batch_size\"], shuffle=False, num_workers=param[\"num_workers\"])\n",
        "\n",
        "# 그밖에 부수적인 variables 설정하기\n",
        "num_data_test = len(dataset_test)\n",
        "num_batch_test = np.ceil(num_data_test / param[\"batch_size\"])\n",
        "\n",
        "# 결과 디렉토리 생성하기\n",
        "result_dir = os.path.join(base_dir, 'result')\n",
        "if not os.path.exists(result_dir):\n",
        "    os.makedirs(os.path.join(result_dir, 'png'))\n",
        "    os.makedirs(os.path.join(result_dir, 'numpy'))\n",
        "\n",
        "\n",
        "net, optim, st_epoch = load(ckpt_dir=ckpt_dir, net=net, optim=optim)\n",
        "\n",
        "with torch.no_grad():\n",
        "      net.eval()\n",
        "      loss_arr = []\n",
        "\n",
        "      for batch, data in enumerate(loader_test, 1):\n",
        "          # forward pass\n",
        "          label = data['label'].to(device)\n",
        "          input = data['input'].to(device)\n",
        "\n",
        "          output = net(input)\n",
        "\n",
        "          # 손실함수 계산하기\n",
        "          loss = fn_loss(output, label)\n",
        "          loss_arr += [loss.item()]\n",
        "\n",
        "          print(\"TEST: BATCH %04d / %04d | LOSS %.4f\" %\n",
        "                (batch, num_batch_test, np.mean(loss_arr)))\n",
        "\n",
        "          # Tensorboard 저장하기\n",
        "          label = fn_tonumpy(label)\n",
        "          input = fn_tonumpy(fn_denorm(input, mean=0.5, std=0.5))\n",
        "          output = fn_tonumpy(fn_class(output))\n",
        "\n",
        "          # 테스트 결과 저장하기\n",
        "          for j in range(label.shape[0]):\n",
        "              id = num_batch_test * (batch - 1) + j\n",
        "\n",
        "              plt.imsave(os.path.join(result_dir, 'png', 'label_%04d.png' % id), label[j].squeeze(), cmap='gray')\n",
        "              plt.imsave(os.path.join(result_dir, 'png', 'input_%04d.png' % id), input[j].squeeze(), cmap='gray')\n",
        "              plt.imsave(os.path.join(result_dir, 'png', 'output_%04d.png' % id), output[j].squeeze(), cmap='gray')\n",
        "\n",
        "              np.save(os.path.join(result_dir, 'numpy', 'label_%04d.npy' % id), label[j].squeeze())\n",
        "              np.save(os.path.join(result_dir, 'numpy', 'input_%04d.npy' % id), input[j].squeeze())\n",
        "              np.save(os.path.join(result_dir, 'numpy', 'output_%04d.npy' % id), output[j].squeeze())\n",
        "\n",
        "print(\"AVERAGE TEST: BATCH %04d / %04d | LOSS %.4f\" %\n",
        "        (batch, num_batch_test, np.mean(loss_arr)))"
      ]
    },
    {
      "cell_type": "markdown",
      "id": "DfEJftr8KU7l",
      "metadata": {
        "id": "DfEJftr8KU7l"
      },
      "source": [
        "## 7. 결과 시각화하기"
      ]
    },
    {
      "cell_type": "code",
      "execution_count": null,
      "id": "7vRH_VArKLNj",
      "metadata": {
        "colab": {
          "base_uri": "https://localhost:8080/",
          "height": 265
        },
        "id": "7vRH_VArKLNj",
        "outputId": "fd71ec28-7aa9-4c85-d119-aaf85842d33b"
      },
      "outputs": [
        {
          "data": {
            "image/png": "[encoded data removed]",
            "text/plain": [
              "<Figure size 800x600 with 3 Axes>"
            ]
          },
          "metadata": {},
          "output_type": "display_data"
        }
      ],
      "source": [
        "##\n",
        "lst_data = os.listdir(os.path.join(result_dir, 'numpy'))\n",
        "\n",
        "lst_label = [f for f in lst_data if f.startswith('label')]\n",
        "lst_input = [f for f in lst_data if f.startswith('input')]\n",
        "lst_output = [f for f in lst_data if f.startswith('output')]\n",
        "\n",
        "lst_label.sort()\n",
        "lst_input.sort()\n",
        "lst_output.sort()\n",
        "\n",
        "##\n",
        "id = 0\n",
        "\n",
        "label = np.load(os.path.join(result_dir,\"numpy\", lst_label[id]))\n",
        "input = np.load(os.path.join(result_dir,\"numpy\", lst_input[id]))\n",
        "output = np.load(os.path.join(result_dir,\"numpy\", lst_output[id]))\n",
        "\n",
        "## 플롯 그리기\n",
        "plt.figure(figsize=(8,6))\n",
        "plt.subplot(131)\n",
        "plt.imshow(input, cmap='gray')\n",
        "plt.title('input')\n",
        "\n",
        "plt.subplot(132)\n",
        "plt.imshow(label, cmap='gray')\n",
        "plt.title('label')\n",
        "\n",
        "plt.subplot(133)\n",
        "plt.imshow(output, cmap='gray')\n",
        "plt.title('output')\n",
        "\n",
        "plt.show()\n"
      ]
    }
  ],
  "metadata": {
    "accelerator": "GPU",
    "colab": {
      "collapsed_sections": [
        "1fd806ae-07ad-46c3-aafa-6b92440de0d0"
      ],
      "gpuType": "T4",
      "provenance": []
    },
    "kernelspec": {
      "display_name": "Python 3",
      "name": "python3"
    },
    "language_info": {
      "codemirror_mode": {
        "name": "ipython",
        "version": 3
      },
      "file_extension": ".py",
      "mimetype": "text/x-python",
      "name": "python",
      "nbconvert_exporter": "python",
      "pygments_lexer": "ipython3",
      "version": "3.10.0"
    }
  },
  "nbformat": 4,
  "nbformat_minor": 5
}

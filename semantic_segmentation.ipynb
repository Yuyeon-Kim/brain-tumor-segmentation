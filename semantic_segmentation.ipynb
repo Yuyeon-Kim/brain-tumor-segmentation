{
  "cells": [
    {
      "cell_type": "markdown",
      "id": "aBmoSv0PZCZe",
      "metadata": {
        "id": "aBmoSv0PZCZe"
      },
      "source": [
        "#### MOUNT"
      ]
    },
    {
      "cell_type": "code",
      "execution_count": null,
      "id": "SR5baZrLZCDV",
      "metadata": {
        "id": "SR5baZrLZCDV",
        "colab": {
          "base_uri": "https://localhost:8080/"
        },
        "outputId": "a6ad9d5c-3f3c-4336-dcaf-af397e6d0def"
      },
      "outputs": [
        {
          "output_type": "stream",
          "name": "stdout",
          "text": [
            "Mounted at /content/drive\n"
          ]
        }
      ],
      "source": [
        "from google.colab import drive\n",
        "drive.mount('/content/drive')"
      ]
    },
    {
      "cell_type": "markdown",
      "id": "8675e8c6-e8cb-4d07-bc5b-11d5ad7becf4",
      "metadata": {
        "id": "8675e8c6-e8cb-4d07-bc5b-11d5ad7becf4"
      },
      "source": [
        "#### 라이브러리 불러오기"
      ]
    },
    {
      "cell_type": "code",
      "execution_count": null,
      "id": "a1b9c861-2a8c-439d-a043-a7aed87a68ac",
      "metadata": {
        "id": "a1b9c861-2a8c-439d-a043-a7aed87a68ac"
      },
      "outputs": [],
      "source": [
        "import os\n",
        "import numpy as np\n",
        "\n",
        "import torch\n",
        "import torch.nn as nn\n",
        "from torch.utils.data import DataLoader\n",
        "from torch.utils.tensorboard import SummaryWriter\n",
        "\n",
        "import matplotlib.pyplot as plt\n",
        "\n",
        "from torchvision import transforms, datasets\n",
        "\n",
        "import tensorboard"
      ]
    },
    {
      "cell_type": "markdown",
      "id": "cbcf1e2c-0697-4391-ac96-4b1a2dc870c1",
      "metadata": {
        "id": "cbcf1e2c-0697-4391-ac96-4b1a2dc870c1"
      },
      "source": [
        "# 1. 데이터셋 정리(전처리)"
      ]
    },
    {
      "cell_type": "code",
      "execution_count": null,
      "id": "2e02750a-121a-4272-81fb-9ef96858ae61",
      "metadata": {
        "id": "2e02750a-121a-4272-81fb-9ef96858ae61"
      },
      "outputs": [],
      "source": [
        "dir_data ='./dataset'"
      ]
    },
    {
      "cell_type": "markdown",
      "id": "1fd806ae-07ad-46c3-aafa-6b92440de0d0",
      "metadata": {
        "id": "1fd806ae-07ad-46c3-aafa-6b92440de0d0"
      },
      "source": [
        "#### HGG 파일 내의 데이터를 input, label로 분류해서 dataset 안에 정리"
      ]
    },
    {
      "cell_type": "code",
      "execution_count": null,
      "id": "ua2iNnuiVk4r",
      "metadata": {
        "colab": {
          "base_uri": "https://localhost:8080/",
          "height": 35
        },
        "id": "ua2iNnuiVk4r",
        "outputId": "7d98a8af-bac6-4828-8493-e1e5eca79338"
      },
      "outputs": [
        {
          "output_type": "execute_result",
          "data": {
            "text/plain": [
              "'/content'"
            ],
            "application/vnd.google.colaboratory.intrinsic+json": {
              "type": "string"
            }
          },
          "metadata": {},
          "execution_count": 4
        }
      ],
      "source": [
        "%pwd"
      ]
    },
    {
      "cell_type": "code",
      "execution_count": null,
      "id": "eb501e8d-0518-4a7c-9a81-39be3aa27729",
      "metadata": {
        "id": "eb501e8d-0518-4a7c-9a81-39be3aa27729"
      },
      "outputs": [],
      "source": [
        "import random\n",
        "\n",
        "# 실행 환경에 맞게 dataset path, hgg path 변경 필요\n",
        "# './drive/MyDrive/MICCIC_BraTS_2019_Data_Training'\n",
        "dataset_path = './drive/MyDrive/MICCAI_BraTS_2019_Data_Training'\n",
        "hgg_path = dataset_path + \"/HGG\"\n",
        "\n",
        "\n",
        "filename = os.listdir(hgg_path)\n",
        "# fielname = random.shuffle(filename)\n",
        "# shuffle(filename) # 모두가 같은 데이터를 사용해야하기 때문에 셔플 제거\n",
        "filename = filename[:5]\n",
        "filecount = len(filename)\n",
        "HGG1 = round(filecount*0.6)\n",
        "HGG2 = round(filecount*0.8)"
      ]
    },
    {
      "cell_type": "code",
      "execution_count": null,
      "id": "c638df07",
      "metadata": {
        "id": "c638df07"
      },
      "outputs": [],
      "source": [
        "# !pip install nibabel"
      ]
    },
    {
      "cell_type": "code",
      "execution_count": null,
      "id": "df20eb7c-9062-4a85-94da-488fbf51fd4d",
      "metadata": {
        "id": "df20eb7c-9062-4a85-94da-488fbf51fd4d"
      },
      "outputs": [],
      "source": [
        "import nibabel as nib"
      ]
    },
    {
      "cell_type": "code",
      "execution_count": null,
      "id": "8eba1106-4d11-4fa7-8552-05d1f4ea6aeb",
      "metadata": {
        "id": "8eba1106-4d11-4fa7-8552-05d1f4ea6aeb",
        "outputId": "249bba91-7408-41c7-8f58-ff96fdae1320",
        "colab": {
          "base_uri": "https://localhost:8080/"
        }
      },
      "outputs": [
        {
          "output_type": "stream",
          "name": "stdout",
          "text": [
            "./dataset/train 처리 완료\n",
            "./dataset/val 처리 완료\n",
            "./dataset/test 처리 완료\n"
          ]
        }
      ],
      "source": [
        "# 주의사항: data types, file names의 train, val, test 순서를 잘 맞추자!!\n",
        "data_types = [\"train\", \"val\", \"test\"]\n",
        "\n",
        "original_file_train = filename[:HGG1] #Htrain\n",
        "original_file_val = filename[HGG1:HGG2] #Val\n",
        "original_file_test = filename[HGG2:] #Test\n",
        "original_files = [original_file_train, original_file_val, original_file_test]\n",
        "\n",
        "dir_save_train = os.path.join(dir_data, 'train')\n",
        "\n",
        "# Train, Val, Test 저장\n",
        "for data_type, original_file in zip(data_types, original_files):\n",
        "  dir_save = os.path.join(dir_data, data_type)\n",
        "  if os.path.exists(dir_save): # 이미 파일이 있다면 더 진행하지 않음\n",
        "    print(dir_save,\"폴더가 이미 존재함\")\n",
        "    continue\n",
        "  os.makedirs(dir_save)\n",
        "\n",
        "  i = 0\n",
        "  for current_data in original_file:\n",
        "    if current_data[0] == \".\":\n",
        "      continue\n",
        "    i+=1\n",
        "    for b in os.listdir(os.path.join(hgg_path, current_data)):\n",
        "      if 'seg' in b:\n",
        "        img_label = nib.load(os.path.join(hgg_path,current_data, b)).get_fdata()\n",
        "        label_= np.array(img_label)\n",
        "        np.save(os.path.join(dir_save, 'label_%03d.npy' % (4*i-3)),label_)\n",
        "        np.save(os.path.join(dir_save, 'label_%03d.npy' % (4*i-2)),label_)\n",
        "        np.save(os.path.join(dir_save, 'label_%03d.npy' % (4*i-1)),label_)\n",
        "        np.save(os.path.join(dir_save, 'label_%03d.npy' % (4*i)),label_)\n",
        "      elif 'flair' in b:\n",
        "        img_input = nib.load(os.path.join(hgg_path,current_data, b)).get_fdata()\n",
        "        input_ = np.array(img_input)\n",
        "        np.save(os.path.join(dir_save, 'input_%03d.npy' % (4*i-3)),input_)\n",
        "      elif 't2' in b:\n",
        "        img_input = nib.load(os.path.join(hgg_path,current_data, b)).get_fdata()\n",
        "        input_ = np.array(img_input)\n",
        "        np.save(os.path.join(dir_save, 'input_%03d.npy' % (4*i-2)),input_)\n",
        "      elif 't1ce' in b:\n",
        "        img_input = nib.load(os.path.join(hgg_path,current_data, b)).get_fdata()\n",
        "        input_ = np.array(img_input)\n",
        "        np.save(os.path.join(dir_save, 'input_%03d.npy' % (4*i-1)),input_)\n",
        "      else :\n",
        "        img_input = nib.load(os.path.join(hgg_path,current_data, b)).get_fdata()\n",
        "        input_ = np.array(img_input)\n",
        "        np.save(os.path.join(dir_save, 'input_%03d.npy' % (4*i)),input_)\n",
        "\n",
        "  print(dir_save,\"처리 완료\")"
      ]
    },
    {
      "cell_type": "code",
      "execution_count": null,
      "id": "d60ad941-dc59-4b30-8c38-b717e1690c98",
      "metadata": {
        "colab": {
          "base_uri": "https://localhost:8080/",
          "height": 308
        },
        "id": "d60ad941-dc59-4b30-8c38-b717e1690c98",
        "outputId": "d748cb85-4bfc-4bb9-f0f5-28bab2de4d58"
      },
      "outputs": [
        {
          "output_type": "display_data",
          "data": {
            "text/plain": [
              "<Figure size 640x480 with 2 Axes>"
            ],
            "image/png": "[encoded data removed]"
          },
          "metadata": {}
        }
      ],
      "source": [
        "## 이미지 시각화(input)\n",
        "plt.subplot(122)\n",
        "plt.imshow(label_[:,:,77])\n",
        "plt.title('label')\n",
        "\n",
        "plt.subplot(121)\n",
        "plt.imshow(input_[:,:,77])\n",
        "plt.title('input')\n",
        "\n",
        "plt.show()"
      ]
    },
    {
      "cell_type": "code",
      "execution_count": null,
      "id": "55dd30de-1d1f-4fdb-8b94-6ba2ec4c78e6",
      "metadata": {
        "colab": {
          "base_uri": "https://localhost:8080/",
          "height": 487
        },
        "id": "55dd30de-1d1f-4fdb-8b94-6ba2ec4c78e6",
        "outputId": "db3454df-18eb-494d-cc2d-781422b82dfb"
      },
      "outputs": [
        {
          "output_type": "display_data",
          "data": {
            "text/plain": [
              "<Figure size 640x480 with 2 Axes>"
            ],
            "image/png": "[encoded data removed]"
          },
          "metadata": {}
        }
      ],
      "source": [
        "## 한 이미지의 분포\n",
        "plt.subplot(122)\n",
        "plt.hist(label_.flatten(), bins=20)\n",
        "plt.title('label')\n",
        "\n",
        "plt.subplot(121)\n",
        "plt.hist(input_.flatten(), bins=20)\n",
        "plt.title('input')\n",
        "\n",
        "plt.tight_layout()\n",
        "plt.show()"
      ]
    },
    {
      "cell_type": "markdown",
      "id": "65a99de1-3970-4ca9-8b0e-d5c914ee03c8",
      "metadata": {
        "id": "65a99de1-3970-4ca9-8b0e-d5c914ee03c8"
      },
      "source": [
        "# 2. 3D 네트워크 구축하기"
      ]
    },
    {
      "cell_type": "code",
      "source": [
        "# 3d unet 새로 만듦\n",
        "\"\"\"\n",
        "3D U-Net: Learning Dense Volumetric Segmentation from Sparse Annotation\n",
        "Paper URL: https://arxiv.org/abs/1606.06650\n",
        "Author: Amir Aghdam\n",
        "\"\"\"\n",
        "\n",
        "from torch import nn\n",
        "from torchsummary import summary\n",
        "import torch\n",
        "import time\n",
        "\n",
        "\n",
        "\n",
        "class Conv3DBlock(nn.Module):\n",
        "    \"\"\"\n",
        "    The basic block for double 3x3x3 convolutions in the analysis path\n",
        "    -- __init__()\n",
        "    :param in_channels -> number of input channels\n",
        "    :param out_channels -> desired number of output channels\n",
        "    :param bottleneck -> specifies the bottlneck block\n",
        "    -- forward()\n",
        "    :param input -> input Tensor to be convolved\n",
        "    :return -> Tensor\n",
        "    \"\"\"\n",
        "\n",
        "    def __init__(self, in_channels, out_channels, bottleneck = False) -> None:\n",
        "        super(Conv3DBlock, self).__init__()\n",
        "        self.conv1 = nn.Conv3d(in_channels= in_channels, out_channels=out_channels//2, kernel_size=(3,3,3), padding=1)\n",
        "        self.bn1 = nn.BatchNorm3d(num_features=out_channels//2)\n",
        "        self.conv2 = nn.Conv3d(in_channels= out_channels//2, out_channels=out_channels, kernel_size=(3,3,3), padding=1)\n",
        "        self.bn2 = nn.BatchNorm3d(num_features=out_channels)\n",
        "        self.relu = nn.ReLU()\n",
        "        self.bottleneck = bottleneck\n",
        "        if not bottleneck:\n",
        "            self.pooling = nn.MaxPool3d(kernel_size=(2,2,2), stride=2)\n",
        "\n",
        "\n",
        "    def forward(self, input):\n",
        "        res = self.relu(self.bn1(self.conv1(input)))\n",
        "        res = self.relu(self.bn2(self.conv2(res)))\n",
        "        out = None\n",
        "        if not self.bottleneck:\n",
        "            out = self.pooling(res)\n",
        "        else:\n",
        "            out = res\n",
        "        return out, res\n",
        "\n",
        "\n",
        "\n",
        "\n",
        "class UpConv3DBlock(nn.Module):\n",
        "    \"\"\"\n",
        "    The basic block for upsampling followed by double 3x3x3 convolutions in the synthesis path\n",
        "    -- __init__()\n",
        "    :param in_channels -> number of input channels\n",
        "    :param out_channels -> number of residual connections' channels to be concatenated\n",
        "    :param last_layer -> specifies the last output layer\n",
        "    :param num_classes -> specifies the number of output channels for dispirate classes\n",
        "    -- forward()\n",
        "    :param input -> input Tensor\n",
        "    :param residual -> residual connection to be concatenated with input\n",
        "    :return -> Tensor\n",
        "    \"\"\"\n",
        "\n",
        "    def __init__(self, in_channels, res_channels=0, last_layer=False, num_classes=None) -> None:\n",
        "        super(UpConv3DBlock, self).__init__()\n",
        "        assert (last_layer==False and num_classes==None) or (last_layer==True and num_classes!=None), 'Invalid arguments'\n",
        "        self.upconv1 = nn.ConvTranspose3d(in_channels=in_channels, out_channels=in_channels, kernel_size=(2, 2, 2), stride=2)\n",
        "        self.relu = nn.ReLU()\n",
        "        self.bn = nn.BatchNorm3d(num_features=in_channels//2)\n",
        "        self.conv1 = nn.Conv3d(in_channels=in_channels+res_channels, out_channels=in_channels//2, kernel_size=(3,3,3), padding=(1,1,1))\n",
        "        self.conv2 = nn.Conv3d(in_channels=in_channels//2, out_channels=in_channels//2, kernel_size=(3,3,3), padding=(1,1,1))\n",
        "        self.last_layer = last_layer\n",
        "        if last_layer:\n",
        "            self.conv3 = nn.Conv3d(in_channels=in_channels//2, out_channels=num_classes, kernel_size=(1,1,1))\n",
        "\n",
        "\n",
        "    def forward(self, input, residual=None):\n",
        "        out = self.upconv1(input)\n",
        "        if residual!=None: out = torch.cat((out, residual), 1)\n",
        "        out = self.relu(self.bn(self.conv1(out)))\n",
        "        out = self.relu(self.bn(self.conv2(out)))\n",
        "        if self.last_layer: out = self.conv3(out)\n",
        "        return out\n",
        "\n",
        "\n",
        "\n",
        "\n",
        "class UNet3D(nn.Module):\n",
        "    \"\"\"\n",
        "    The 3D UNet model\n",
        "    -- __init__()\n",
        "    :param in_channels -> number of input channels\n",
        "    :param num_classes -> specifies the number of output channels or masks for different classes\n",
        "    :param level_channels -> the number of channels at each level (count top-down)\n",
        "    :param bottleneck_channel -> the number of bottleneck channels\n",
        "    :param device -> the device on which to run the model\n",
        "    -- forward()\n",
        "    :param input -> input Tensor\n",
        "    :return -> Tensor\n",
        "    \"\"\"\n",
        "\n",
        "    def __init__(self, in_channels, num_classes, level_channels=[64, 128, 256], bottleneck_channel=512) -> None:\n",
        "        super(UNet3D, self).__init__()\n",
        "        level_1_chnls, level_2_chnls, level_3_chnls = level_channels[0], level_channels[1], level_channels[2]\n",
        "        self.a_block1 = Conv3DBlock(in_channels=in_channels, out_channels=level_1_chnls)\n",
        "        self.a_block2 = Conv3DBlock(in_channels=level_1_chnls, out_channels=level_2_chnls)\n",
        "        self.a_block3 = Conv3DBlock(in_channels=level_2_chnls, out_channels=level_3_chnls)\n",
        "        self.bottleNeck = Conv3DBlock(in_channels=level_3_chnls, out_channels=bottleneck_channel, bottleneck= True)\n",
        "        self.s_block3 = UpConv3DBlock(in_channels=bottleneck_channel, res_channels=level_3_chnls)\n",
        "        self.s_block2 = UpConv3DBlock(in_channels=level_3_chnls, res_channels=level_2_chnls)\n",
        "        self.s_block1 = UpConv3DBlock(in_channels=level_2_chnls, res_channels=level_1_chnls, num_classes=num_classes, last_layer=True)\n",
        "\n",
        "\n",
        "    def forward(self, input):\n",
        "        #Analysis path forward feed\n",
        "        out, residual_level1 = self.a_block1(input)\n",
        "        out, residual_level2 = self.a_block2(out)\n",
        "        out, residual_level3 = self.a_block3(out)\n",
        "        out, _ = self.bottleNeck(out)\n",
        "\n",
        "        #Synthesis path forward feed\n",
        "        out = self.s_block3(out, residual_level3)\n",
        "        out = self.s_block2(out, residual_level2)\n",
        "        out = self.s_block1(out, residual_level1)\n",
        "        return out\n",
        "\n",
        "\n",
        "\n",
        "if __name__ == '__main__':\n",
        "    #Configurations according to the Xenopus kidney dataset\n",
        "    model = UNet3D(in_channels=3, num_classes=1)\n",
        "    start_time = time.time()\n",
        "    summary(model=model, input_size=(3, 16, 128, 128), batch_size=-1, device=\"cpu\")\n",
        "    print(\"--- %s seconds ---\" % (time.time() - start_time))"
      ],
      "metadata": {
        "colab": {
          "base_uri": "https://localhost:8080/"
        },
        "id": "2qH5Rrnlh-y9",
        "outputId": "12901a87-d75a-4ce7-e3be-4b4c509fb40a"
      },
      "id": "2qH5Rrnlh-y9",
      "execution_count": null,
      "outputs": [
        {
          "output_type": "stream",
          "name": "stdout",
          "text": [
            "----------------------------------------------------------------\n",
            "        Layer (type)               Output Shape         Param #\n",
            "================================================================\n",
            "            Conv3d-1     [-1, 32, 16, 128, 128]           2,624\n",
            "       BatchNorm3d-2     [-1, 32, 16, 128, 128]              64\n",
            "              ReLU-3     [-1, 32, 16, 128, 128]               0\n",
            "            Conv3d-4     [-1, 64, 16, 128, 128]          55,360\n",
            "       BatchNorm3d-5     [-1, 64, 16, 128, 128]             128\n",
            "              ReLU-6     [-1, 64, 16, 128, 128]               0\n",
            "         MaxPool3d-7        [-1, 64, 8, 64, 64]               0\n",
            "       Conv3DBlock-8  [[-1, 64, 8, 64, 64], [-1, 64, 16, 128, 128]]               0\n",
            "            Conv3d-9        [-1, 64, 8, 64, 64]         110,656\n",
            "      BatchNorm3d-10        [-1, 64, 8, 64, 64]             128\n",
            "             ReLU-11        [-1, 64, 8, 64, 64]               0\n",
            "           Conv3d-12       [-1, 128, 8, 64, 64]         221,312\n",
            "      BatchNorm3d-13       [-1, 128, 8, 64, 64]             256\n",
            "             ReLU-14       [-1, 128, 8, 64, 64]               0\n",
            "        MaxPool3d-15       [-1, 128, 4, 32, 32]               0\n",
            "      Conv3DBlock-16  [[-1, 128, 4, 32, 32], [-1, 128, 8, 64, 64]]               0\n",
            "           Conv3d-17       [-1, 128, 4, 32, 32]         442,496\n",
            "      BatchNorm3d-18       [-1, 128, 4, 32, 32]             256\n",
            "             ReLU-19       [-1, 128, 4, 32, 32]               0\n",
            "           Conv3d-20       [-1, 256, 4, 32, 32]         884,992\n",
            "      BatchNorm3d-21       [-1, 256, 4, 32, 32]             512\n",
            "             ReLU-22       [-1, 256, 4, 32, 32]               0\n",
            "        MaxPool3d-23       [-1, 256, 2, 16, 16]               0\n",
            "      Conv3DBlock-24  [[-1, 256, 2, 16, 16], [-1, 256, 4, 32, 32]]               0\n",
            "           Conv3d-25       [-1, 256, 2, 16, 16]       1,769,728\n",
            "      BatchNorm3d-26       [-1, 256, 2, 16, 16]             512\n",
            "             ReLU-27       [-1, 256, 2, 16, 16]               0\n",
            "           Conv3d-28       [-1, 512, 2, 16, 16]       3,539,456\n",
            "      BatchNorm3d-29       [-1, 512, 2, 16, 16]           1,024\n",
            "             ReLU-30       [-1, 512, 2, 16, 16]               0\n",
            "      Conv3DBlock-31  [[-1, 512, 2, 16, 16], [-1, 512, 2, 16, 16]]               0\n",
            "  ConvTranspose3d-32       [-1, 512, 4, 32, 32]       2,097,664\n",
            "           Conv3d-33       [-1, 256, 4, 32, 32]       5,308,672\n",
            "      BatchNorm3d-34       [-1, 256, 4, 32, 32]             512\n",
            "             ReLU-35       [-1, 256, 4, 32, 32]               0\n",
            "           Conv3d-36       [-1, 256, 4, 32, 32]       1,769,728\n",
            "      BatchNorm3d-37       [-1, 256, 4, 32, 32]             512\n",
            "             ReLU-38       [-1, 256, 4, 32, 32]               0\n",
            "    UpConv3DBlock-39       [-1, 256, 4, 32, 32]               0\n",
            "  ConvTranspose3d-40       [-1, 256, 8, 64, 64]         524,544\n",
            "           Conv3d-41       [-1, 128, 8, 64, 64]       1,327,232\n",
            "      BatchNorm3d-42       [-1, 128, 8, 64, 64]             256\n",
            "             ReLU-43       [-1, 128, 8, 64, 64]               0\n",
            "           Conv3d-44       [-1, 128, 8, 64, 64]         442,496\n",
            "      BatchNorm3d-45       [-1, 128, 8, 64, 64]             256\n",
            "             ReLU-46       [-1, 128, 8, 64, 64]               0\n",
            "    UpConv3DBlock-47       [-1, 128, 8, 64, 64]               0\n",
            "  ConvTranspose3d-48    [-1, 128, 16, 128, 128]         131,200\n",
            "           Conv3d-49     [-1, 64, 16, 128, 128]         331,840\n",
            "      BatchNorm3d-50     [-1, 64, 16, 128, 128]             128\n",
            "             ReLU-51     [-1, 64, 16, 128, 128]               0\n",
            "           Conv3d-52     [-1, 64, 16, 128, 128]         110,656\n",
            "      BatchNorm3d-53     [-1, 64, 16, 128, 128]             128\n",
            "             ReLU-54     [-1, 64, 16, 128, 128]               0\n",
            "           Conv3d-55      [-1, 1, 16, 128, 128]              65\n",
            "    UpConv3DBlock-56      [-1, 1, 16, 128, 128]               0\n",
            "================================================================\n",
            "Total params: 19,075,393\n",
            "Trainable params: 19,075,393\n",
            "Non-trainable params: 0\n",
            "----------------------------------------------------------------\n",
            "Input size (MB): 3.00\n",
            "Forward/backward pass size (MB): 286783362.00\n",
            "Params size (MB): 72.77\n",
            "Estimated Total Size (MB): 286783437.77\n",
            "----------------------------------------------------------------\n",
            "--- 20.073497772216797 seconds ---\n"
          ]
        }
      ]
    },
    {
      "cell_type": "code",
      "execution_count": null,
      "id": "58572de8-afcf-4e3a-b4d9-e89366319f5a",
      "metadata": {
        "id": "58572de8-afcf-4e3a-b4d9-e89366319f5a"
      },
      "outputs": [],
      "source": [
        "## 라이브러리 불러오기\n",
        "import os\n",
        "import numpy as np\n",
        "\n",
        "import torch\n",
        "import torch.nn as nn\n",
        "from torch.utils.data import DataLoader\n",
        "from torch.utils.tensorboard import SummaryWriter\n",
        "\n",
        "import matplotlib.pyplot as plt\n",
        "\n",
        "from torchvision import transforms, datasets\n",
        "\n",
        "## 네트워크 구축하기\n",
        "class UNet(nn.Module):\n",
        "    def __init__(self):\n",
        "        super(UNet, self).__init__()\n",
        "\n",
        "        # Convolution + BatchNormalization + Relu 정의하기\n",
        "        def CBR2d(in_channels, out_channels, kernel_size=3, stride=1, padding=1, bias=True):\n",
        "            layers = []\n",
        "            layers += [nn.Conv2d(in_channels=in_channels, out_channels=out_channels,\n",
        "                                 kernel_size=kernel_size, stride=stride, padding=padding,\n",
        "                                 bias=bias)]\n",
        "            layers += [nn.BatchNorm2d(num_features=out_channels)]\n",
        "            layers += [nn.ReLU()]\n",
        "\n",
        "            cbr = nn.Sequential(*layers)\n",
        "            # nn.Sequential 클래스 : nn.ReLU 등의 모듈들을 인수로 받아서 순서대로 정렬해놓고\n",
        "            #입력값이 들어오면, 순서대로 묘듈 실행해서 결과값 리턴\n",
        "            # 리스트 이름에 별 붙여야함\n",
        "\n",
        "            return cbr\n",
        "\n",
        "        # 수축 경로(Contracting path)\n",
        "        self.enc1_1 = CBR2d(in_channels=1, out_channels=64)\n",
        "        self.enc1_2 = CBR2d(in_channels=64, out_channels=64)\n",
        "\n",
        "        self.pool1 = nn.MaxPool2d(kernel_size=2)\n",
        "\n",
        "        self.enc2_1 = CBR2d(in_channels=64, out_channels=128)\n",
        "        self.enc2_2 = CBR2d(in_channels=128, out_channels=128)\n",
        "\n",
        "        self.pool2 = nn.MaxPool2d(kernel_size=2)\n",
        "\n",
        "        self.enc3_1 = CBR2d(in_channels=128, out_channels=256)\n",
        "        self.enc3_2 = CBR2d(in_channels=256, out_channels=256)\n",
        "\n",
        "        self.pool3 = nn.MaxPool2d(kernel_size=2)\n",
        "\n",
        "        self.enc4_1 = CBR2d(in_channels=256, out_channels=512)\n",
        "        self.enc4_2 = CBR2d(in_channels=512, out_channels=512)\n",
        "\n",
        "        self.pool4 = nn.MaxPool2d(kernel_size=2)\n",
        "\n",
        "        self.enc5_1 = CBR2d(in_channels=512, out_channels=1024)\n",
        "\n",
        "        # 확장 경로(Expansive path)\n",
        "        self.dec5_1 = CBR2d(in_channels=1024, out_channels=512)\n",
        "\n",
        "        self.unpool4 = nn.ConvTranspose2d(in_channels=512, out_channels=512,\n",
        "                                          kernel_size=2, stride=2, padding=0, bias=True)\n",
        "\n",
        "        self.dec4_2 = CBR2d(in_channels=2 * 512, out_channels=512)\n",
        "        self.dec4_1 = CBR2d(in_channels=512, out_channels=256)\n",
        "\n",
        "        self.unpool3 = nn.ConvTranspose2d(in_channels=256, out_channels=256,\n",
        "                                          kernel_size=2, stride=2, padding=0, bias=True)\n",
        "\n",
        "        self.dec3_2 = CBR2d(in_channels=2 * 256, out_channels=256)\n",
        "        self.dec3_1 = CBR2d(in_channels=256, out_channels=128)\n",
        "\n",
        "        self.unpool2 = nn.ConvTranspose2d(in_channels=128, out_channels=128,\n",
        "                                          kernel_size=2, stride=2, padding=0, bias=True)\n",
        "\n",
        "        self.dec2_2 = CBR2d(in_channels=2 * 128, out_channels=128)\n",
        "        self.dec2_1 = CBR2d(in_channels=128, out_channels=64)\n",
        "\n",
        "        self.unpool1 = nn.ConvTranspose2d(in_channels=64, out_channels=64,\n",
        "                                          kernel_size=2, stride=2, padding=0, bias=True)\n",
        "\n",
        "        self.dec1_2 = CBR2d(in_channels=2 * 64, out_channels=64)\n",
        "        self.dec1_1 = CBR2d(in_channels=64, out_channels=64)\n",
        "\n",
        "        self.fc = nn.Conv2d(in_channels=64, out_channels=1, kernel_size=1, stride=1, padding=0, bias=True)\n",
        "\n",
        "    # forward 함수 정의하기\n",
        "    def forward(self, x):\n",
        "        enc1_1 = self.enc1_1(x)\n",
        "        enc1_2 = self.enc1_2(enc1_1)\n",
        "        pool1 = self.pool1(enc1_2)\n",
        "\n",
        "        enc2_1 = self.enc2_1(pool1)\n",
        "        enc2_2 = self.enc2_2(enc2_1)\n",
        "        pool2 = self.pool2(enc2_2)\n",
        "\n",
        "        enc3_1 = self.enc3_1(pool2)\n",
        "        enc3_2 = self.enc3_2(enc3_1)\n",
        "        pool3 = self.pool3(enc3_2)\n",
        "\n",
        "        enc4_1 = self.enc4_1(pool3)\n",
        "        enc4_2 = self.enc4_2(enc4_1)\n",
        "        pool4 = self.pool4(enc4_2)\n",
        "\n",
        "        enc5_1 = self.enc5_1(pool4)\n",
        "\n",
        "        dec5_1 = self.dec5_1(enc5_1)\n",
        "\n",
        "        unpool4 = self.unpool4(dec5_1)\n",
        "        cat4 = torch.cat((unpool4, enc4_2), dim=1)\n",
        "        dec4_2 = self.dec4_2(cat4)\n",
        "        dec4_1 = self.dec4_1(dec4_2)\n",
        "\n",
        "        unpool3 = self.unpool3(dec4_1)\n",
        "        cat3 = torch.cat((unpool3, enc3_2), dim=1)\n",
        "        dec3_2 = self.dec3_2(cat3)\n",
        "        dec3_1 = self.dec3_1(dec3_2)\n",
        "\n",
        "        unpool2 = self.unpool2(dec3_1)\n",
        "        cat2 = torch.cat((unpool2, enc2_2), dim=1)\n",
        "        dec2_2 = self.dec2_2(cat2)\n",
        "        dec2_1 = self.dec2_1(dec2_2)\n",
        "\n",
        "        unpool1 = self.unpool1(dec2_1)\n",
        "        cat1 = torch.cat((unpool1, enc1_2), dim=1)\n",
        "        dec1_2 = self.dec1_2(cat1)\n",
        "        dec1_1 = self.dec1_1(dec1_2)\n",
        "\n",
        "        x = self.fc(dec1_1)\n",
        "\n",
        "        return x"
      ]
    },
    {
      "cell_type": "code",
      "execution_count": null,
      "id": "96c8cc14",
      "metadata": {
        "id": "96c8cc14",
        "colab": {
          "base_uri": "https://localhost:8080/"
        },
        "outputId": "0925e4a4-6196-4a9f-e000-bc67932d37fb"
      },
      "outputs": [
        {
          "output_type": "stream",
          "name": "stdout",
          "text": [
            "Collecting segmentation_models_pytorch\n",
            "  Downloading segmentation_models_pytorch-0.3.3-py3-none-any.whl (106 kB)\n",
            "\u001b[?25l     \u001b[90m━━━━━━━━━━━━━━━━━━━━━━━━━━━━━━━━━━━━━━━━\u001b[0m \u001b[32m0.0/106.7 kB\u001b[0m \u001b[31m?\u001b[0m eta \u001b[36m-:--:--\u001b[0m\r\u001b[2K     \u001b[91m━━━━━━━━━━━━━━━━━━━━━━━━━━━━━━━━━━━━━━\u001b[0m\u001b[90m╺\u001b[0m\u001b[90m━\u001b[0m \u001b[32m102.4/106.7 kB\u001b[0m \u001b[31m2.9 MB/s\u001b[0m eta \u001b[36m0:00:01\u001b[0m\r\u001b[2K     \u001b[90m━━━━━━━━━━━━━━━━━━━━━━━━━━━━━━━━━━━━━━━━\u001b[0m \u001b[32m106.7/106.7 kB\u001b[0m \u001b[31m2.4 MB/s\u001b[0m eta \u001b[36m0:00:00\u001b[0m\n",
            "\u001b[?25hRequirement already satisfied: torchvision>=0.5.0 in /usr/local/lib/python3.10/dist-packages (from segmentation_models_pytorch) (0.17.1+cu121)\n",
            "Collecting pretrainedmodels==0.7.4 (from segmentation_models_pytorch)\n",
            "  Downloading pretrainedmodels-0.7.4.tar.gz (58 kB)\n",
            "\u001b[?25l     \u001b[90m━━━━━━━━━━━━━━━━━━━━━━━━━━━━━━━━━━━━━━━━\u001b[0m \u001b[32m0.0/58.8 kB\u001b[0m \u001b[31m?\u001b[0m eta \u001b[36m-:--:--\u001b[0m\r\u001b[2K     \u001b[90m━━━━━━━━━━━━━━━━━━━━━━━━━━━━━━━━━━━━━━━━\u001b[0m \u001b[32m58.8/58.8 kB\u001b[0m \u001b[31m6.7 MB/s\u001b[0m eta \u001b[36m0:00:00\u001b[0m\n",
            "\u001b[?25h  Preparing metadata (setup.py) ... \u001b[?25l\u001b[?25hdone\n",
            "Collecting efficientnet-pytorch==0.7.1 (from segmentation_models_pytorch)\n",
            "  Downloading efficientnet_pytorch-0.7.1.tar.gz (21 kB)\n",
            "  Preparing metadata (setup.py) ... \u001b[?25l\u001b[?25hdone\n",
            "Collecting timm==0.9.2 (from segmentation_models_pytorch)\n",
            "  Downloading timm-0.9.2-py3-none-any.whl (2.2 MB)\n",
            "\u001b[2K     \u001b[90m━━━━━━━━━━━━━━━━━━━━━━━━━━━━━━━━━━━━━━━━\u001b[0m \u001b[32m2.2/2.2 MB\u001b[0m \u001b[31m49.6 MB/s\u001b[0m eta \u001b[36m0:00:00\u001b[0m\n",
            "\u001b[?25hRequirement already satisfied: tqdm in /usr/local/lib/python3.10/dist-packages (from segmentation_models_pytorch) (4.66.2)\n",
            "Requirement already satisfied: pillow in /usr/local/lib/python3.10/dist-packages (from segmentation_models_pytorch) (9.4.0)\n",
            "Requirement already satisfied: torch in /usr/local/lib/python3.10/dist-packages (from efficientnet-pytorch==0.7.1->segmentation_models_pytorch) (2.2.1+cu121)\n",
            "Collecting munch (from pretrainedmodels==0.7.4->segmentation_models_pytorch)\n",
            "  Downloading munch-4.0.0-py2.py3-none-any.whl (9.9 kB)\n",
            "Requirement already satisfied: pyyaml in /usr/local/lib/python3.10/dist-packages (from timm==0.9.2->segmentation_models_pytorch) (6.0.1)\n",
            "Requirement already satisfied: huggingface-hub in /usr/local/lib/python3.10/dist-packages (from timm==0.9.2->segmentation_models_pytorch) (0.20.3)\n",
            "Requirement already satisfied: safetensors in /usr/local/lib/python3.10/dist-packages (from timm==0.9.2->segmentation_models_pytorch) (0.4.2)\n",
            "Requirement already satisfied: numpy in /usr/local/lib/python3.10/dist-packages (from torchvision>=0.5.0->segmentation_models_pytorch) (1.25.2)\n",
            "Requirement already satisfied: filelock in /usr/local/lib/python3.10/dist-packages (from torch->efficientnet-pytorch==0.7.1->segmentation_models_pytorch) (3.13.1)\n",
            "Requirement already satisfied: typing-extensions>=4.8.0 in /usr/local/lib/python3.10/dist-packages (from torch->efficientnet-pytorch==0.7.1->segmentation_models_pytorch) (4.10.0)\n",
            "Requirement already satisfied: sympy in /usr/local/lib/python3.10/dist-packages (from torch->efficientnet-pytorch==0.7.1->segmentation_models_pytorch) (1.12)\n",
            "Requirement already satisfied: networkx in /usr/local/lib/python3.10/dist-packages (from torch->efficientnet-pytorch==0.7.1->segmentation_models_pytorch) (3.2.1)\n",
            "Requirement already satisfied: jinja2 in /usr/local/lib/python3.10/dist-packages (from torch->efficientnet-pytorch==0.7.1->segmentation_models_pytorch) (3.1.3)\n",
            "Requirement already satisfied: fsspec in /usr/local/lib/python3.10/dist-packages (from torch->efficientnet-pytorch==0.7.1->segmentation_models_pytorch) (2023.6.0)\n",
            "Collecting nvidia-cuda-nvrtc-cu12==12.1.105 (from torch->efficientnet-pytorch==0.7.1->segmentation_models_pytorch)\n",
            "  Downloading nvidia_cuda_nvrtc_cu12-12.1.105-py3-none-manylinux1_x86_64.whl (23.7 MB)\n",
            "\u001b[2K     \u001b[90m━━━━━━━━━━━━━━━━━━━━━━━━━━━━━━━━━━━━━━━━\u001b[0m \u001b[32m23.7/23.7 MB\u001b[0m \u001b[31m41.3 MB/s\u001b[0m eta \u001b[36m0:00:00\u001b[0m\n",
            "\u001b[?25hCollecting nvidia-cuda-runtime-cu12==12.1.105 (from torch->efficientnet-pytorch==0.7.1->segmentation_models_pytorch)\n",
            "  Downloading nvidia_cuda_runtime_cu12-12.1.105-py3-none-manylinux1_x86_64.whl (823 kB)\n",
            "\u001b[2K     \u001b[90m━━━━━━━━━━━━━━━━━━━━━━━━━━━━━━━━━━━━━━━━\u001b[0m \u001b[32m823.6/823.6 kB\u001b[0m \u001b[31m41.2 MB/s\u001b[0m eta \u001b[36m0:00:00\u001b[0m\n",
            "\u001b[?25hCollecting nvidia-cuda-cupti-cu12==12.1.105 (from torch->efficientnet-pytorch==0.7.1->segmentation_models_pytorch)\n",
            "  Downloading nvidia_cuda_cupti_cu12-12.1.105-py3-none-manylinux1_x86_64.whl (14.1 MB)\n",
            "\u001b[2K     \u001b[90m━━━━━━━━━━━━━━━━━━━━━━━━━━━━━━━━━━━━━━━━\u001b[0m \u001b[32m14.1/14.1 MB\u001b[0m \u001b[31m52.4 MB/s\u001b[0m eta \u001b[36m0:00:00\u001b[0m\n",
            "\u001b[?25hCollecting nvidia-cudnn-cu12==8.9.2.26 (from torch->efficientnet-pytorch==0.7.1->segmentation_models_pytorch)\n",
            "  Downloading nvidia_cudnn_cu12-8.9.2.26-py3-none-manylinux1_x86_64.whl (731.7 MB)\n",
            "\u001b[2K     \u001b[90m━━━━━━━━━━━━━━━━━━━━━━━━━━━━━━━━━━━━━━━━\u001b[0m \u001b[32m731.7/731.7 MB\u001b[0m \u001b[31m1.2 MB/s\u001b[0m eta \u001b[36m0:00:00\u001b[0m\n",
            "\u001b[?25hCollecting nvidia-cublas-cu12==12.1.3.1 (from torch->efficientnet-pytorch==0.7.1->segmentation_models_pytorch)\n",
            "  Downloading nvidia_cublas_cu12-12.1.3.1-py3-none-manylinux1_x86_64.whl (410.6 MB)\n",
            "\u001b[2K     \u001b[90m━━━━━━━━━━━━━━━━━━━━━━━━━━━━━━━━━━━━━━━━\u001b[0m \u001b[32m410.6/410.6 MB\u001b[0m \u001b[31m3.1 MB/s\u001b[0m eta \u001b[36m0:00:00\u001b[0m\n",
            "\u001b[?25hCollecting nvidia-cufft-cu12==11.0.2.54 (from torch->efficientnet-pytorch==0.7.1->segmentation_models_pytorch)\n",
            "  Downloading nvidia_cufft_cu12-11.0.2.54-py3-none-manylinux1_x86_64.whl (121.6 MB)\n",
            "\u001b[2K     \u001b[90m━━━━━━━━━━━━━━━━━━━━━━━━━━━━━━━━━━━━━━━━\u001b[0m \u001b[32m121.6/121.6 MB\u001b[0m \u001b[31m9.1 MB/s\u001b[0m eta \u001b[36m0:00:00\u001b[0m\n",
            "\u001b[?25hCollecting nvidia-curand-cu12==10.3.2.106 (from torch->efficientnet-pytorch==0.7.1->segmentation_models_pytorch)\n",
            "  Downloading nvidia_curand_cu12-10.3.2.106-py3-none-manylinux1_x86_64.whl (56.5 MB)\n",
            "\u001b[2K     \u001b[90m━━━━━━━━━━━━━━━━━━━━━━━━━━━━━━━━━━━━━━━━\u001b[0m \u001b[32m56.5/56.5 MB\u001b[0m \u001b[31m10.7 MB/s\u001b[0m eta \u001b[36m0:00:00\u001b[0m\n",
            "\u001b[?25hCollecting nvidia-cusolver-cu12==11.4.5.107 (from torch->efficientnet-pytorch==0.7.1->segmentation_models_pytorch)\n",
            "  Downloading nvidia_cusolver_cu12-11.4.5.107-py3-none-manylinux1_x86_64.whl (124.2 MB)\n",
            "\u001b[2K     \u001b[90m━━━━━━━━━━━━━━━━━━━━━━━━━━━━━━━━━━━━━━━━\u001b[0m \u001b[32m124.2/124.2 MB\u001b[0m \u001b[31m8.8 MB/s\u001b[0m eta \u001b[36m0:00:00\u001b[0m\n",
            "\u001b[?25hCollecting nvidia-cusparse-cu12==12.1.0.106 (from torch->efficientnet-pytorch==0.7.1->segmentation_models_pytorch)\n",
            "  Downloading nvidia_cusparse_cu12-12.1.0.106-py3-none-manylinux1_x86_64.whl (196.0 MB)\n",
            "\u001b[2K     \u001b[90m━━━━━━━━━━━━━━━━━━━━━━━━━━━━━━━━━━━━━━━━\u001b[0m \u001b[32m196.0/196.0 MB\u001b[0m \u001b[31m4.7 MB/s\u001b[0m eta \u001b[36m0:00:00\u001b[0m\n",
            "\u001b[?25hCollecting nvidia-nccl-cu12==2.19.3 (from torch->efficientnet-pytorch==0.7.1->segmentation_models_pytorch)\n",
            "  Downloading nvidia_nccl_cu12-2.19.3-py3-none-manylinux1_x86_64.whl (166.0 MB)\n",
            "\u001b[2K     \u001b[90m━━━━━━━━━━━━━━━━━━━━━━━━━━━━━━━━━━━━━━━━\u001b[0m \u001b[32m166.0/166.0 MB\u001b[0m \u001b[31m6.6 MB/s\u001b[0m eta \u001b[36m0:00:00\u001b[0m\n",
            "\u001b[?25hCollecting nvidia-nvtx-cu12==12.1.105 (from torch->efficientnet-pytorch==0.7.1->segmentation_models_pytorch)\n",
            "  Downloading nvidia_nvtx_cu12-12.1.105-py3-none-manylinux1_x86_64.whl (99 kB)\n",
            "\u001b[2K     \u001b[90m━━━━━━━━━━━━━━━━━━━━━━━━━━━━━━━━━━━━━━━━\u001b[0m \u001b[32m99.1/99.1 kB\u001b[0m \u001b[31m11.2 MB/s\u001b[0m eta \u001b[36m0:00:00\u001b[0m\n",
            "\u001b[?25hRequirement already satisfied: triton==2.2.0 in /usr/local/lib/python3.10/dist-packages (from torch->efficientnet-pytorch==0.7.1->segmentation_models_pytorch) (2.2.0)\n",
            "Collecting nvidia-nvjitlink-cu12 (from nvidia-cusolver-cu12==11.4.5.107->torch->efficientnet-pytorch==0.7.1->segmentation_models_pytorch)\n",
            "  Downloading nvidia_nvjitlink_cu12-12.4.99-py3-none-manylinux2014_x86_64.whl (21.1 MB)\n",
            "\u001b[2K     \u001b[90m━━━━━━━━━━━━━━━━━━━━━━━━━━━━━━━━━━━━━━━━\u001b[0m \u001b[32m21.1/21.1 MB\u001b[0m \u001b[31m70.4 MB/s\u001b[0m eta \u001b[36m0:00:00\u001b[0m\n",
            "\u001b[?25hRequirement already satisfied: requests in /usr/local/lib/python3.10/dist-packages (from huggingface-hub->timm==0.9.2->segmentation_models_pytorch) (2.31.0)\n",
            "Requirement already satisfied: packaging>=20.9 in /usr/local/lib/python3.10/dist-packages (from huggingface-hub->timm==0.9.2->segmentation_models_pytorch) (24.0)\n",
            "Requirement already satisfied: MarkupSafe>=2.0 in /usr/local/lib/python3.10/dist-packages (from jinja2->torch->efficientnet-pytorch==0.7.1->segmentation_models_pytorch) (2.1.5)\n",
            "Requirement already satisfied: charset-normalizer<4,>=2 in /usr/local/lib/python3.10/dist-packages (from requests->huggingface-hub->timm==0.9.2->segmentation_models_pytorch) (3.3.2)\n",
            "Requirement already satisfied: idna<4,>=2.5 in /usr/local/lib/python3.10/dist-packages (from requests->huggingface-hub->timm==0.9.2->segmentation_models_pytorch) (3.6)\n",
            "Requirement already satisfied: urllib3<3,>=1.21.1 in /usr/local/lib/python3.10/dist-packages (from requests->huggingface-hub->timm==0.9.2->segmentation_models_pytorch) (2.0.7)\n",
            "Requirement already satisfied: certifi>=2017.4.17 in /usr/local/lib/python3.10/dist-packages (from requests->huggingface-hub->timm==0.9.2->segmentation_models_pytorch) (2024.2.2)\n",
            "Requirement already satisfied: mpmath>=0.19 in /usr/local/lib/python3.10/dist-packages (from sympy->torch->efficientnet-pytorch==0.7.1->segmentation_models_pytorch) (1.3.0)\n",
            "Building wheels for collected packages: efficientnet-pytorch, pretrainedmodels\n",
            "  Building wheel for efficientnet-pytorch (setup.py) ... \u001b[?25l\u001b[?25hdone\n",
            "  Created wheel for efficientnet-pytorch: filename=efficientnet_pytorch-0.7.1-py3-none-any.whl size=16429 sha256=8efc59d0067399f18d22c3e226f542906ae8fd38ec10eed230d6cb991fba52f7\n",
            "  Stored in directory: /root/.cache/pip/wheels/03/3f/e9/911b1bc46869644912bda90a56bcf7b960f20b5187feea3baf\n",
            "  Building wheel for pretrainedmodels (setup.py) ... \u001b[?25l\u001b[?25hdone\n",
            "  Created wheel for pretrainedmodels: filename=pretrainedmodels-0.7.4-py3-none-any.whl size=60945 sha256=be7e470fd211630258c77f39fb79218692531d3c5edf27ee61364e896940b9b7\n",
            "  Stored in directory: /root/.cache/pip/wheels/35/cb/a5/8f534c60142835bfc889f9a482e4a67e0b817032d9c6883b64\n",
            "Successfully built efficientnet-pytorch pretrainedmodels\n",
            "Installing collected packages: nvidia-nvtx-cu12, nvidia-nvjitlink-cu12, nvidia-nccl-cu12, nvidia-curand-cu12, nvidia-cufft-cu12, nvidia-cuda-runtime-cu12, nvidia-cuda-nvrtc-cu12, nvidia-cuda-cupti-cu12, nvidia-cublas-cu12, munch, nvidia-cusparse-cu12, nvidia-cudnn-cu12, nvidia-cusolver-cu12, efficientnet-pytorch, timm, pretrainedmodels, segmentation_models_pytorch\n",
            "Successfully installed efficientnet-pytorch-0.7.1 munch-4.0.0 nvidia-cublas-cu12-12.1.3.1 nvidia-cuda-cupti-cu12-12.1.105 nvidia-cuda-nvrtc-cu12-12.1.105 nvidia-cuda-runtime-cu12-12.1.105 nvidia-cudnn-cu12-8.9.2.26 nvidia-cufft-cu12-11.0.2.54 nvidia-curand-cu12-10.3.2.106 nvidia-cusolver-cu12-11.4.5.107 nvidia-cusparse-cu12-12.1.0.106 nvidia-nccl-cu12-2.19.3 nvidia-nvjitlink-cu12-12.4.99 nvidia-nvtx-cu12-12.1.105 pretrainedmodels-0.7.4 segmentation_models_pytorch-0.3.3 timm-0.9.2\n"
          ]
        }
      ],
      "source": [
        "!pip install segmentation_models_pytorch"
      ]
    },
    {
      "cell_type": "code",
      "execution_count": null,
      "id": "f01674e4",
      "metadata": {
        "id": "f01674e4",
        "colab": {
          "base_uri": "https://localhost:8080/"
        },
        "outputId": "e323d71b-2009-46c8-dfa2-5e8471041018"
      },
      "outputs": [
        {
          "output_type": "stream",
          "name": "stderr",
          "text": [
            "Downloading: \"https://download.pytorch.org/models/resnet34-333f7ec4.pth\" to /root/.cache/torch/hub/checkpoints/resnet34-333f7ec4.pth\n",
            "100%|██████████| 83.3M/83.3M [00:00<00:00, 289MB/s]\n"
          ]
        }
      ],
      "source": [
        "import segmentation_models_pytorch as smp\n",
        "\n",
        "TS_Net = smp.Unet(\n",
        "    encoder_name=\"resnet34\",\n",
        "    encoder_weights=\"imagenet\",\n",
        "    activation='sigmoid',\n",
        "    in_channels=1,\n",
        "    classes=1)\n",
        "\n",
        "def make_TS_Net():\n",
        "  return smp.Unet(\n",
        "    encoder_name=\"resnet34\",\n",
        "    encoder_weights=\"imagenet\",\n",
        "    activation='sigmoid',\n",
        "    in_channels=1,\n",
        "    classes=1)"
      ]
    },
    {
      "cell_type": "markdown",
      "id": "388634fe-4445-4444-80be-102c9811bc1e",
      "metadata": {
        "id": "388634fe-4445-4444-80be-102c9811bc1e"
      },
      "source": [
        "# 3-1. DataLoader"
      ]
    },
    {
      "cell_type": "markdown",
      "id": "417b8563-2daf-4eaf-b549-fe8f156ecdaa",
      "metadata": {
        "id": "417b8563-2daf-4eaf-b549-fe8f156ecdaa"
      },
      "source": [
        "#### : 네트워크에 데이터를 올리기 위해 DataLoader로 구현"
      ]
    },
    {
      "cell_type": "code",
      "execution_count": null,
      "id": "c48a5cef-debf-4bf2-9769-7bf2c2222763",
      "metadata": {
        "id": "c48a5cef-debf-4bf2-9769-7bf2c2222763"
      },
      "outputs": [],
      "source": [
        "# 데이터 로더를 구현하기\n",
        "class Dataset(torch.utils.data.Dataset): #torch.utils.data.Dataset 상속\n",
        "    def __init__(self, data_dir, transform=None):\n",
        "        self.data_dir = data_dir\n",
        "        self.transform = transform\n",
        "\n",
        "        lst_data = os.listdir(self.data_dir)\n",
        "\n",
        "        lst_label = [f for f in lst_data if f.startswith('label')]\n",
        "        lst_input = [f for f in lst_data if f.startswith('input')]\n",
        "\n",
        "        #정렬(오름차순)\n",
        "        lst_label.sort()\n",
        "        lst_input.sort()\n",
        "\n",
        "        self.lst_label = lst_label\n",
        "        self.lst_input = lst_input\n",
        "\n",
        "    def update_cropped_data(self, net):\n",
        "        # TODO: net을 매개변수로 받는 것이 아니라, 이전 모델의 출력 값을 받아서 이후에 __getitem__에서 꺼내쓸 수 있도록 조치\n",
        "        # Update cropped data based on network prediction\n",
        "        cropped_data = []\n",
        "        for data_item in self.data:\n",
        "            input = data_item['input']\n",
        "            # Assuming input is tensor, you might need some adjustments based on your data format\n",
        "            output = net(input)\n",
        "            cropped_segment = self.crop_segment(output)\n",
        "            cropped_data.append({'input': cropped_segment})\n",
        "        self.cropped_data = cropped_data\n",
        "\n",
        "    def __len__(self):\n",
        "        return len(self.lst_label)\n",
        "\n",
        "    def __getitem__(self, index):\n",
        "        label = np.load(os.path.join(self.data_dir, self.lst_label[index]))\n",
        "        input = np.load(os.path.join(self.data_dir, self.lst_input[index]))\n",
        "        # TODO: 필요하다면, crop 부분 추가\n",
        "\n",
        "        # 정규화\n",
        "        label = label/255.0\n",
        "        input = input/255.0\n",
        "\n",
        "        # 이미지와 레이블의 차원 = 3일 경우(채널이 없을 경우, 흑백 이미지), 새로운 채널(축) 생성\n",
        "        if label.ndim == 3:\n",
        "            label = label[:, :, :,np.newaxis]\n",
        "        if input.ndim == 3:\n",
        "            input = input[:, :, :,np.newaxis]\n",
        "\n",
        "        # 배치 차원 추가\n",
        "        #label = label[:, :, :, :, np.newaxis]\n",
        "        #input = input[:, :, :, :, np.newaxis]\n",
        "\n",
        "        self.data = {'input': input, 'label': label}\n",
        "\n",
        "        # transform이 정의되어 있다면 transform을 거친 데이터를 불러옴\n",
        "        if self.transform:\n",
        "            self.data = self.transform(self.data)\n",
        "\n",
        "        return self.data"
      ]
    },
    {
      "cell_type": "code",
      "execution_count": null,
      "id": "a2b428cc-25fd-4db6-8158-63032faeddb7",
      "metadata": {
        "id": "a2b428cc-25fd-4db6-8158-63032faeddb7"
      },
      "outputs": [],
      "source": [
        "# 데이터로더 잘 구현되었는지 확인\n",
        "dataset_train = Dataset(data_dir=dir_save_train)\n",
        "data = dataset_train.__getitem__(0) # 한 이미지 불러오기\n",
        "input = data['input']\n",
        "label = data['label']"
      ]
    },
    {
      "cell_type": "code",
      "execution_count": null,
      "id": "050c4fc6-0ace-48c7-ad68-ccc4084cfbda",
      "metadata": {
        "colab": {
          "base_uri": "https://localhost:8080/",
          "height": 308
        },
        "id": "050c4fc6-0ace-48c7-ad68-ccc4084cfbda",
        "outputId": "b17f4342-eb21-4674-8a5a-5082d243cf56"
      },
      "outputs": [
        {
          "output_type": "display_data",
          "data": {
            "text/plain": [
              "<Figure size 640x480 with 2 Axes>"
            ],
            "image/png": "[encoded data removed]"
          },
          "metadata": {}
        }
      ],
      "source": [
        "# 불러온 이미지 시각화 (가운데 슬라이스만)\n",
        "plt.subplot(122)\n",
        "plt.imshow(label[:,:,77,:].reshape(240,240), cmap='gray')\n",
        "plt.title('label')\n",
        "\n",
        "plt.subplot(121)\n",
        "plt.imshow(input[:,:,77,:].reshape(240,240), cmap='gray')\n",
        "plt.title('input')\n",
        "\n",
        "plt.show()"
      ]
    },
    {
      "cell_type": "markdown",
      "id": "16f8c319-7386-48ef-97b4-bb5407e88fc2",
      "metadata": {
        "id": "16f8c319-7386-48ef-97b4-bb5407e88fc2"
      },
      "source": [
        "# 3-2.Transform\n",
        "\n",
        "- ToTensor : numpy에서 tensor로 데이터 type을 변경\n",
        "- Normalization : 데이터 정규화\n",
        "- 3DFlipRot : 랜덤 x,y,z축 반전 + 30도 회전\n",
        "- GammaCorrection : 밝기 조정\n",
        "- ResizeImage : 이미지 사이즈 변경"
      ]
    },
    {
      "cell_type": "code",
      "execution_count": null,
      "id": "5de85996",
      "metadata": {
        "id": "5de85996",
        "colab": {
          "base_uri": "https://localhost:8080/"
        },
        "outputId": "94e20dac-8be6-4417-9bc4-064cd42a721d"
      },
      "outputs": [
        {
          "output_type": "stream",
          "name": "stdout",
          "text": [
            "Collecting elasticdeform\n",
            "  Downloading elasticdeform-0.5.0-cp310-cp310-manylinux_2_17_x86_64.manylinux2014_x86_64.whl (91 kB)\n",
            "\u001b[?25l     \u001b[90m━━━━━━━━━━━━━━━━━━━━━━━━━━━━━━━━━━━━━━━━\u001b[0m \u001b[32m0.0/91.6 kB\u001b[0m \u001b[31m?\u001b[0m eta \u001b[36m-:--:--\u001b[0m\r\u001b[2K     \u001b[90m━━━━━━━━━━━━━━━━━━━━━━━━━━━━━━━━━━━━━━━━\u001b[0m \u001b[32m91.6/91.6 kB\u001b[0m \u001b[31m2.6 MB/s\u001b[0m eta \u001b[36m0:00:00\u001b[0m\n",
            "\u001b[?25hRequirement already satisfied: numpy in /usr/local/lib/python3.10/dist-packages (from elasticdeform) (1.25.2)\n",
            "Requirement already satisfied: scipy in /usr/local/lib/python3.10/dist-packages (from elasticdeform) (1.11.4)\n",
            "Installing collected packages: elasticdeform\n",
            "Successfully installed elasticdeform-0.5.0\n"
          ]
        }
      ],
      "source": [
        "!pip install elasticdeform"
      ]
    },
    {
      "cell_type": "code",
      "execution_count": null,
      "id": "07194887-536b-4182-8095-b2ccf8e414da",
      "metadata": {
        "id": "07194887-536b-4182-8095-b2ccf8e414da"
      },
      "outputs": [],
      "source": [
        "# 트렌스폼 구현하기\n",
        "from scipy.ndimage import rotate\n",
        "import elasticdeform\n",
        "import torch\n",
        "import torch.nn.functional as F\n",
        "import torchvision.transforms as transforms\n",
        "\n",
        "class ToTensor(object):\n",
        "    def __call__(self, data):\n",
        "        label, input = data['label'], data['input']\n",
        "\n",
        "        # 채널 차원 순서 변경 : (높이, 너비, 깊이, 채널) -> ( 채널, 높이, 너비, 깊이)\n",
        "        label = label.transpose((3, 0, 1, 2)).astype(np.float32)\n",
        "        input = input.transpose((3, 0, 1, 2)).astype(np.float32)\n",
        "\n",
        "        data = {'label': torch.from_numpy(label), 'input': torch.from_numpy(input)}\n",
        "\n",
        "        return data\n",
        "\n",
        "class Normalization(object):\n",
        "    def __init__(self, mean=0.5, std=0.5):\n",
        "        self.mean = mean\n",
        "        self.std = std\n",
        "\n",
        "    def __call__(self, data):\n",
        "        label, input = data['label'], data['input']\n",
        "\n",
        "        input = (input - self.mean) / self.std\n",
        "\n",
        "        data = {'label': label, 'input': input}\n",
        "\n",
        "        return data\n",
        "\n",
        "# FIXME: ValueError: Input and output must have the same number of spatial dimensions, but got input with spatial dimensions of [240, 240, 155, 1] and output size of (256, 256, 155). Please provide input tensor in (N, C, d1, d2, ...,dK) format and output size in (o1, o2, ...,oK) format.\n",
        "class ResizeImage(object):\n",
        "    def __init__(self, output_size):\n",
        "        self.output_size = output_size\n",
        "\n",
        "    def __call__(self, data):\n",
        "        label, input = data['label'], data['input']\n",
        "\n",
        "        # 이미지 크기 변경\n",
        "        label = torch.from_numpy(label).unsqueeze(0).unsqueeze(0)   # 배치 차원 추가\n",
        "        label = F.interpolate(label, size=self.output_size, mode='bilinear', align_corners=False)\n",
        "        label = label.squeeze(0).squeeze(0).numpy()  # 오류 수정\n",
        "\n",
        "        input = torch.from_numpy(input).unsqueeze(0).unsqueeze(0)  # 배치 차원 추가\n",
        "        input = F.interpolate(input, size=self.output_size, mode='bilinear', align_corners=False)\n",
        "        input = input.squeeze(0).squeeze(0).numpy()  # 오류 수정\n",
        "\n",
        "        data = {'label': label, 'input': input}\n",
        "\n",
        "        return data\n",
        "\n",
        "class Padding(object):\n",
        "  def __init__(self, output_size):\n",
        "        self.output_size = output_size\n",
        "\n",
        "  def __call__(self, data):\n",
        "        label, input = data['label'], data['input']\n",
        "\n",
        "        # # ts net 돌릴 때 입력 이미지와 레이블 32의 배수로 패딩해야함\n",
        "        # pad_height = (self.output_size[0] - input.shape[0]) %32\n",
        "        # pad_width = (self.output_size[1] - input.shape[1]) % 32\n",
        "        pad_widths = [(0, self.output_size[i] - input.shape[i]) for i in range(len(self.output_size))]\n",
        "\n",
        "        input = np.pad(input, pad_widths, mode='constant')\n",
        "        label = np.pad(label, pad_widths, mode='constant')\n",
        "\n",
        "        data = {'label': label, 'input': input}\n",
        "\n",
        "        return data\n",
        "\n",
        "class MinMaxNormalization(object):\n",
        "    def __init__(self, min_val=0, max_val=1):\n",
        "        self.min_val = min_val\n",
        "        self.max_val = max_val\n",
        "\n",
        "    def __call__(self, data):\n",
        "        label, input = data['label'], data['input']\n",
        "\n",
        "        input = (input - input.min()) / (input.max() - input.min())\n",
        "        input = input * (self.max_val - self.min_val) + self.min_val\n",
        "\n",
        "        data = {'label': label, 'input': input}\n",
        "\n",
        "        return data\n",
        "\n",
        "class GammaCorrection(object): #3d 버전으로 수정완료\n",
        "    def __call__(self, data):\n",
        "        label, input = data['label'], data['input']\n",
        "\n",
        "        input_new = np.zeros(input.shape)\n",
        "\n",
        "        for c in range(input.shape[-1]):\n",
        "          im = input[:,:,:,c]\n",
        "          gain, gamma = (1.2 - 0.8) * np.random.random_sample(2,) + 0.8\n",
        "          im_new = np.sign(im)*gain*(np.abs(im)**gamma)\n",
        "          input_new[:,:,:,c] = im_new\n",
        "\n",
        "        data = {'label': label, 'input': input_new}\n",
        "\n",
        "        return data\n",
        "\n",
        "\n",
        "class ElasticDeformation(object):\n",
        "    def __call__(self, data):\n",
        "        label, input = data['label'], data['input']\n",
        "\n",
        "        input, label = elasticdeform.deform_random_grid([input, label], sigma=2, axis=[(0, 1, 2), (0, 1, 2)], order=[1, 0], mode='constant')\n",
        "\n",
        "        data = {'label': label, 'input': input}\n",
        "\n",
        "        return data\n",
        "\n",
        "\n",
        "class FlipRot3D(object):\n",
        "    def __call__(self, data):\n",
        "        label, input = data['label'], data['input']\n",
        "\n",
        "        flip_choice = np.random.randint(3)\n",
        "\n",
        "        if flip_choice == 0: # x축 flip\n",
        "          label, input = label[::-1, :, :], input[::-1, :, :, :]\n",
        "        if flip_choice == 1: # y축 flip\n",
        "          label, input = label[:, ::-1, :], input[:, ::-1, :, :]\n",
        "        if flip_choice == 2: # z축 flip\n",
        "          label, input = label[:, :, ::-1], input[:, :, ::-1, :]\n",
        "\n",
        "        rotate_choice = np.random.randint(2)\n",
        "        if rotate_choice == 0:\n",
        "          # angle = np.random.randint(91)   # 0~90도로 무작위 회전보다\n",
        "          angle = 30    # 특정 angle 정하는게 나은 듯\n",
        "          label, input = rotate(label, angle), rotate(input, angle)\n",
        "\n",
        "        data = {'label': label, 'input': input}\n",
        "\n",
        "        return data"
      ]
    },
    {
      "cell_type": "code",
      "source": [
        "# padding 확인용\n",
        "transform = transforms.Compose([Padding(output_size=(256,256,155,1)),\n",
        "                                #FlipRot3D(),\n",
        "                                #GammaCorrection(),\n",
        "                                Normalization(mean=0.5, std=0.5),\n",
        "                                ToTensor()])\n",
        "dataset_train = Dataset(data_dir=dir_save_train, transform=transform)\n",
        "data = dataset_train.__getitem__(0) # 한 이미지 불러오기"
      ],
      "metadata": {
        "id": "1VGyqGhaDYh5"
      },
      "id": "1VGyqGhaDYh5",
      "execution_count": null,
      "outputs": []
    },
    {
      "cell_type": "code",
      "source": [
        "input = data['input'][:,:,77,:]\n",
        "label = data['label'][:,:,77,:]\n",
        "\n",
        "# 불러온 이미지 시각화 (가운데 슬라이스만)\n",
        "plt.subplot(122)\n",
        "plt.hist(label.flatten(), bins=20)\n",
        "plt.title('label')\n",
        "\n",
        "plt.subplot(121)\n",
        "plt.hist(input.flatten(), bins=20)\n",
        "plt.title('input')\n",
        "\n",
        "plt.tight_layout()\n",
        "plt.show()"
      ],
      "metadata": {
        "colab": {
          "base_uri": "https://localhost:8080/",
          "height": 487
        },
        "id": "45vKP36wQ20G",
        "outputId": "4d9cf108-8c8b-4d00-e458-85aef2d0801c"
      },
      "id": "45vKP36wQ20G",
      "execution_count": null,
      "outputs": [
        {
          "output_type": "display_data",
          "data": {
            "text/plain": [
              "<Figure size 640x480 with 2 Axes>"
            ],
            "image/png": "[encoded data removed]"
          },
          "metadata": {}
        }
      ]
    },
    {
      "cell_type": "code",
      "execution_count": null,
      "id": "0ede01a3-141a-4e1d-8494-70b5382020f6",
      "metadata": {
        "colab": {
          "base_uri": "https://localhost:8080/",
          "height": 487
        },
        "id": "0ede01a3-141a-4e1d-8494-70b5382020f6",
        "outputId": "ae8599a8-d7e5-41bf-f08d-5543cb144d40"
      },
      "outputs": [
        {
          "output_type": "display_data",
          "data": {
            "text/plain": [
              "<Figure size 640x480 with 2 Axes>"
            ],
            "image/png": "[encoded data removed]"
          },
          "metadata": {}
        }
      ],
      "source": [
        "# 트랜스폼 잘 구현되었는지 확인(FlipRot3D,GammaCorrection,Normalization,ToTensor)\n",
        "#-> gammacorrection 코드 확인 필요 : 감마 범위를 랜덤으로 갖게 해서 그런가\n",
        "transform = transforms.Compose([FlipRot3D(),\n",
        "                                GammaCorrection(),\n",
        "                                # Normalization(mean=0.5, std=0.5),\n",
        "                                ToTensor()])\n",
        "dataset_train = Dataset(data_dir=dir_save_train, transform=transform)\n",
        "data = dataset_train.__getitem__(0) # 한 이미지 불러오기\n",
        "input = data['input'][:,:,77,:]\n",
        "label = data['label'][:,:,77,:]\n",
        "\n",
        "# 불러온 이미지 시각화\n",
        "plt.subplot(122)\n",
        "plt.hist(label.flatten(), bins=20)\n",
        "plt.title('label')\n",
        "\n",
        "plt.subplot(121)\n",
        "plt.hist(input.flatten(), bins=20)\n",
        "plt.title('input')\n",
        "\n",
        "plt.tight_layout()\n",
        "plt.show()"
      ]
    },
    {
      "cell_type": "code",
      "execution_count": null,
      "id": "0da0a130",
      "metadata": {
        "id": "0da0a130"
      },
      "outputs": [],
      "source": [
        "# 트랜스폼 잘 구현되었는지 확인(FlipRot3D,ElasticDeformation,GammaCorrection,Normalization,ToTensor)\n",
        "# ElasticDeformation 시도했으나 x 좋은 결과 & Normalization은 나중에 하는게 나을듯..?\n",
        "\n",
        "transform = transforms.Compose([FlipRot3D(),\n",
        "                                ElasticDeformation(),\n",
        "                                GammaCorrection(),\n",
        "                                Normalization(mean=0.5, std=0.5),\n",
        "                                ToTensor()])\n",
        "dataset_train = Dataset(data_dir=dir_save_train, transform=transform)\n",
        "data = dataset_train.__getitem__(0) # 한 이미지 불러오기\n",
        "input = data['input'][:,:,77,:]\n",
        "label = data['label'][:,:,77,:]\n",
        "\n",
        "# 불러온 이미지 시각화\n",
        "plt.subplot(122)\n",
        "plt.hist(label.flatten(), bins=20)\n",
        "plt.title('label')\n",
        "\n",
        "plt.subplot(121)\n",
        "plt.hist(input.flatten(), bins=20)\n",
        "plt.title('input')\n",
        "\n",
        "plt.tight_layout()\n",
        "plt.show()"
      ]
    },
    {
      "cell_type": "markdown",
      "id": "2e7f4903-a252-4e91-8564-c11045acaebd",
      "metadata": {
        "id": "2e7f4903-a252-4e91-8564-c11045acaebd"
      },
      "source": [
        "# 4. 네트워크 저장/불러오는 함수 **정의하기**"
      ]
    },
    {
      "cell_type": "code",
      "execution_count": null,
      "id": "da08fbee-d67f-4ada-8015-fb011b94dd1a",
      "metadata": {
        "id": "da08fbee-d67f-4ada-8015-fb011b94dd1a"
      },
      "outputs": [],
      "source": [
        "## 네트워크 저장하기\n",
        "def save(ckpt_dir, net, optim, epoch):\n",
        "    if not os.path.exists(ckpt_dir):\n",
        "        os.makedirs(ckpt_dir)\n",
        "\n",
        "    torch.save({'net': net.state_dict(), 'optim': optim.state_dict()},\n",
        "               \"%s/model_epoch%d.pth\" % (ckpt_dir, epoch))\n",
        "\n",
        "## 네트워크 불러오기\n",
        "def load(ckpt_dir, net, optim):\n",
        "    if not os.path.exists(ckpt_dir):\n",
        "        epoch = 0\n",
        "        return net, optim, epoch\n",
        "\n",
        "    ckpt_lst = os.listdir(ckpt_dir)\n",
        "    ckpt_lst.sort(key=lambda f: int(''.join(filter(str.isdigit, f))))\n",
        "\n",
        "    dict_model = torch.load('%s/%s' % (ckpt_dir, ckpt_lst[-1]))\n",
        "\n",
        "    net.load_state_dict(dict_model['net'])\n",
        "    optim.load_state_dict(dict_model['optim'])\n",
        "    epoch = int(ckpt_lst[-1].split('epoch')[1].split('.pth')[0])\n",
        "\n",
        "    return net, optim, epoch"
      ]
    },
    {
      "cell_type": "markdown",
      "id": "a60ee484-5748-4a50-aeef-ed3e1e5248f6",
      "metadata": {
        "id": "a60ee484-5748-4a50-aeef-ed3e1e5248f6"
      },
      "source": [
        "# 5. 네트워크 훈련하기"
      ]
    },
    {
      "cell_type": "code",
      "execution_count": null,
      "id": "d5b839ef-e876-4f81-992f-21fa9f9bfd0a",
      "metadata": {
        "id": "d5b839ef-e876-4f81-992f-21fa9f9bfd0a"
      },
      "outputs": [],
      "source": [
        "# 훈련 파라미터 설정하기\n",
        "param = {\n",
        "    \"model\": \"tsnet\", # unet, tsnet, unet3d\n",
        "    \"aug\": \"fegn\", # 아래 transform에 맞게 변경\n",
        "    \"device\": \"cpu\",\n",
        "    \"loss\": \"BCE\", # \"MSE\", \"BCE\"\n",
        "    \"optimizer\": \"Adam\", # (Adam, SGD)\n",
        "    \"scheduler\": \"LambdaLR_0.995\", #(None,LambdaLR_[계수], MultiplicativeLR_[계수], StepLR_[step_size]_[gamma])\n",
        "    \"learning_rate\": 1e-3,\n",
        "    \"training_epochs\": 20,\n",
        "    \"batch_size\": 2,\n",
        "    \"num_workers\": 0\n",
        "    }\n",
        "\n",
        "base_dir = f'./runs/{param[\"model\"]}_{param[\"aug\"]}_{param[\"loss\"]}_{param[\"optimizer\"]}_{param[\"scheduler\"]}_{param[\"learning_rate\"]}_{param[\"training_epochs\"]}_{param[\"batch_size\"]}'\n",
        "data_dir = dir_data\n",
        "ckpt_dir = os.path.join(base_dir, \"checkpoint\")\n",
        "log_dir = os.path.join(base_dir, \"log\")\n",
        "\n"
      ]
    },
    {
      "cell_type": "code",
      "execution_count": null,
      "id": "75588f5e-9193-4af6-ac45-723e35dad31c",
      "metadata": {
        "id": "75588f5e-9193-4af6-ac45-723e35dad31c"
      },
      "outputs": [],
      "source": [
        "\n",
        "# dataset_train = Dataset(data_dir=os.path.join(data_dir, 'train'), transform=transform)\n",
        "# loader_train = DataLoader(dataset_train, batch_size=param[\"batch_size\"], shuffle=True, num_workers=param[\"num_workers\"])\n",
        "\n",
        "# dataset_val = Dataset(data_dir=os.path.join(data_dir, 'val'), transform=transform)\n",
        "# loader_val = DataLoader(dataset_val, batch_size=param[\"batch_size\"], shuffle=False, num_workers=param[\"num_workers\"])\n",
        "\n",
        "# 훈련을 위한 Transform과 DataLoader\n",
        "# transform = transforms.Compose([ToTensor(),\n",
        "#                                 # Normalization(mean=0.5, std=0.5),\n",
        "#                                 # FlipRot(),\n",
        "#                                 GammaCorrection(gamma_range=(0.4, 1.2)),\n",
        "#                                 ResizeImage(output_size=(512,512)),\n",
        "#                                 MinMaxNormalization()])\n",
        "transform = transforms.Compose([Padding(output_size=(256,256,160,1)),\n",
        "                                FlipRot3D(),\n",
        "                                #ElasticDeformation(),\n",
        "                                GammaCorrection(),\n",
        "                                #Normalization(mean=0.5, std=0.5),\n",
        "                                ToTensor()])\n",
        "\n",
        "# Whole Tumor Dataset\n",
        "dataset_train_whole_tumor = Dataset(data_dir=os.path.join(data_dir, 'train'), transform=transform)\n",
        "loader_train_whole_tumor = DataLoader(dataset_train_whole_tumor, batch_size=param[\"batch_size\"], shuffle=True, num_workers=param[\"num_workers\"])\n",
        "\n",
        "dataset_val_whole_tumor = Dataset(data_dir=os.path.join(data_dir, 'val'), transform=transform)\n",
        "loader_val_whole_tumor = DataLoader(dataset_val_whole_tumor, batch_size=param[\"batch_size\"], shuffle=False, num_workers=param[\"num_workers\"])\n",
        "\n",
        "# Tumor Core Dataset\n",
        "dataset_train_tumor_core = Dataset(data_dir=os.path.join(data_dir, 'train'), transform=transform)\n",
        "loader_train_tumor_core = DataLoader(dataset_train_tumor_core, batch_size=param[\"batch_size\"], shuffle=True, num_workers=param[\"num_workers\"])\n",
        "\n",
        "dataset_val_tumor_core = Dataset(data_dir=os.path.join(data_dir, 'val'), transform=transform)\n",
        "loader_val_tumor_core = DataLoader(dataset_val_tumor_core, batch_size=param[\"batch_size\"], shuffle=False, num_workers=param[\"num_workers\"])\n",
        "\n",
        "# Enhancing Tumor Core Dataset\n",
        "dataset_train_enhancing_tumor_core = Dataset(data_dir=os.path.join(data_dir, 'train'), transform=transform)\n",
        "loader_train_enhancing_tumor_core = DataLoader(dataset_train_enhancing_tumor_core, batch_size=param[\"batch_size\"], shuffle=True, num_workers=param[\"num_workers\"])\n",
        "\n",
        "dataset_val_enhancing_tumor_core = Dataset(data_dir=os.path.join(data_dir, 'val'), transform=transform)\n",
        "loader_val_enhancing_tumor_core = DataLoader(dataset_val_enhancing_tumor_core, batch_size=param[\"batch_size\"], shuffle=False, num_workers=param[\"num_workers\"])\n",
        "\n",
        "\n",
        "\n",
        "device = torch.device('cuda' if torch.cuda.is_available() else 'cpu')\n",
        "\n",
        "# 네트워크 생성하기\n",
        "if param[\"model\"] == \"unet\":\n",
        "    net_whole_tumor = UNet().to(device)\n",
        "    net_tumor_core = UNet().to(device)\n",
        "    net_enhancing_tumor_core = UNet().to(device)\n",
        "elif param[\"model\"] == \"tsnet\":\n",
        "    net_whole_tumor = make_TS_Net().to(device)\n",
        "    net_tumor_core = make_TS_Net().to(device)\n",
        "    net_enhancing_tumor_core = make_TS_Net().to(device)\n",
        "if param[\"model\"] == \"unet3d\":\n",
        "    IN_CHANNELS = 1\n",
        "    NUM_CLASSES = 1\n",
        "    net_whole_tumor = UNet3D(in_channels=IN_CHANNELS , num_classes= NUM_CLASSES).to(device)\n",
        "    net_tumor_core = UNet3D(in_channels=IN_CHANNELS , num_classes= NUM_CLASSES).to(device)\n",
        "    net_enhancing_tumor_core = UNet3D(in_channels=IN_CHANNELS , num_classes= NUM_CLASSES).to(device)\n",
        "\n",
        "# Define the loss function and optimizer\n",
        "if param[\"loss\"] == \"MSE\":\n",
        "    fn_loss = nn.MSELoss().to(device)\n",
        "elif param[\"loss\"] == \"BCE\":\n",
        "    fn_loss = nn.BCEWithLogitsLoss().to(device)\n",
        "else:\n",
        "    print(\"올바른 loss function을 설정해주세요. (MSE)\")\n",
        "\n",
        "# Optimizer 설정하기\n",
        "if param[\"optimizer\"] == \"Adam\":\n",
        "    optim_whole_tumor = torch.optim.Adam(net_whole_tumor.parameters(), lr=param[\"learning_rate\"])\n",
        "    optim_tumor_core = torch.optim.Adam(net_tumor_core.parameters(), lr=param[\"learning_rate\"])\n",
        "    optim_enhancing_tumor_core = torch.optim.Adam(net_enhancing_tumor_core.parameters(), lr=param[\"learning_rate\"])\n",
        "elif param[\"optimizer\"] == \"SGD\":\n",
        "    optim_whole_tumor = torch.optim.SGD(net_whole_tumor.parameters() , lr=param[\"learning_rate\"])\n",
        "    optim_tumor_core = torch.optim.SGD(net_tumor_core.parameters() , lr=param[\"learning_rate\"])\n",
        "    optim_enhancing_tumor_core = torch.optim.SGD(net_enhancing_tumor_core.parameters() , lr=param[\"learning_rate\"])\n",
        "else:\n",
        "    print(\"올바른 optimizer를 입력해 주세요. (Adam, SGD)\")\n",
        "\n",
        "# Scheduler 설정하기\n",
        "if param[\"scheduler\"] == \"None\":\n",
        "    scheduler_whole_tumor = False\n",
        "    scheduler_tumor_core = False\n",
        "    scheduler_enhancing_tumor_core = False\n",
        "elif param[\"scheduler\"].split(\"_\")[0] == \"LambdaLR\":\n",
        "    lambda_coefficient = float(param[\"scheduler\"].split(\"_\")[1])\n",
        "    scheduler_whole_tumor = torch.optim.lr_scheduler.LambdaLR(optimizer=optim_whole_tumor, lr_lambda=lambda epoch: lambda_coefficient ** epoch)\n",
        "    scheduler_tumor_core = torch.optim.lr_scheduler.LambdaLR(optimizer=optim_tumor_core, lr_lambda=lambda epoch: lambda_coefficient ** epoch)\n",
        "    scheduler_enhancing_tumor_core = torch.optim.lr_scheduler.LambdaLR(optimizer=optim_enhancing_tumor_core, lr_lambda=lambda epoch: lambda_coefficient ** epoch)\n",
        "elif param[\"scheduler\"].split(\"_\")[0] == \"MultiplicativeLR\":\n",
        "    lambda_coefficient = float(param[\"scheduler\"].split(\"_\")[1])\n",
        "    scheduler_whole_tumor = torch.optim.lr_scheduler.MultiplicativeLR(optimizer=optim_whole_tumor, lr_lambda=lambda epoch: lambda_coefficient ** epoch)\n",
        "    scheduler_tumor_core = torch.optim.lr_scheduler.MultiplicativeLR(optimizer=optim_tumor_core, lr_lambda=lambda epoch: lambda_coefficient ** epoch)\n",
        "    scheduler_enhancing_tumor_core = torch.optim.lr_scheduler.MultiplicativeLR(optimizer=optim_enhancing_tumor_core, lr_lambda=lambda epoch: lambda_coefficient ** epoch)\n",
        "elif param[\"scheduler\"].split(\"_\")[0] == \"StepLR\":\n",
        "    param_scheduler = param[\"scheduler\"].split(\"_\")\n",
        "    step_size = int(param_scheduler[1])\n",
        "    gamma = float(param_scheduler[2])\n",
        "    scheduler_whole_tumor = torch.optim.lr_scheduler.StepLR(optim_whole_tumor, step_size=step_size, gamma=gamma)\n",
        "    scheduler_tumor_core = torch.optim.lr_scheduler.StepLR(optim_tumor_core, step_size=step_size, gamma=gamma)\n",
        "    scheduler_enhancing_tumor_core = torch.optim.lr_scheduler.StepLR(optim_enhancing_tumor_core, step_size=step_size, gamma=gamma)\n",
        "else:\n",
        "    scheduler_whole_tumor = False\n",
        "    scheduler_tumor_core = False\n",
        "    scheduler_enhancing_tumor_core = False\n",
        "    print(\"올바른 스케줄러를 입력하세요. (None, LambdaLR_[계수], MultiplicativeLR_[계수], StepLR_[step_size]_[gamma])\")\n",
        "\n",
        "\n",
        "# 그밖에 부수적인 variables 설정하기\n",
        "num_data_train = len(dataset_train_whole_tumor)\n",
        "num_data_val = len(loader_train_whole_tumor)\n",
        "\n",
        "num_batch_train = np.ceil(num_data_train / param[\"batch_size\"])\n",
        "num_batch_val = np.ceil(num_data_val / param[\"batch_size\"])\n",
        "\n",
        "# 그 밖에 부수적인 functions 설정하기\n",
        "fn_tonumpy = lambda x: x.to('cpu').detach().numpy().transpose(0, 2, 3, 1)\n",
        "fn_denorm = lambda x, mean, std: (x * std) + mean\n",
        "fn_class = lambda x: 1.0 * (x > 0.5)"
      ]
    },
    {
      "cell_type": "code",
      "execution_count": null,
      "id": "17456195-4e50-4ca7-aeb0-c593a755af12",
      "metadata": {
        "id": "17456195-4e50-4ca7-aeb0-c593a755af12"
      },
      "outputs": [],
      "source": [
        "# Tensorboard 를 사용하기 위한 SummaryWriter 설정\n",
        "writer_train = SummaryWriter(log_dir=os.path.join(log_dir, 'train'))\n",
        "writer_val = SummaryWriter(log_dir=os.path.join(log_dir, 'val'))"
      ]
    },
    {
      "cell_type": "code",
      "execution_count": null,
      "id": "8f658923-d68b-4e6d-b249-e3f83c366705",
      "metadata": {
        "id": "8f658923-d68b-4e6d-b249-e3f83c366705"
      },
      "outputs": [],
      "source": [
        "# 네트워크 학습시키기\n",
        "st_epoch = 0\n",
        "# 학습한 모델이 있을 경우 모델 로드하기\n",
        "# net, optim, st_epoch = load(ckpt_dir=ckpt_dir, net=net, optim=optim)"
      ]
    },
    {
      "cell_type": "code",
      "source": [
        "def crop_input_based_on_label(input_image, output_whole_tumor, label_whole_tumor, threshold=0.5):\n",
        "    # 이 함수에서 input_image는 첫 번째 모델의 입력 이미지입니다.\n",
        "    # output_whole_tumor는 첫 번째 모델의 출력입니다.\n",
        "    # label_whole_tumor는 첫 번째 모델의 정답 레이블입니다.\n",
        "    # threshold는 임계값으로, 기본값은 0.5입니다.\n",
        "\n",
        "    # 여기서 label_whole_tumor를 기반으로 입력 이미지를 잘라내거나 크기를 조정하여\n",
        "    # 두 번째 모델인 tumor core 모델의 입력으로 생성합니다.\n",
        "\n",
        "    # 예시: label_whole_tumor를 기준으로 입력 이미지를 crop하는 방법\n",
        "    # 예시에서는 label_whole_tumor가 바이너리 세그멘테이션 맵으로 가정합니다.\n",
        "    # 세그멘테이션 맵을 기반으로 입력 이미지를 crop하여 반환합니다.\n",
        "\n",
        "    # 세그멘테이션 맵에서 유효한 영역을 가져옵니다.\n",
        "    valid_area = label_whole_tumor > threshold\n",
        "\n",
        "    # 세그멘테이션 맵을 기반으로 입력 이미지를 crop합니다.\n",
        "    # 여기서는 PyTorch의 indexing을 사용하여 crop할 수 있습니다.\n",
        "    cropped_input_image = input_image[:, valid_area]\n",
        "\n",
        "    # 반환된 crop된 이미지를 tumor core 모델의 입력으로 사용합니다.\n",
        "    return cropped_input_image, label_whole_tumor[:, valid_area]  # label_whole_tumor도 동일한 영역으로 잘라내어야 합니다."
      ],
      "metadata": {
        "id": "klbs8oV91b9S"
      },
      "id": "klbs8oV91b9S",
      "execution_count": null,
      "outputs": []
    },
    {
      "cell_type": "code",
      "execution_count": null,
      "id": "7015893d",
      "metadata": {
        "id": "7015893d"
      },
      "outputs": [],
      "source": [
        "def train_model(net, optimizer, scheduler, data_loader, writer, epoch, phase):\n",
        "    net.train() if phase == 'train' else net.eval()\n",
        "    loss_arr = []\n",
        "\n",
        "    for batch, data in enumerate(data_loader, 1):\n",
        "        label = data['label'].to(device)\n",
        "        input = data['input'].to(device)\n",
        "\n",
        "        if phase == 'train':\n",
        "            optimizer.zero_grad()\n",
        "\n",
        "        output = net(input)\n",
        "\n",
        "        # If in training phase, use output for the next model\n",
        "        if phase == 'train':\n",
        "            cropped_input = crop_input_based_on_label(input, output)\n",
        "            next_model_output = net(cropped_input)\n",
        "            loss = fn_loss(next_model_output, label)\n",
        "            loss.backward()\n",
        "            optimizer.step()\n",
        "        else:\n",
        "            loss = fn_loss(output, label)\n",
        "\n",
        "        loss_arr += [loss.item()]\n",
        "\n",
        "        print(\"%s: EPOCH %04d / %04d | BATCH %04d / %04d | LOSS %.4f\" %\n",
        "              (phase.upper(), epoch, param[\"training_epochs\"], batch, len(data_loader), np.mean(loss_arr)), end=\"\")\n",
        "        if scheduler and phase == 'train':\n",
        "            print(\" | LR\",*scheduler.get_last_lr())\n",
        "        elif phase == 'train':\n",
        "            print(\" | LR\",optimizer.param_groups[0]['lr'])\n",
        "        else:\n",
        "            print()\n",
        "\n",
        "        label = fn_tonumpy(label)\n",
        "        input = fn_tonumpy(fn_denorm(input, mean=0.5, std=0.5))\n",
        "        output = fn_tonumpy(fn_class(output))\n",
        "\n",
        "        writer.add_image('label', label, len(data_loader) * (epoch - 1) + batch, dataformats='NHWC')\n",
        "        writer.add_image('input', input, len(data_loader) * (epoch - 1) + batch, dataformats='NHWC')\n",
        "        writer.add_image('output', output, len(data_loader) * (epoch - 1) + batch, dataformats='NHWC')\n",
        "    if scheduler and phase == 'train':\n",
        "      scheduler.step()\n",
        "      writer.add_scalar('learning_rate', *scheduler.get_last_lr())\n",
        "    elif phase == 'train':\n",
        "      writer.add_scalar('learning_rate', optimizer.param_groups[0]['lr'])\n",
        "    writer.add_scalar('loss', np.mean(loss_arr), epoch)\n"
      ]
    },
    {
      "cell_type": "code",
      "execution_count": null,
      "metadata": {
        "id": "f08f75b4"
      },
      "outputs": [],
      "source": [
        "# 첫번째 모델의 출력을 사용하여 두번째 모델의 입력을 생성하고 학습, 두번째 모델의 출력을 사용하여 세번째 모델의 입력을 생성하고 학습\n",
        "for epoch in range(st_epoch + 1, param[\"training_epochs\"] + 1):\n",
        "    net_whole_tumor.train()\n",
        "    net_tumor_core.train()\n",
        "    net_enhancing_tumor_core.train()  # Enhancing tumor core 모델도 학습 상태로 설정\n",
        "    loss_arr_whole_tumor = []\n",
        "    loss_arr_tumor_core = []\n",
        "    loss_arr_enhancing_tumor_core = []\n",
        "\n",
        "    for batch, data in enumerate(loader_train_whole_tumor, 1):\n",
        "        # forward pass\n",
        "        label_whole_tumor = data['label'].to(device)\n",
        "        input_whole_tumor = data['input'].to(device)\n",
        "\n",
        "        # Get output of whole tumor model\n",
        "        output_whole_tumor = net_whole_tumor(input_whole_tumor)\n",
        "\n",
        "        # Crop input based on whole tumor model output\n",
        "        input_tumor_core, label_tumor_core = crop_input_based_on_label(input_whole_tumor, label_whole_tumor, output_whole_tumor)\n",
        "\n",
        "        # Forward pass for tumor core model\n",
        "        output_tumor_core = net_tumor_core(input_tumor_core)\n",
        "\n",
        "        # Crop input based on tumor core model output\n",
        "        input_enhancing_tumor_core, label_enhancing_tumor_core = crop_input_based_on_label(input_tumor_core, label_tumor_core, output_tumor_core)\n",
        "\n",
        "        # Forward pass for enhancing tumor core model\n",
        "        output_enhancing_tumor_core = net_enhancing_tumor_core(input_enhancing_tumor_core)\n",
        "\n",
        "        # Backward pass for enhancing tumor core model\n",
        "        optim_enhancing_tumor_core.zero_grad()\n",
        "        loss_enhancing_tumor_core = fn_loss(output_enhancing_tumor_core, label_enhancing_tumor_core)\n",
        "        loss_enhancing_tumor_core.backward()\n",
        "        optim_enhancing_tumor_core.step()\n",
        "\n",
        "        # Backward pass for tumor core model\n",
        "        optim_tumor_core.zero_grad()\n",
        "        loss_tumor_core = fn_loss(output_tumor_core, label_tumor_core)\n",
        "        loss_tumor_core.backward()\n",
        "        optim_tumor_core.step()\n",
        "\n",
        "        # Backward pass for whole tumor model\n",
        "        optim_whole_tumor.zero_grad()\n",
        "        loss_whole_tumor = fn_loss(output_whole_tumor, label_whole_tumor)\n",
        "        loss_whole_tumor.backward()\n",
        "        optim_whole_tumor.step()\n",
        "\n",
        "        loss_arr_whole_tumor.append(loss_whole_tumor.item())\n",
        "        loss_arr_tumor_core.append(loss_tumor_core.item())\n",
        "        loss_arr_enhancing_tumor_core.append(loss_enhancing_tumor_core.item())\n",
        "\n",
        "        print(\"TRAIN: EPOCH %04d / %04d | BATCH %04d / %04d | WT_LOSS %.4f | TC_LOSS %.4f | ETC_LOSS %.4f\" %\n",
        "              (epoch, param[\"training_epochs\"], batch, len(loader_train_whole_tumor), np.mean(loss_arr_whole_tumor), np.mean(loss_arr_tumor_core), np.mean(loss_arr_enhancing_tumor_core)))\n",
        "\n",
        "        # Tensorboard 저장하기\n",
        "        if param[\"scheduler\"] != \"None\":\n",
        "            scheduler_whole_tumor.step()\n",
        "            scheduler_tumor_core.step()\n",
        "            scheduler_enhancing_tumor_core.step()\n",
        "            writer_train.add_scalar('learning_rater_whole_tumor', *scheduler_whole_tumor.get_last_lr())\n",
        "            writer_train.add_scalar('learning_rate_tumor_core', *scheduler_tumor_core.get_last_lr())\n",
        "            writer_train.add_scalar('learning_rater_enhancing_tumor_core', *scheduler_enhancing_tumor_core.get_last_lr())\n",
        "        else:\n",
        "            writer_train.add_scalar('learning_rater_whole_tumor', optim_whole_tumor.param_groups[0]['lr'])\n",
        "            writer_train.add_scalar('learning_rate_tumor_core', optim_tumor_core.param_groups[0]['lr'])\n",
        "            writer_train.add_scalar('learning_rater_enhancing_tumor_core', optim_enhancing_tumor_core.param_groups[0]['lr'])\n",
        "        writer_train.add_scalar('loss_whole_tumor', np.mean(loss_arr_whole_tumor), epoch)\n",
        "        writer_train.add_scalar('loss_tumor_core', np.mean(loss_arr_tumor_core), epoch)\n",
        "        writer_train.add_scalar('loss_enhancing_tumor_core', np.mean(loss_arr_enhancing_tumor_core), epoch)\n"
      ],
      "id": "f08f75b4"
    },
    {
      "cell_type": "code",
      "source": [
        "# Training loop\n",
        "for epoch in range(st_epoch + 1, param[\"training_epochs\"] + 1):\n",
        "    train_model(net_whole_tumor, optim_whole_tumor, scheduler_whole_tumor, loader_train_whole_tumor, writer_train, epoch, 'train')\n",
        "    train_model(net_whole_tumor, None, None, loader_val_whole_tumor, writer_val, epoch, 'val')\n",
        "\n",
        "    # Train and validate tumor core model\n",
        "    train_model(net_tumor_core, optim_tumor_core, scheduler_tumor_core, loader_train_tumor_core, writer_train, epoch, 'train')\n",
        "    train_model(net_tumor_core, None, None, loader_val_tumor_core, writer_val, epoch, 'val')\n",
        "\n",
        "    # Train and validate enhancing tumor core model\n",
        "    train_model(net_enhancing_tumor_core, optim_enhancing_tumor_core, scheduler_enhancing_tumor_core, loader_train_enhancing_tumor_core, writer_train, epoch, 'train')\n",
        "    train_model(net_enhancing_tumor_core, None, None, loader_val_enhancing_tumor_core, writer_val, epoch, 'val')\n",
        "\n",
        "    # Save models every 50 epochs\n",
        "    if epoch % 50 == 0:\n",
        "        save(ckpt_dir=ckpt_dir, net=net_whole_tumor, optim=optim_whole_tumor, epoch=epoch)\n",
        "        save(ckpt_dir=ckpt_dir, net=net_tumor_core, optim=optim_tumor_core, epoch=epoch)\n",
        "        save(ckpt_dir=ckpt_dir, net=net_enhancing_tumor_core, optim=optim_enhancing_tumor_core, epoch=epoch)\n",
        "\n",
        "# Close writers\n",
        "writer_train.close()\n",
        "writer_val.close()"
      ],
      "metadata": {
        "colab": {
          "base_uri": "https://localhost:8080/",
          "height": 356
        },
        "id": "kG-Y4TThAEul",
        "outputId": "6e86504b-f51a-4a35-9245-dd0af1b8bb43"
      },
      "id": "kG-Y4TThAEul",
      "execution_count": null,
      "outputs": [
        {
          "output_type": "error",
          "ename": "RuntimeError",
          "evalue": "stack expects each tensor to be equal size, but got [1, 350, 350, 160] at entry 0 and [1, 256, 256, 160] at entry 1",
          "traceback": [
            "\u001b[0;31m---------------------------------------------------------------------------\u001b[0m",
            "\u001b[0;31mRuntimeError\u001b[0m                              Traceback (most recent call last)",
            "\u001b[0;32m<ipython-input-34-a4af1af85215>\u001b[0m in \u001b[0;36m<cell line: 2>\u001b[0;34m()\u001b[0m\n\u001b[1;32m      1\u001b[0m \u001b[0;31m# Training loop\u001b[0m\u001b[0;34m\u001b[0m\u001b[0;34m\u001b[0m\u001b[0m\n\u001b[1;32m      2\u001b[0m \u001b[0;32mfor\u001b[0m \u001b[0mepoch\u001b[0m \u001b[0;32min\u001b[0m \u001b[0mrange\u001b[0m\u001b[0;34m(\u001b[0m\u001b[0mst_epoch\u001b[0m \u001b[0;34m+\u001b[0m \u001b[0;36m1\u001b[0m\u001b[0;34m,\u001b[0m \u001b[0mparam\u001b[0m\u001b[0;34m[\u001b[0m\u001b[0;34m\"training_epochs\"\u001b[0m\u001b[0;34m]\u001b[0m \u001b[0;34m+\u001b[0m \u001b[0;36m1\u001b[0m\u001b[0;34m)\u001b[0m\u001b[0;34m:\u001b[0m\u001b[0;34m\u001b[0m\u001b[0;34m\u001b[0m\u001b[0m\n\u001b[0;32m----> 3\u001b[0;31m     \u001b[0mtrain_model\u001b[0m\u001b[0;34m(\u001b[0m\u001b[0mnet_whole_tumor\u001b[0m\u001b[0;34m,\u001b[0m \u001b[0moptim_whole_tumor\u001b[0m\u001b[0;34m,\u001b[0m \u001b[0mscheduler_whole_tumor\u001b[0m\u001b[0;34m,\u001b[0m \u001b[0mloader_train_whole_tumor\u001b[0m\u001b[0;34m,\u001b[0m \u001b[0mwriter_train\u001b[0m\u001b[0;34m,\u001b[0m \u001b[0mepoch\u001b[0m\u001b[0;34m,\u001b[0m \u001b[0;34m'train'\u001b[0m\u001b[0;34m)\u001b[0m\u001b[0;34m\u001b[0m\u001b[0;34m\u001b[0m\u001b[0m\n\u001b[0m\u001b[1;32m      4\u001b[0m     \u001b[0mtrain_model\u001b[0m\u001b[0;34m(\u001b[0m\u001b[0mnet_whole_tumor\u001b[0m\u001b[0;34m,\u001b[0m \u001b[0;32mNone\u001b[0m\u001b[0;34m,\u001b[0m \u001b[0;32mNone\u001b[0m\u001b[0;34m,\u001b[0m \u001b[0mloader_val_whole_tumor\u001b[0m\u001b[0;34m,\u001b[0m \u001b[0mwriter_val\u001b[0m\u001b[0;34m,\u001b[0m \u001b[0mepoch\u001b[0m\u001b[0;34m,\u001b[0m \u001b[0;34m'val'\u001b[0m\u001b[0;34m)\u001b[0m\u001b[0;34m\u001b[0m\u001b[0;34m\u001b[0m\u001b[0m\n\u001b[1;32m      5\u001b[0m \u001b[0;34m\u001b[0m\u001b[0m\n",
            "\u001b[0;32m<ipython-input-33-abc1d50d3def>\u001b[0m in \u001b[0;36mtrain_model\u001b[0;34m(net, optimizer, scheduler, data_loader, writer, epoch, phase)\u001b[0m\n\u001b[1;32m      3\u001b[0m     \u001b[0mloss_arr\u001b[0m \u001b[0;34m=\u001b[0m \u001b[0;34m[\u001b[0m\u001b[0;34m]\u001b[0m\u001b[0;34m\u001b[0m\u001b[0;34m\u001b[0m\u001b[0m\n\u001b[1;32m      4\u001b[0m \u001b[0;34m\u001b[0m\u001b[0m\n\u001b[0;32m----> 5\u001b[0;31m     \u001b[0;32mfor\u001b[0m \u001b[0mbatch\u001b[0m\u001b[0;34m,\u001b[0m \u001b[0mdata\u001b[0m \u001b[0;32min\u001b[0m \u001b[0menumerate\u001b[0m\u001b[0;34m(\u001b[0m\u001b[0mdata_loader\u001b[0m\u001b[0;34m,\u001b[0m \u001b[0;36m1\u001b[0m\u001b[0;34m)\u001b[0m\u001b[0;34m:\u001b[0m\u001b[0;34m\u001b[0m\u001b[0;34m\u001b[0m\u001b[0m\n\u001b[0m\u001b[1;32m      6\u001b[0m         \u001b[0mlabel\u001b[0m \u001b[0;34m=\u001b[0m \u001b[0mdata\u001b[0m\u001b[0;34m[\u001b[0m\u001b[0;34m'label'\u001b[0m\u001b[0;34m]\u001b[0m\u001b[0;34m.\u001b[0m\u001b[0mto\u001b[0m\u001b[0;34m(\u001b[0m\u001b[0mdevice\u001b[0m\u001b[0;34m)\u001b[0m\u001b[0;34m\u001b[0m\u001b[0;34m\u001b[0m\u001b[0m\n\u001b[1;32m      7\u001b[0m         \u001b[0minput\u001b[0m \u001b[0;34m=\u001b[0m \u001b[0mdata\u001b[0m\u001b[0;34m[\u001b[0m\u001b[0;34m'input'\u001b[0m\u001b[0;34m]\u001b[0m\u001b[0;34m.\u001b[0m\u001b[0mto\u001b[0m\u001b[0;34m(\u001b[0m\u001b[0mdevice\u001b[0m\u001b[0;34m)\u001b[0m\u001b[0;34m\u001b[0m\u001b[0;34m\u001b[0m\u001b[0m\n",
            "\u001b[0;32m/usr/local/lib/python3.10/dist-packages/torch/utils/data/dataloader.py\u001b[0m in \u001b[0;36m__next__\u001b[0;34m(self)\u001b[0m\n\u001b[1;32m    629\u001b[0m                 \u001b[0;31m# TODO(https://github.com/pytorch/pytorch/issues/76750)\u001b[0m\u001b[0;34m\u001b[0m\u001b[0;34m\u001b[0m\u001b[0m\n\u001b[1;32m    630\u001b[0m                 \u001b[0mself\u001b[0m\u001b[0;34m.\u001b[0m\u001b[0m_reset\u001b[0m\u001b[0;34m(\u001b[0m\u001b[0;34m)\u001b[0m  \u001b[0;31m# type: ignore[call-arg]\u001b[0m\u001b[0;34m\u001b[0m\u001b[0;34m\u001b[0m\u001b[0m\n\u001b[0;32m--> 631\u001b[0;31m             \u001b[0mdata\u001b[0m \u001b[0;34m=\u001b[0m \u001b[0mself\u001b[0m\u001b[0;34m.\u001b[0m\u001b[0m_next_data\u001b[0m\u001b[0;34m(\u001b[0m\u001b[0;34m)\u001b[0m\u001b[0;34m\u001b[0m\u001b[0;34m\u001b[0m\u001b[0m\n\u001b[0m\u001b[1;32m    632\u001b[0m             \u001b[0mself\u001b[0m\u001b[0;34m.\u001b[0m\u001b[0m_num_yielded\u001b[0m \u001b[0;34m+=\u001b[0m \u001b[0;36m1\u001b[0m\u001b[0;34m\u001b[0m\u001b[0;34m\u001b[0m\u001b[0m\n\u001b[1;32m    633\u001b[0m             \u001b[0;32mif\u001b[0m \u001b[0mself\u001b[0m\u001b[0;34m.\u001b[0m\u001b[0m_dataset_kind\u001b[0m \u001b[0;34m==\u001b[0m \u001b[0m_DatasetKind\u001b[0m\u001b[0;34m.\u001b[0m\u001b[0mIterable\u001b[0m \u001b[0;32mand\u001b[0m\u001b[0;31m \u001b[0m\u001b[0;31m\\\u001b[0m\u001b[0;34m\u001b[0m\u001b[0;34m\u001b[0m\u001b[0m\n",
            "\u001b[0;32m/usr/local/lib/python3.10/dist-packages/torch/utils/data/dataloader.py\u001b[0m in \u001b[0;36m_next_data\u001b[0;34m(self)\u001b[0m\n\u001b[1;32m    673\u001b[0m     \u001b[0;32mdef\u001b[0m \u001b[0m_next_data\u001b[0m\u001b[0;34m(\u001b[0m\u001b[0mself\u001b[0m\u001b[0;34m)\u001b[0m\u001b[0;34m:\u001b[0m\u001b[0;34m\u001b[0m\u001b[0;34m\u001b[0m\u001b[0m\n\u001b[1;32m    674\u001b[0m         \u001b[0mindex\u001b[0m \u001b[0;34m=\u001b[0m \u001b[0mself\u001b[0m\u001b[0;34m.\u001b[0m\u001b[0m_next_index\u001b[0m\u001b[0;34m(\u001b[0m\u001b[0;34m)\u001b[0m  \u001b[0;31m# may raise StopIteration\u001b[0m\u001b[0;34m\u001b[0m\u001b[0;34m\u001b[0m\u001b[0m\n\u001b[0;32m--> 675\u001b[0;31m         \u001b[0mdata\u001b[0m \u001b[0;34m=\u001b[0m \u001b[0mself\u001b[0m\u001b[0;34m.\u001b[0m\u001b[0m_dataset_fetcher\u001b[0m\u001b[0;34m.\u001b[0m\u001b[0mfetch\u001b[0m\u001b[0;34m(\u001b[0m\u001b[0mindex\u001b[0m\u001b[0;34m)\u001b[0m  \u001b[0;31m# may raise StopIteration\u001b[0m\u001b[0;34m\u001b[0m\u001b[0;34m\u001b[0m\u001b[0m\n\u001b[0m\u001b[1;32m    676\u001b[0m         \u001b[0;32mif\u001b[0m \u001b[0mself\u001b[0m\u001b[0;34m.\u001b[0m\u001b[0m_pin_memory\u001b[0m\u001b[0;34m:\u001b[0m\u001b[0;34m\u001b[0m\u001b[0;34m\u001b[0m\u001b[0m\n\u001b[1;32m    677\u001b[0m             \u001b[0mdata\u001b[0m \u001b[0;34m=\u001b[0m \u001b[0m_utils\u001b[0m\u001b[0;34m.\u001b[0m\u001b[0mpin_memory\u001b[0m\u001b[0;34m.\u001b[0m\u001b[0mpin_memory\u001b[0m\u001b[0;34m(\u001b[0m\u001b[0mdata\u001b[0m\u001b[0;34m,\u001b[0m \u001b[0mself\u001b[0m\u001b[0;34m.\u001b[0m\u001b[0m_pin_memory_device\u001b[0m\u001b[0;34m)\u001b[0m\u001b[0;34m\u001b[0m\u001b[0;34m\u001b[0m\u001b[0m\n",
            "\u001b[0;32m/usr/local/lib/python3.10/dist-packages/torch/utils/data/_utils/fetch.py\u001b[0m in \u001b[0;36mfetch\u001b[0;34m(self, possibly_batched_index)\u001b[0m\n\u001b[1;32m     52\u001b[0m         \u001b[0;32melse\u001b[0m\u001b[0;34m:\u001b[0m\u001b[0;34m\u001b[0m\u001b[0;34m\u001b[0m\u001b[0m\n\u001b[1;32m     53\u001b[0m             \u001b[0mdata\u001b[0m \u001b[0;34m=\u001b[0m \u001b[0mself\u001b[0m\u001b[0;34m.\u001b[0m\u001b[0mdataset\u001b[0m\u001b[0;34m[\u001b[0m\u001b[0mpossibly_batched_index\u001b[0m\u001b[0;34m]\u001b[0m\u001b[0;34m\u001b[0m\u001b[0;34m\u001b[0m\u001b[0m\n\u001b[0;32m---> 54\u001b[0;31m         \u001b[0;32mreturn\u001b[0m \u001b[0mself\u001b[0m\u001b[0;34m.\u001b[0m\u001b[0mcollate_fn\u001b[0m\u001b[0;34m(\u001b[0m\u001b[0mdata\u001b[0m\u001b[0;34m)\u001b[0m\u001b[0;34m\u001b[0m\u001b[0;34m\u001b[0m\u001b[0m\n\u001b[0m",
            "\u001b[0;32m/usr/local/lib/python3.10/dist-packages/torch/utils/data/_utils/collate.py\u001b[0m in \u001b[0;36mdefault_collate\u001b[0;34m(batch)\u001b[0m\n\u001b[1;32m    275\u001b[0m         \u001b[0;34m>>\u001b[0m\u001b[0;34m>\u001b[0m \u001b[0mdefault_collate\u001b[0m\u001b[0;34m(\u001b[0m\u001b[0mbatch\u001b[0m\u001b[0;34m)\u001b[0m  \u001b[0;31m# Handle `CustomType` automatically\u001b[0m\u001b[0;34m\u001b[0m\u001b[0;34m\u001b[0m\u001b[0m\n\u001b[1;32m    276\u001b[0m     \"\"\"\n\u001b[0;32m--> 277\u001b[0;31m     \u001b[0;32mreturn\u001b[0m \u001b[0mcollate\u001b[0m\u001b[0;34m(\u001b[0m\u001b[0mbatch\u001b[0m\u001b[0;34m,\u001b[0m \u001b[0mcollate_fn_map\u001b[0m\u001b[0;34m=\u001b[0m\u001b[0mdefault_collate_fn_map\u001b[0m\u001b[0;34m)\u001b[0m\u001b[0;34m\u001b[0m\u001b[0;34m\u001b[0m\u001b[0m\n\u001b[0m",
            "\u001b[0;32m/usr/local/lib/python3.10/dist-packages/torch/utils/data/_utils/collate.py\u001b[0m in \u001b[0;36mcollate\u001b[0;34m(batch, collate_fn_map)\u001b[0m\n\u001b[1;32m    127\u001b[0m     \u001b[0;32mif\u001b[0m \u001b[0misinstance\u001b[0m\u001b[0;34m(\u001b[0m\u001b[0melem\u001b[0m\u001b[0;34m,\u001b[0m \u001b[0mcollections\u001b[0m\u001b[0;34m.\u001b[0m\u001b[0mabc\u001b[0m\u001b[0;34m.\u001b[0m\u001b[0mMapping\u001b[0m\u001b[0;34m)\u001b[0m\u001b[0;34m:\u001b[0m\u001b[0;34m\u001b[0m\u001b[0;34m\u001b[0m\u001b[0m\n\u001b[1;32m    128\u001b[0m         \u001b[0;32mtry\u001b[0m\u001b[0;34m:\u001b[0m\u001b[0;34m\u001b[0m\u001b[0;34m\u001b[0m\u001b[0m\n\u001b[0;32m--> 129\u001b[0;31m             \u001b[0;32mreturn\u001b[0m \u001b[0melem_type\u001b[0m\u001b[0;34m(\u001b[0m\u001b[0;34m{\u001b[0m\u001b[0mkey\u001b[0m\u001b[0;34m:\u001b[0m \u001b[0mcollate\u001b[0m\u001b[0;34m(\u001b[0m\u001b[0;34m[\u001b[0m\u001b[0md\u001b[0m\u001b[0;34m[\u001b[0m\u001b[0mkey\u001b[0m\u001b[0;34m]\u001b[0m \u001b[0;32mfor\u001b[0m \u001b[0md\u001b[0m \u001b[0;32min\u001b[0m \u001b[0mbatch\u001b[0m\u001b[0;34m]\u001b[0m\u001b[0;34m,\u001b[0m \u001b[0mcollate_fn_map\u001b[0m\u001b[0;34m=\u001b[0m\u001b[0mcollate_fn_map\u001b[0m\u001b[0;34m)\u001b[0m \u001b[0;32mfor\u001b[0m \u001b[0mkey\u001b[0m \u001b[0;32min\u001b[0m \u001b[0melem\u001b[0m\u001b[0;34m}\u001b[0m\u001b[0;34m)\u001b[0m\u001b[0;34m\u001b[0m\u001b[0;34m\u001b[0m\u001b[0m\n\u001b[0m\u001b[1;32m    130\u001b[0m         \u001b[0;32mexcept\u001b[0m \u001b[0mTypeError\u001b[0m\u001b[0;34m:\u001b[0m\u001b[0;34m\u001b[0m\u001b[0;34m\u001b[0m\u001b[0m\n\u001b[1;32m    131\u001b[0m             \u001b[0;31m# The mapping type may not support `__init__(iterable)`.\u001b[0m\u001b[0;34m\u001b[0m\u001b[0;34m\u001b[0m\u001b[0m\n",
            "\u001b[0;32m/usr/local/lib/python3.10/dist-packages/torch/utils/data/_utils/collate.py\u001b[0m in \u001b[0;36m<dictcomp>\u001b[0;34m(.0)\u001b[0m\n\u001b[1;32m    127\u001b[0m     \u001b[0;32mif\u001b[0m \u001b[0misinstance\u001b[0m\u001b[0;34m(\u001b[0m\u001b[0melem\u001b[0m\u001b[0;34m,\u001b[0m \u001b[0mcollections\u001b[0m\u001b[0;34m.\u001b[0m\u001b[0mabc\u001b[0m\u001b[0;34m.\u001b[0m\u001b[0mMapping\u001b[0m\u001b[0;34m)\u001b[0m\u001b[0;34m:\u001b[0m\u001b[0;34m\u001b[0m\u001b[0;34m\u001b[0m\u001b[0m\n\u001b[1;32m    128\u001b[0m         \u001b[0;32mtry\u001b[0m\u001b[0;34m:\u001b[0m\u001b[0;34m\u001b[0m\u001b[0;34m\u001b[0m\u001b[0m\n\u001b[0;32m--> 129\u001b[0;31m             \u001b[0;32mreturn\u001b[0m \u001b[0melem_type\u001b[0m\u001b[0;34m(\u001b[0m\u001b[0;34m{\u001b[0m\u001b[0mkey\u001b[0m\u001b[0;34m:\u001b[0m \u001b[0mcollate\u001b[0m\u001b[0;34m(\u001b[0m\u001b[0;34m[\u001b[0m\u001b[0md\u001b[0m\u001b[0;34m[\u001b[0m\u001b[0mkey\u001b[0m\u001b[0;34m]\u001b[0m \u001b[0;32mfor\u001b[0m \u001b[0md\u001b[0m \u001b[0;32min\u001b[0m \u001b[0mbatch\u001b[0m\u001b[0;34m]\u001b[0m\u001b[0;34m,\u001b[0m \u001b[0mcollate_fn_map\u001b[0m\u001b[0;34m=\u001b[0m\u001b[0mcollate_fn_map\u001b[0m\u001b[0;34m)\u001b[0m \u001b[0;32mfor\u001b[0m \u001b[0mkey\u001b[0m \u001b[0;32min\u001b[0m \u001b[0melem\u001b[0m\u001b[0;34m}\u001b[0m\u001b[0;34m)\u001b[0m\u001b[0;34m\u001b[0m\u001b[0;34m\u001b[0m\u001b[0m\n\u001b[0m\u001b[1;32m    130\u001b[0m         \u001b[0;32mexcept\u001b[0m \u001b[0mTypeError\u001b[0m\u001b[0;34m:\u001b[0m\u001b[0;34m\u001b[0m\u001b[0;34m\u001b[0m\u001b[0m\n\u001b[1;32m    131\u001b[0m             \u001b[0;31m# The mapping type may not support `__init__(iterable)`.\u001b[0m\u001b[0;34m\u001b[0m\u001b[0;34m\u001b[0m\u001b[0m\n",
            "\u001b[0;32m/usr/local/lib/python3.10/dist-packages/torch/utils/data/_utils/collate.py\u001b[0m in \u001b[0;36mcollate\u001b[0;34m(batch, collate_fn_map)\u001b[0m\n\u001b[1;32m    119\u001b[0m     \u001b[0;32mif\u001b[0m \u001b[0mcollate_fn_map\u001b[0m \u001b[0;32mis\u001b[0m \u001b[0;32mnot\u001b[0m \u001b[0;32mNone\u001b[0m\u001b[0;34m:\u001b[0m\u001b[0;34m\u001b[0m\u001b[0;34m\u001b[0m\u001b[0m\n\u001b[1;32m    120\u001b[0m         \u001b[0;32mif\u001b[0m \u001b[0melem_type\u001b[0m \u001b[0;32min\u001b[0m \u001b[0mcollate_fn_map\u001b[0m\u001b[0;34m:\u001b[0m\u001b[0;34m\u001b[0m\u001b[0;34m\u001b[0m\u001b[0m\n\u001b[0;32m--> 121\u001b[0;31m             \u001b[0;32mreturn\u001b[0m \u001b[0mcollate_fn_map\u001b[0m\u001b[0;34m[\u001b[0m\u001b[0melem_type\u001b[0m\u001b[0;34m]\u001b[0m\u001b[0;34m(\u001b[0m\u001b[0mbatch\u001b[0m\u001b[0;34m,\u001b[0m \u001b[0mcollate_fn_map\u001b[0m\u001b[0;34m=\u001b[0m\u001b[0mcollate_fn_map\u001b[0m\u001b[0;34m)\u001b[0m\u001b[0;34m\u001b[0m\u001b[0;34m\u001b[0m\u001b[0m\n\u001b[0m\u001b[1;32m    122\u001b[0m \u001b[0;34m\u001b[0m\u001b[0m\n\u001b[1;32m    123\u001b[0m         \u001b[0;32mfor\u001b[0m \u001b[0mcollate_type\u001b[0m \u001b[0;32min\u001b[0m \u001b[0mcollate_fn_map\u001b[0m\u001b[0;34m:\u001b[0m\u001b[0;34m\u001b[0m\u001b[0;34m\u001b[0m\u001b[0m\n",
            "\u001b[0;32m/usr/local/lib/python3.10/dist-packages/torch/utils/data/_utils/collate.py\u001b[0m in \u001b[0;36mcollate_tensor_fn\u001b[0;34m(batch, collate_fn_map)\u001b[0m\n\u001b[1;32m    172\u001b[0m         \u001b[0mstorage\u001b[0m \u001b[0;34m=\u001b[0m \u001b[0melem\u001b[0m\u001b[0;34m.\u001b[0m\u001b[0m_typed_storage\u001b[0m\u001b[0;34m(\u001b[0m\u001b[0;34m)\u001b[0m\u001b[0;34m.\u001b[0m\u001b[0m_new_shared\u001b[0m\u001b[0;34m(\u001b[0m\u001b[0mnumel\u001b[0m\u001b[0;34m,\u001b[0m \u001b[0mdevice\u001b[0m\u001b[0;34m=\u001b[0m\u001b[0melem\u001b[0m\u001b[0;34m.\u001b[0m\u001b[0mdevice\u001b[0m\u001b[0;34m)\u001b[0m\u001b[0;34m\u001b[0m\u001b[0;34m\u001b[0m\u001b[0m\n\u001b[1;32m    173\u001b[0m         \u001b[0mout\u001b[0m \u001b[0;34m=\u001b[0m \u001b[0melem\u001b[0m\u001b[0;34m.\u001b[0m\u001b[0mnew\u001b[0m\u001b[0;34m(\u001b[0m\u001b[0mstorage\u001b[0m\u001b[0;34m)\u001b[0m\u001b[0;34m.\u001b[0m\u001b[0mresize_\u001b[0m\u001b[0;34m(\u001b[0m\u001b[0mlen\u001b[0m\u001b[0;34m(\u001b[0m\u001b[0mbatch\u001b[0m\u001b[0;34m)\u001b[0m\u001b[0;34m,\u001b[0m \u001b[0;34m*\u001b[0m\u001b[0mlist\u001b[0m\u001b[0;34m(\u001b[0m\u001b[0melem\u001b[0m\u001b[0;34m.\u001b[0m\u001b[0msize\u001b[0m\u001b[0;34m(\u001b[0m\u001b[0;34m)\u001b[0m\u001b[0;34m)\u001b[0m\u001b[0;34m)\u001b[0m\u001b[0;34m\u001b[0m\u001b[0;34m\u001b[0m\u001b[0m\n\u001b[0;32m--> 174\u001b[0;31m     \u001b[0;32mreturn\u001b[0m \u001b[0mtorch\u001b[0m\u001b[0;34m.\u001b[0m\u001b[0mstack\u001b[0m\u001b[0;34m(\u001b[0m\u001b[0mbatch\u001b[0m\u001b[0;34m,\u001b[0m \u001b[0;36m0\u001b[0m\u001b[0;34m,\u001b[0m \u001b[0mout\u001b[0m\u001b[0;34m=\u001b[0m\u001b[0mout\u001b[0m\u001b[0;34m)\u001b[0m\u001b[0;34m\u001b[0m\u001b[0;34m\u001b[0m\u001b[0m\n\u001b[0m\u001b[1;32m    175\u001b[0m \u001b[0;34m\u001b[0m\u001b[0m\n\u001b[1;32m    176\u001b[0m \u001b[0;34m\u001b[0m\u001b[0m\n",
            "\u001b[0;31mRuntimeError\u001b[0m: stack expects each tensor to be equal size, but got [1, 350, 350, 160] at entry 0 and [1, 256, 256, 160] at entry 1"
          ]
        }
      ]
    },
    {
      "cell_type": "markdown",
      "id": "E4QShmz2KMVM",
      "metadata": {
        "id": "E4QShmz2KMVM"
      },
      "source": [
        "# 6. 훈련된 모델 테스트하기"
      ]
    },
    {
      "cell_type": "code",
      "execution_count": null,
      "id": "ZPSoUnfVKAtF",
      "metadata": {
        "id": "ZPSoUnfVKAtF"
      },
      "outputs": [],
      "source": [
        "transform = transforms.Compose([Padding(output_size=(256,256,160,1)),\n",
        "                                FlipRot3D(),\n",
        "                                #ElasticDeformation(),\n",
        "                                GammaCorrection(),\n",
        "                                #Normalization(mean=0.5, std=0.5),\n",
        "                                ToTensor()])\n",
        "\n",
        "dataset_test = Dataset(data_dir=os.path.join(data_dir, 'test'), transform=transform)\n",
        "loader_test = DataLoader(dataset_test, batch_size=param[\"batch_size\"], shuffle=False, num_workers=param[\"num_workers\"])\n",
        "\n",
        "# 그밖에 부수적인 variables 설정하기\n",
        "num_data_test = len(dataset_test)\n",
        "num_batch_test = np.ceil(num_data_test / param[\"batch_size\"])\n",
        "\n",
        "# 결과 디렉토리 생성하기\n",
        "result_dir = os.path.join(base_dir, 'result')\n",
        "if not os.path.exists(result_dir):\n",
        "    os.makedirs(os.path.join(result_dir, 'png'))\n",
        "    os.makedirs(os.path.join(result_dir, 'numpy'))\n",
        "\n",
        "\n",
        "net, optim, st_epoch = load(ckpt_dir=ckpt_dir, net=net, optim=optim)\n",
        "\n",
        "with torch.no_grad():\n",
        "      net.eval()\n",
        "      loss_arr = []\n",
        "\n",
        "      for batch, data in enumerate(loader_test, 1):\n",
        "          # forward pass\n",
        "          label = data['label'].to(device)\n",
        "          input = data['input'].to(device)\n",
        "\n",
        "          output = net(input)\n",
        "\n",
        "          # 손실함수 계산하기\n",
        "          loss = fn_loss(output, label)\n",
        "          loss_arr += [loss.item()]\n",
        "\n",
        "          print(\"TEST: BATCH %04d / %04d | LOSS %.4f\" %\n",
        "                (batch, num_batch_test, np.mean(loss_arr)))\n",
        "\n",
        "          # Tensorboard 저장하기\n",
        "          label = fn_tonumpy(label)\n",
        "          input = fn_tonumpy(fn_denorm(input, mean=0.5, std=0.5))\n",
        "          output = fn_tonumpy(fn_class(output))\n",
        "\n",
        "          # 테스트 결과 저장하기\n",
        "          for j in range(label.shape[0]):\n",
        "              id = num_batch_test * (batch - 1) + j\n",
        "\n",
        "              plt.imsave(os.path.join(result_dir, 'png', 'label_%04d.png' % id), label[j].squeeze(), cmap='gray')\n",
        "              plt.imsave(os.path.join(result_dir, 'png', 'input_%04d.png' % id), input[j].squeeze(), cmap='gray')\n",
        "              plt.imsave(os.path.join(result_dir, 'png', 'output_%04d.png' % id), output[j].squeeze(), cmap='gray')\n",
        "\n",
        "              np.save(os.path.join(result_dir, 'numpy', 'label_%04d.npy' % id), label[j].squeeze())\n",
        "              np.save(os.path.join(result_dir, 'numpy', 'input_%04d.npy' % id), input[j].squeeze())\n",
        "              np.save(os.path.join(result_dir, 'numpy', 'output_%04d.npy' % id), output[j].squeeze())\n",
        "\n",
        "print(\"AVERAGE TEST: BATCH %04d / %04d | LOSS %.4f\" %\n",
        "        (batch, num_batch_test, np.mean(loss_arr)))"
      ]
    },
    {
      "cell_type": "markdown",
      "id": "DfEJftr8KU7l",
      "metadata": {
        "id": "DfEJftr8KU7l"
      },
      "source": [
        "# 7. 결과 시각화하기"
      ]
    },
    {
      "cell_type": "code",
      "execution_count": null,
      "id": "7vRH_VArKLNj",
      "metadata": {
        "colab": {
          "base_uri": "https://localhost:8080/",
          "height": 265
        },
        "id": "7vRH_VArKLNj",
        "outputId": "fd71ec28-7aa9-4c85-d119-aaf85842d33b"
      },
      "outputs": [
        {
          "data": {
            "image/png": "[encoded data removed]",
            "text/plain": [
              "<Figure size 800x600 with 3 Axes>"
            ]
          },
          "metadata": {},
          "output_type": "display_data"
        }
      ],
      "source": [
        "##\n",
        "lst_data = os.listdir(os.path.join(result_dir, 'numpy'))\n",
        "\n",
        "lst_label = [f for f in lst_data if f.startswith('label')]\n",
        "lst_input = [f for f in lst_data if f.startswith('input')]\n",
        "lst_output = [f for f in lst_data if f.startswith('output')]\n",
        "\n",
        "lst_label.sort()\n",
        "lst_input.sort()\n",
        "lst_output.sort()\n",
        "\n",
        "##\n",
        "id = 0\n",
        "\n",
        "label = np.load(os.path.join(result_dir,\"numpy\", lst_label[id]))\n",
        "input = np.load(os.path.join(result_dir,\"numpy\", lst_input[id]))\n",
        "output = np.load(os.path.join(result_dir,\"numpy\", lst_output[id]))\n",
        "\n",
        "## 플롯 그리기\n",
        "plt.figure(figsize=(8,6))\n",
        "plt.subplot(131)\n",
        "plt.imshow(input, cmap='gray')\n",
        "plt.title('input')\n",
        "\n",
        "plt.subplot(132)\n",
        "plt.imshow(label, cmap='gray')\n",
        "plt.title('label')\n",
        "\n",
        "plt.subplot(133)\n",
        "plt.imshow(output, cmap='gray')\n",
        "plt.title('output')\n",
        "\n",
        "plt.show()\n"
      ]
    }
  ],
  "metadata": {
    "colab": {
      "gpuType": "T4",
      "provenance": []
    },
    "kernelspec": {
      "display_name": "Python 3",
      "name": "python3"
    },
    "language_info": {
      "codemirror_mode": {
        "name": "ipython",
        "version": 3
      },
      "file_extension": ".py",
      "mimetype": "text/x-python",
      "name": "python",
      "nbconvert_exporter": "python",
      "pygments_lexer": "ipython3",
      "version": "3.11.8"
    },
    "accelerator": "GPU"
  },
  "nbformat": 4,
  "nbformat_minor": 5
}
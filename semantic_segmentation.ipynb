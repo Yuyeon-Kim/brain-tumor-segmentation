{
  "cells": [
    {
      "cell_type": "markdown",
      "id": "aBmoSv0PZCZe",
      "metadata": {
        "id": "aBmoSv0PZCZe"
      },
      "source": [
        "#### MOUNT"
      ]
    },
    {
      "cell_type": "code",
      "execution_count": 36,
      "id": "SR5baZrLZCDV",
      "metadata": {
        "colab": {
          "base_uri": "https://localhost:8080/"
        },
        "id": "SR5baZrLZCDV",
        "outputId": "007bc5fb-880a-44f9-def1-0524fe375465"
      },
      "outputs": [],
      "source": [
        "# from google.colab import drive\n",
        "# drive.mount('/content/drive')"
      ]
    },
    {
      "cell_type": "code",
      "execution_count": 37,
      "id": "1e0ca1ec-3c68-45f8-b6cf-1d5b32bc0230",
      "metadata": {
        "colab": {
          "base_uri": "https://localhost:8080/"
        },
        "id": "1e0ca1ec-3c68-45f8-b6cf-1d5b32bc0230",
        "outputId": "246248d0-5662-47a0-b8b6-b49307d1cf43"
      },
      "outputs": [],
      "source": [
        "# cd /content/drive/MyDrive/MICCAI_BraTS_2019_Data_Training"
      ]
    },
    {
      "cell_type": "markdown",
      "id": "8675e8c6-e8cb-4d07-bc5b-11d5ad7becf4",
      "metadata": {
        "id": "8675e8c6-e8cb-4d07-bc5b-11d5ad7becf4"
      },
      "source": [
        "#### 라이브러리 불러오기"
      ]
    },
    {
      "cell_type": "code",
      "execution_count": 38,
      "id": "03b3fa18-780a-4da8-b1ba-e22e168efb93",
      "metadata": {
        "id": "03b3fa18-780a-4da8-b1ba-e22e168efb93"
      },
      "outputs": [],
      "source": [
        "import tensorboard"
      ]
    },
    {
      "cell_type": "code",
      "execution_count": 39,
      "id": "a1b9c861-2a8c-439d-a043-a7aed87a68ac",
      "metadata": {
        "id": "a1b9c861-2a8c-439d-a043-a7aed87a68ac"
      },
      "outputs": [],
      "source": [
        "import os\n",
        "import numpy as np\n",
        "\n",
        "import torch\n",
        "import torch.nn as nn\n",
        "from torch.utils.data import DataLoader\n",
        "from torch.utils.tensorboard import SummaryWriter\n",
        "\n",
        "import matplotlib.pyplot as plt\n",
        "\n",
        "from torchvision import transforms, datasets"
      ]
    },
    {
      "cell_type": "markdown",
      "id": "cbcf1e2c-0697-4391-ac96-4b1a2dc870c1",
      "metadata": {
        "id": "cbcf1e2c-0697-4391-ac96-4b1a2dc870c1"
      },
      "source": [
        "# 1. 데이터셋 정리(전처리)"
      ]
    },
    {
      "cell_type": "code",
      "execution_count": 40,
      "id": "2e02750a-121a-4272-81fb-9ef96858ae61",
      "metadata": {
        "id": "2e02750a-121a-4272-81fb-9ef96858ae61"
      },
      "outputs": [],
      "source": [
        "dir_data ='./dataset'"
      ]
    },
    {
      "cell_type": "code",
      "execution_count": 41,
      "id": "3bcd615f-62a3-43f3-b16c-41228a469a15",
      "metadata": {
        "id": "3bcd615f-62a3-43f3-b16c-41228a469a15"
      },
      "outputs": [],
      "source": [
        "## train/test/val 폴더 생성\n",
        "\n",
        "dir_save_train = os.path.join(dir_data, 'train')\n",
        "dir_save_val = os.path.join(dir_data, 'val')\n",
        "dir_save_test = os.path.join(dir_data, 'test')"
      ]
    },
    {
      "cell_type": "markdown",
      "id": "1fd806ae-07ad-46c3-aafa-6b92440de0d0",
      "metadata": {
        "id": "1fd806ae-07ad-46c3-aafa-6b92440de0d0"
      },
      "source": [
        "### HGG 파일"
      ]
    },
    {
      "cell_type": "code",
      "execution_count": 42,
      "id": "ua2iNnuiVk4r",
      "metadata": {
        "colab": {
          "base_uri": "https://localhost:8080/",
          "height": 35
        },
        "id": "ua2iNnuiVk4r",
        "outputId": "53cb6f1c-e75e-467d-a6a1-cd1c48b846df"
      },
      "outputs": [],
      "source": [
        "# %pwd"
      ]
    },
    {
      "cell_type": "code",
      "execution_count": 43,
      "id": "eb501e8d-0518-4a7c-9a81-39be3aa27729",
      "metadata": {
        "id": "eb501e8d-0518-4a7c-9a81-39be3aa27729"
      },
      "outputs": [],
      "source": [
        "import random\n",
        "\n",
        "dataset_path = './drive/MyDrive/MICCIC_BraTS_2019_Data_Training'\n",
        "hgg_path = dataset_path + \"/HGG\"\n",
        "\n",
        "\n",
        "filename = os.listdir(hgg_path)\n",
        "fielname = random.shuffle(filename)\n",
        "filecount = len(filename)\n",
        "HGG1 = round(filecount*0.8)\n",
        "HGG2 = round(filecount*0.9)"
      ]
    },
    {
      "cell_type": "code",
      "execution_count": 44,
      "id": "c638df07",
      "metadata": {},
      "outputs": [],
      "source": [
        "# !pip install nibabel"
      ]
    },
    {
      "cell_type": "code",
      "execution_count": 45,
      "id": "df20eb7c-9062-4a85-94da-488fbf51fd4d",
      "metadata": {
        "id": "df20eb7c-9062-4a85-94da-488fbf51fd4d"
      },
      "outputs": [],
      "source": [
        "import nibabel as nib"
      ]
    },
    {
      "cell_type": "code",
      "execution_count": 46,
      "id": "8eba1106-4d11-4fa7-8552-05d1f4ea6aeb",
      "metadata": {
        "id": "8eba1106-4d11-4fa7-8552-05d1f4ea6aeb"
      },
      "outputs": [],
      "source": [
        "label_ = input_ = None\n",
        "if not os.path.exists(dir_save_train):\n",
        "    os.makedirs(dir_save_train)\n",
        "    print('train 생성')\n",
        "\n",
        "    # train\n",
        "    train_filenames = filename[:HGG1]\n",
        "\n",
        "    i=0\n",
        "    for train_file in train_filenames:\n",
        "        if train_file[0] == \".\":\n",
        "          continue\n",
        "        i+=1\n",
        "        for inner_train_file in os.listdir(hgg_path + \"/\" + train_file):\n",
        "            if 'seg' in inner_train_file:\n",
        "                img_label = nib.load(os.path.join(hgg_path,train_file, inner_train_file)).get_fdata()\n",
        "                label_3d = np.array(img_label)\n",
        "                label_ = label_3d[:,:,77]\n",
        "                np.save(os.path.join(dir_save_train, 'label_%03d.npy' % i),label_)\n",
        "\n",
        "            #elif 'flair' or 't1' or 't1ce' or 't2' in b\n",
        "            elif any(sub in inner_train_file for sub in ['flair', 't1', 't1ce', 't2']):\n",
        "                img_input = nib.load(os.path.join(hgg_path,train_file, inner_train_file)).get_fdata()\n",
        "                input_3d = np.array(img_input)\n",
        "                input_ = input_3d[:,:,77]\n",
        "                np.save(os.path.join(dir_save_train, 'input_%03d.npy' % i),input_)\n",
        "\n",
        "            else:\n",
        "                print(f'{train_file}/{inner_train_file} : wrong')"
      ]
    },
    {
      "cell_type": "code",
      "execution_count": 47,
      "id": "d60ad941-dc59-4b30-8c38-b717e1690c98",
      "metadata": {
        "colab": {
          "base_uri": "https://localhost:8080/",
          "height": 308
        },
        "id": "d60ad941-dc59-4b30-8c38-b717e1690c98",
        "outputId": "d1340ef4-9c2b-4b4a-db97-05750a8a664b"
      },
      "outputs": [],
      "source": [
        "if label_ and input_:\n",
        "  # ## 이미지 시각화\n",
        "  plt.subplot(122)\n",
        "  plt.imshow(label_, cmap='gray')\n",
        "  plt.title('label')\n",
        "\n",
        "  plt.subplot(121)\n",
        "  plt.imshow(input_, cmap='gray')\n",
        "  plt.title('input')\n",
        "\n",
        "  plt.show()"
      ]
    },
    {
      "cell_type": "code",
      "execution_count": 48,
      "id": "55dd30de-1d1f-4fdb-8b94-6ba2ec4c78e6",
      "metadata": {
        "colab": {
          "base_uri": "https://localhost:8080/",
          "height": 487
        },
        "id": "55dd30de-1d1f-4fdb-8b94-6ba2ec4c78e6",
        "outputId": "79d93c32-9142-4c3f-e7db-dc407112e69e"
      },
      "outputs": [],
      "source": [
        "if label_ and input_:\n",
        "  # ## 한 이미지의 분포\n",
        "  plt.subplot(122)\n",
        "  plt.hist(label_.flatten(), bins=20)\n",
        "  plt.title('label')\n",
        "\n",
        "  plt.subplot(121)\n",
        "  plt.hist(input_.flatten(), bins=20)\n",
        "  plt.title('input')\n",
        "\n",
        "  plt.tight_layout()\n",
        "  plt.show()"
      ]
    },
    {
      "cell_type": "code",
      "execution_count": 49,
      "id": "44d81e47-13b8-463c-9be7-fd834ddcd7b7",
      "metadata": {
        "id": "44d81e47-13b8-463c-9be7-fd834ddcd7b7"
      },
      "outputs": [],
      "source": [
        "if not os.path.exists(dir_save_val):\n",
        "    os.makedirs(dir_save_val)\n",
        "    print('val 생성')\n",
        "    # val\n",
        "    filename_val = filename[HGG1:HGG2]\n",
        "\n",
        "    i=0\n",
        "    for train_file in filename_val:\n",
        "        i+=1\n",
        "        for inner_train_file in os.listdir(hgg_path + '/' + train_file):\n",
        "            if 'seg' in inner_train_file:\n",
        "                img_label = nib.load(os.path.join(hgg_path,train_file, inner_train_file)).get_fdata()\n",
        "                label_3d = np.array(img_label)\n",
        "                label_ = label_3d[:,:,77]\n",
        "                np.save(os.path.join(dir_save_val, 'label_%03d.npy' % i),label_)\n",
        "            #elif 'flair' or 't1' or 't1ce' or 't2' in b:\n",
        "            elif any(sub in inner_train_file for sub in ['flair', 't1', 't1ce', 't2']):\n",
        "                img_input = nib.load(os.path.join(hgg_path,train_file, inner_train_file)).get_fdata()\n",
        "                input_3d = np.array(img_input)\n",
        "                input_ = input_3d[:,:,77]\n",
        "                np.save(os.path.join(dir_save_val, 'input_%03d.npy' % i),input_)\n",
        "            else:\n",
        "                print(f'{train_file}/{inner_train_file} : wrong')"
      ]
    },
    {
      "cell_type": "code",
      "execution_count": 50,
      "id": "4a73e1ad-9244-489f-bb02-9dfb9ff530f2",
      "metadata": {
        "id": "4a73e1ad-9244-489f-bb02-9dfb9ff530f2"
      },
      "outputs": [],
      "source": [
        "if not os.path.exists(dir_save_test):\n",
        "    os.makedirs(dir_save_test)\n",
        "    print('test 생성')\n",
        "\n",
        "    # test\n",
        "    filename_test = filename[HGG2:]\n",
        "\n",
        "    i=0\n",
        "    for train_file in filename_test:\n",
        "        i+=1\n",
        "        for inner_train_file in os.listdir(hgg_path + \"/\" + train_file):\n",
        "            if 'seg' in inner_train_file:\n",
        "                img_label = nib.load(os.path.join(hgg_path,train_file, inner_train_file)).get_fdata()\n",
        "                label_3d = np.array(img_label)\n",
        "                label_ = label_3d[:,:,77]\n",
        "                np.save(os.path.join(dir_save_test, 'label_%03d.npy' % i),label_)\n",
        "            #elif 'flair' or 't1' or 't1ce' or 't2' in b:\n",
        "            elif any(sub in inner_train_file for sub in ['flair', 't1', 't1ce', 't2']):\n",
        "                img_input = nib.load(os.path.join(hgg_path,train_file, inner_train_file)).get_fdata()\n",
        "                input_3d = np.array(img_label)\n",
        "                input_ = label_3d[:,:,77]\n",
        "                np.save(os.path.join(dir_save_test, 'input_%03d.npy' % i),input_)\n",
        "            else:\n",
        "                print(f'{train_file}/{inner_train_file} : wrong')"
      ]
    },
    {
      "cell_type": "markdown",
      "id": "65a99de1-3970-4ca9-8b0e-d5c914ee03c8",
      "metadata": {
        "id": "65a99de1-3970-4ca9-8b0e-d5c914ee03c8"
      },
      "source": [
        "## U-Net 네트워크 구축하기"
      ]
    },
    {
      "cell_type": "code",
      "execution_count": 51,
      "id": "58572de8-afcf-4e3a-b4d9-e89366319f5a",
      "metadata": {
        "id": "58572de8-afcf-4e3a-b4d9-e89366319f5a"
      },
      "outputs": [],
      "source": [
        "## 라이브러리 불러오기\n",
        "import os\n",
        "import numpy as np\n",
        "\n",
        "import torch\n",
        "import torch.nn as nn\n",
        "from torch.utils.data import DataLoader\n",
        "from torch.utils.tensorboard import SummaryWriter\n",
        "\n",
        "import matplotlib.pyplot as plt\n",
        "\n",
        "from torchvision import transforms, datasets\n",
        "\n",
        "## 네트워크 구축하기\n",
        "class UNet(nn.Module):\n",
        "    def __init__(self):\n",
        "        super(UNet, self).__init__()\n",
        "\n",
        "        # Convolution + BatchNormalization + Relu 정의하기\n",
        "        def CBR2d(in_channels, out_channels, kernel_size=3, stride=1, padding=1, bias=True):\n",
        "            layers = []\n",
        "            layers += [nn.Conv2d(in_channels=in_channels, out_channels=out_channels,\n",
        "                                 kernel_size=kernel_size, stride=stride, padding=padding,\n",
        "                                 bias=bias)]\n",
        "            layers += [nn.BatchNorm2d(num_features=out_channels)]\n",
        "            layers += [nn.ReLU()]\n",
        "\n",
        "            cbr = nn.Sequential(*layers)\n",
        "            # nn.Sequential 클래스 : nn.ReLU 등의 모듈들을 인수로 받아서 순서대로 정렬해놓고\n",
        "            #입력값이 들어오면, 순서대로 묘듈 실행해서 결과값 리턴\n",
        "            # 리스트 이름에 별 붙여야함\n",
        "\n",
        "            return cbr\n",
        "\n",
        "        # 수축 경로(Contracting path)\n",
        "        self.enc1_1 = CBR2d(in_channels=1, out_channels=64)\n",
        "        self.enc1_2 = CBR2d(in_channels=64, out_channels=64)\n",
        "\n",
        "        self.pool1 = nn.MaxPool2d(kernel_size=2)\n",
        "\n",
        "        self.enc2_1 = CBR2d(in_channels=64, out_channels=128)\n",
        "        self.enc2_2 = CBR2d(in_channels=128, out_channels=128)\n",
        "\n",
        "        self.pool2 = nn.MaxPool2d(kernel_size=2)\n",
        "\n",
        "        self.enc3_1 = CBR2d(in_channels=128, out_channels=256)\n",
        "        self.enc3_2 = CBR2d(in_channels=256, out_channels=256)\n",
        "\n",
        "        self.pool3 = nn.MaxPool2d(kernel_size=2)\n",
        "\n",
        "        self.enc4_1 = CBR2d(in_channels=256, out_channels=512)\n",
        "        self.enc4_2 = CBR2d(in_channels=512, out_channels=512)\n",
        "\n",
        "        self.pool4 = nn.MaxPool2d(kernel_size=2)\n",
        "\n",
        "        self.enc5_1 = CBR2d(in_channels=512, out_channels=1024)\n",
        "\n",
        "        # 확장 경로(Expansive path)\n",
        "        self.dec5_1 = CBR2d(in_channels=1024, out_channels=512)\n",
        "\n",
        "        self.unpool4 = nn.ConvTranspose2d(in_channels=512, out_channels=512,\n",
        "                                          kernel_size=2, stride=2, padding=0, bias=True)\n",
        "\n",
        "        self.dec4_2 = CBR2d(in_channels=2 * 512, out_channels=512)\n",
        "        self.dec4_1 = CBR2d(in_channels=512, out_channels=256)\n",
        "\n",
        "        self.unpool3 = nn.ConvTranspose2d(in_channels=256, out_channels=256,\n",
        "                                          kernel_size=2, stride=2, padding=0, bias=True)\n",
        "\n",
        "        self.dec3_2 = CBR2d(in_channels=2 * 256, out_channels=256)\n",
        "        self.dec3_1 = CBR2d(in_channels=256, out_channels=128)\n",
        "\n",
        "        self.unpool2 = nn.ConvTranspose2d(in_channels=128, out_channels=128,\n",
        "                                          kernel_size=2, stride=2, padding=0, bias=True)\n",
        "\n",
        "        self.dec2_2 = CBR2d(in_channels=2 * 128, out_channels=128)\n",
        "        self.dec2_1 = CBR2d(in_channels=128, out_channels=64)\n",
        "\n",
        "        self.unpool1 = nn.ConvTranspose2d(in_channels=64, out_channels=64,\n",
        "                                          kernel_size=2, stride=2, padding=0, bias=True)\n",
        "\n",
        "        self.dec1_2 = CBR2d(in_channels=2 * 64, out_channels=64)\n",
        "        self.dec1_1 = CBR2d(in_channels=64, out_channels=64)\n",
        "\n",
        "        self.fc = nn.Conv2d(in_channels=64, out_channels=1, kernel_size=1, stride=1, padding=0, bias=True)\n",
        "\n",
        "    # forward 함수 정의하기\n",
        "    def forward(self, x):\n",
        "        enc1_1 = self.enc1_1(x)\n",
        "        enc1_2 = self.enc1_2(enc1_1)\n",
        "        pool1 = self.pool1(enc1_2)\n",
        "\n",
        "        enc2_1 = self.enc2_1(pool1)\n",
        "        enc2_2 = self.enc2_2(enc2_1)\n",
        "        pool2 = self.pool2(enc2_2)\n",
        "\n",
        "        enc3_1 = self.enc3_1(pool2)\n",
        "        enc3_2 = self.enc3_2(enc3_1)\n",
        "        pool3 = self.pool3(enc3_2)\n",
        "\n",
        "        enc4_1 = self.enc4_1(pool3)\n",
        "        enc4_2 = self.enc4_2(enc4_1)\n",
        "        pool4 = self.pool4(enc4_2)\n",
        "\n",
        "        enc5_1 = self.enc5_1(pool4)\n",
        "\n",
        "        dec5_1 = self.dec5_1(enc5_1)\n",
        "\n",
        "        unpool4 = self.unpool4(dec5_1)\n",
        "        cat4 = torch.cat((unpool4, enc4_2), dim=1)\n",
        "        dec4_2 = self.dec4_2(cat4)\n",
        "        dec4_1 = self.dec4_1(dec4_2)\n",
        "\n",
        "        unpool3 = self.unpool3(dec4_1)\n",
        "        cat3 = torch.cat((unpool3, enc3_2), dim=1)\n",
        "        dec3_2 = self.dec3_2(cat3)\n",
        "        dec3_1 = self.dec3_1(dec3_2)\n",
        "\n",
        "        unpool2 = self.unpool2(dec3_1)\n",
        "        cat2 = torch.cat((unpool2, enc2_2), dim=1)\n",
        "        dec2_2 = self.dec2_2(cat2)\n",
        "        dec2_1 = self.dec2_1(dec2_2)\n",
        "\n",
        "        unpool1 = self.unpool1(dec2_1)\n",
        "        cat1 = torch.cat((unpool1, enc1_2), dim=1)\n",
        "        dec1_2 = self.dec1_2(cat1)\n",
        "        dec1_1 = self.dec1_1(dec1_2)\n",
        "\n",
        "        x = self.fc(dec1_1)\n",
        "\n",
        "        return x"
      ]
    },
    {
      "cell_type": "code",
      "execution_count": 52,
      "id": "96c8cc14",
      "metadata": {},
      "outputs": [],
      "source": [
        "#!pip install segmentation_models_pytorch"
      ]
    },
    {
      "cell_type": "code",
      "execution_count": 53,
      "id": "f01674e4",
      "metadata": {},
      "outputs": [],
      "source": [
        "import segmentation_models_pytorch as smp\n",
        "\n",
        "TS_Net = smp.Unet(\n",
        "    encoder_name=\"resnet34\", \n",
        "    encoder_weights=\"imagenet\",\n",
        "    activation='sigmoid',\n",
        "    in_channels=1,\n",
        "    classes=1)\n",
        "\n",
        "def make_TS_Net():\n",
        "  return smp.Unet(\n",
        "    encoder_name=\"resnet34\", \n",
        "    encoder_weights=\"imagenet\",\n",
        "    activation='sigmoid',\n",
        "    in_channels=1,\n",
        "    classes=1)"
      ]
    },
    {
      "cell_type": "markdown",
      "id": "388634fe-4445-4444-80be-102c9811bc1e",
      "metadata": {
        "id": "388634fe-4445-4444-80be-102c9811bc1e"
      },
      "source": [
        "# 3-1. DataLoader"
      ]
    },
    {
      "cell_type": "markdown",
      "id": "417b8563-2daf-4eaf-b549-fe8f156ecdaa",
      "metadata": {
        "id": "417b8563-2daf-4eaf-b549-fe8f156ecdaa"
      },
      "source": [
        "#### : 네트워크에 데이터를 올리기 위해 DataLoader로 구현"
      ]
    },
    {
      "cell_type": "code",
      "execution_count": 54,
      "id": "c48a5cef-debf-4bf2-9769-7bf2c2222763",
      "metadata": {
        "id": "c48a5cef-debf-4bf2-9769-7bf2c2222763"
      },
      "outputs": [],
      "source": [
        "# 데이터 로더를 구현하기\n",
        "class Dataset(torch.utils.data.Dataset): #torch.utils.data.Dataset 상속\n",
        "    def __init__(self, data_dir, transform=None):\n",
        "        self.data_dir = data_dir\n",
        "        self.transform = transform\n",
        "\n",
        "        lst_data = os.listdir(self.data_dir)\n",
        "\n",
        "        lst_label = [f for f in lst_data if f.startswith('label')]\n",
        "        lst_input = [f for f in lst_data if f.startswith('input')]\n",
        "\n",
        "        #정렬(오름차순)\n",
        "        lst_label.sort()\n",
        "        lst_input.sort()\n",
        "\n",
        "        self.lst_label = lst_label\n",
        "        self.lst_input = lst_input\n",
        "        \n",
        "    def update_cropped_data(self, net):\n",
        "        # TODO: net을 매개변수로 받는 것이 아니라, 이전 모델의 출력 값을 받아서 이후에 __getitem__에서 꺼내쓸 수 있도록 조치\n",
        "        # Update cropped data based on network prediction\n",
        "        cropped_data = []\n",
        "        for data_item in self.data:\n",
        "            input = data_item['input']\n",
        "            # Assuming input is tensor, you might need some adjustments based on your data format\n",
        "            output = net(input)\n",
        "            cropped_segment = self.crop_segment(output)\n",
        "            cropped_data.append({'input': cropped_segment})\n",
        "        self.cropped_data = cropped_data\n",
        "\n",
        "    def __len__(self):\n",
        "        return len(self.lst_label)\n",
        "\n",
        "    def __getitem__(self, index):\n",
        "        label = np.load(os.path.join(self.data_dir, self.lst_label[index]))\n",
        "        input = np.load(os.path.join(self.data_dir, self.lst_input[index]))\n",
        "        # TODO: 필요하다면, crop 부분 추가\n",
        "\n",
        "        # 정규화\n",
        "        label = label/255.0\n",
        "        input = input/255.0\n",
        "\n",
        "        # 이미지와 레이블의 차원 = 2일 경우(채널이 없을 경우, 흑백 이미지), 새로운 채널(축) 생성\n",
        "        if label.ndim == 2:\n",
        "            label = label[:, :, np.newaxis]\n",
        "        if input.ndim == 2:\n",
        "            input = input[:, :, np.newaxis]\n",
        "\n",
        "        self.data = {'input': input, 'label': label}\n",
        "\n",
        "        # transform이 정의되어 있다면 transform을 거친 데이터를 불러옴\n",
        "        if self.transform:\n",
        "            self.data[\"input\"] = self.transform(self.data[\"input\"])\n",
        "\n",
        "        return self.data"
      ]
    },
    {
      "cell_type": "code",
      "execution_count": 55,
      "id": "a2b428cc-25fd-4db6-8158-63032faeddb7",
      "metadata": {
        "id": "a2b428cc-25fd-4db6-8158-63032faeddb7"
      },
      "outputs": [],
      "source": [
        "# 데이터로더 잘 구현되었는지 확인\n",
        "dataset_train = Dataset(data_dir=dir_save_train)\n",
        "data = dataset_train.__getitem__(0) # 한 이미지 불러오기\n",
        "input = data['input']\n",
        "label = data['label']"
      ]
    },
    {
      "cell_type": "code",
      "execution_count": 56,
      "id": "050c4fc6-0ace-48c7-ad68-ccc4084cfbda",
      "metadata": {
        "colab": {
          "base_uri": "https://localhost:8080/",
          "height": 308
        },
        "id": "050c4fc6-0ace-48c7-ad68-ccc4084cfbda",
        "outputId": "4ba37297-24eb-4081-b76e-8cbce0da0441"
      },
      "outputs": [
        {
          "data": {
            "image/png": "[encoded data removed]",
            "text/plain": [
              "<Figure size 640x480 with 2 Axes>"
            ]
          },
          "metadata": {},
          "output_type": "display_data"
        }
      ],
      "source": [
        "# 불러온 이미지 시각화\n",
        "plt.subplot(122)\n",
        "plt.imshow(label.reshape(240,240), cmap='gray')\n",
        "plt.title('label')\n",
        "\n",
        "plt.subplot(121)\n",
        "plt.imshow(input.reshape(240,240), cmap='gray')\n",
        "plt.title('input')\n",
        "\n",
        "plt.show()"
      ]
    },
    {
      "cell_type": "markdown",
      "id": "16f8c319-7386-48ef-97b4-bb5407e88fc2",
      "metadata": {
        "id": "16f8c319-7386-48ef-97b4-bb5407e88fc2"
      },
      "source": [
        "## 3-2.Transform\n",
        "\n",
        "- ToTensor : numpy에서 tensor로 데이터 type을 변경\n",
        "- Normalization : 데이터 정규화\n",
        "- RandomFlip : 랜덤 좌우 및 상하 반전\n",
        "- ResizeImage : 이미지 사이즈 변경"
      ]
    },
    {
      "cell_type": "code",
      "execution_count": 57,
      "id": "07194887-536b-4182-8095-b2ccf8e414da",
      "metadata": {
        "id": "07194887-536b-4182-8095-b2ccf8e414da"
      },
      "outputs": [],
      "source": [
        "# 트렌스폼 구현하기\n",
        "import torch\n",
        "import torch.nn.functional as F\n",
        "import torchvision.transforms as transforms\n",
        "\n",
        "\n",
        "class Grayscale(object):\n",
        "    def __init__(self, num_output_channels):\n",
        "        self.num_output_channels = num_output_channels\n",
        "\n",
        "    def __call__(self, data):\n",
        "        label, input = data['label'], data['input']\n",
        "\n",
        "        # 이미지가 흑백이 아닌 경우에만 변환 적용\n",
        "        if label.shape[0] != 1 and label.shape[0] != 3:\n",
        "            grayscale_transform = transforms.Grayscale(num_output_channels=self.num_output_channels)\n",
        "            label = grayscale_transform(label)\n",
        "            input = grayscale_transform(input)\n",
        "\n",
        "        data = {'label': label, 'input': input}\n",
        "\n",
        "        return data\n",
        "\n",
        "class ToTensor(object):\n",
        "    def __call__(self, data):\n",
        "        label, input = data['label'], data['input']\n",
        "\n",
        "        label = label.transpose((2, 0, 1)).astype(np.float32)\n",
        "        input = input.transpose((2, 0, 1)).astype(np.float32)\n",
        "\n",
        "        data = {'label': torch.from_numpy(label), 'input': torch.from_numpy(input)}\n",
        "\n",
        "        return data\n",
        "\n",
        "class ResizeImage:\n",
        "    def __init__(self, output_size):\n",
        "        self.output_size = output_size\n",
        "\n",
        "    def __call__(self, data):\n",
        "        label, input = data['label'], data['input']\n",
        "\n",
        "        # 이미지 크기 변경\n",
        "        label = F.interpolate(label.unsqueeze(0), size=self.output_size, mode='bilinear', align_corners=False)\n",
        "        label = label.squeeze(0)\n",
        "\n",
        "        input = F.interpolate(input.unsqueeze(0), size=self.output_size, mode='bilinear', align_corners=False)\n",
        "        input = input.squeeze(0)\n",
        "\n",
        "        data = {'label': label, 'input': input}\n",
        "\n",
        "        return data\n",
        "\n",
        "class MinMaxNormalization(object):\n",
        "    def __init__(self, min_val=0, max_val=1):\n",
        "        self.min_val = min_val\n",
        "        self.max_val = max_val\n",
        "\n",
        "    def __call__(self, data):\n",
        "        label, input = data['label'], data['input']\n",
        "\n",
        "        input = (input - input.min()) / (input.max() - input.min())\n",
        "        input = input * (self.max_val - self.min_val) + self.min_val\n",
        "\n",
        "        data = {'label': label, 'input': input}\n",
        "\n",
        "        return data\n"
      ]
    },
    {
      "cell_type": "code",
      "execution_count": 58,
      "id": "5a00d00f",
      "metadata": {},
      "outputs": [],
      "source": [
        "from scipy.ndimage import rotate, gaussian_filter, gaussian_filter1d, map_coordinates        \n",
        "\n",
        "class FlipRot(object):\n",
        "    def __call__(self, data):\n",
        "        label, input = data['label'], data['input']\n",
        "\n",
        "        # rotation [0, 45]\n",
        "        if np.random.rand() > 0.5:\n",
        "          angle = 45\n",
        "          label = rotate(label, angle, reshape=False, mode=\"nearest\")\n",
        "          input = rotate(input, angle, reshape=False, mode=\"nearest\")\n",
        "\n",
        "        # 수평 뒤집기 \n",
        "        if np.random.rand() > 0.5:\n",
        "            label = np.flipud(label)\n",
        "            input = np.flipud(input)\n",
        "\n",
        "        data = {'label': label, 'input': input}\n",
        "\n",
        "        return data\n",
        "\n",
        "class ElasticTransformation(object):\n",
        "    def __init__(self, alpha_range, sigma_range):\n",
        "        self.alpha_range = alpha_range\n",
        "        self.sigma_range = sigma_range\n",
        "\n",
        "    def __call__(self, data):\n",
        "        label, input = data['label'], data['input']\n",
        "\n",
        "        alpha = np.random.uniform(*self.alpha_range)\n",
        "        sigma = np.random.uniform(*self.sigma_range)\n",
        "\n",
        "        random_field = gaussian_filter(np.random.randn(*input.shape), sigma, mode=\"constant\", cval=0) * alpha\n",
        "        displacement = np.array([gaussian_filter1d(random_field, sigma, axis=i) for i in range(random_field.ndim)])\n",
        "\n",
        "        label = map_coordinates(label, displacement, order=1, mode='reflect')\n",
        "        input = map_coordinates(input, displacement, order=3, mode='reflect')\n",
        "\n",
        "        data = {'label': label, 'input': input}\n",
        "\n",
        "        return data\n",
        "    \n",
        "class GammaCorrection(object):\n",
        "    def __init__(self, gamma_range):\n",
        "        self.gamma_range = gamma_range\n",
        "\n",
        "    def __call__(self, data):\n",
        "        label, input = data['label'], data['input']\n",
        "\n",
        "        gamma = np.random.uniform(*self.gamma_range)\n",
        "        input = input ** gamma\n",
        "\n",
        "        data = {'label': label, 'input': input}\n",
        "\n",
        "        return data"
      ]
    },
    {
      "cell_type": "code",
      "execution_count": 59,
      "id": "0ede01a3-141a-4e1d-8494-70b5382020f6",
      "metadata": {
        "colab": {
          "base_uri": "https://localhost:8080/",
          "height": 487
        },
        "id": "0ede01a3-141a-4e1d-8494-70b5382020f6",
        "outputId": "18bef839-db83-4352-d8d7-f30c05e21497"
      },
      "outputs": [
        {
          "data": {
            "image/png": "[encoded data removed]",
            "text/plain": [
              "<Figure size 640x480 with 2 Axes>"
            ]
          },
          "metadata": {},
          "output_type": "display_data"
        },
        {
          "data": {
            "image/png": "[encoded data removed]",
            "text/plain": [
              "<Figure size 640x480 with 2 Axes>"
            ]
          },
          "metadata": {},
          "output_type": "display_data"
        }
      ],
      "source": [
        "# 트랜스폼 잘 구현되었는지 확인\n",
        "# transform = transforms.Compose([ToTensor(),\n",
        "#                                 #Grayscale(num_output_channels=1),\n",
        "#                                 ResizeImage(output_size=(512,512)),\n",
        "#                                 MinMaxNormalization()])\n",
        "\n",
        "\n",
        "# 트랜스폼 잘 구현되었는지 확인\n",
        "# transform = transforms.Compose([Normalization(mean=0.5, std=0.5), RandomFlip(), FlipRot(), ElasticTransformation(alpha_range=(0, 100), sigma_range=(10, 20)), GammaCorrection(gamma_range=(0.4, 1.2)), ToTensor()])\n",
        "\n",
        "# transform = transforms.Compose([Normalization(mean=0.5, std=0.5), RandomFlip(), ElasticTransformation(alpha_range=(0, 100), sigma_range=(10, 20)), ToTensor()])\n",
        "transform = transforms.Compose([ #ToTensor(),\n",
        "                                # Normalization(mean=0.5, std=0.5), \n",
        "                                ToTensor(),\n",
        "                                # FlipRot(), \n",
        "                                GammaCorrection(gamma_range=(0.4, 1.2)), \n",
        "                                ResizeImage(output_size=(512,512)),\n",
        "                                MinMaxNormalization()])\n",
        "dataset_train = Dataset(data_dir=dir_save_train, transform=transform)\n",
        "data = dataset_train.__getitem__(0) # 한 이미지 불러오기\n",
        "input = data['input']\n",
        "label = data['label']\n",
        "\n",
        "# 불러온 이미지 시각화\n",
        "plt.subplot(122)\n",
        "plt.hist(label.flatten(), bins=20)\n",
        "plt.title('label')\n",
        "\n",
        "plt.subplot(121)\n",
        "plt.hist(input.flatten(), bins=20)\n",
        "plt.title('input')\n",
        "\n",
        "plt.tight_layout()\n",
        "plt.show()\n",
        "\n",
        "\n",
        "dataset_train = Dataset(data_dir=dir_save_train, transform=transform)\n",
        "data = dataset_train.__getitem__(0) # 한 이미지 불러오기\n",
        "input = data['input']\n",
        "label = data['label']\n",
        "\n",
        "# 불러온 이미지 시각화\n",
        "plt.subplot(122)\n",
        "plt.hist(label.flatten(), bins=20)\n",
        "plt.title('label')\n",
        "\n",
        "plt.subplot(121)\n",
        "plt.hist(input.flatten(), bins=20)\n",
        "plt.title('input')\n",
        "\n",
        "plt.tight_layout()\n",
        "plt.show()"
      ]
    },
    {
      "cell_type": "code",
      "execution_count": 60,
      "id": "a3576a4a-d7a9-4d5e-81b2-069c31bf47e5",
      "metadata": {
        "colab": {
          "base_uri": "https://localhost:8080/",
          "height": 344
        },
        "id": "a3576a4a-d7a9-4d5e-81b2-069c31bf47e5",
        "outputId": "9bc3e3ce-2bdc-409d-d5d1-6f27a8b793c2"
      },
      "outputs": [
        {
          "name": "stdout",
          "output_type": "stream",
          "text": [
            "1.0 0.0\n",
            "0.01568627543747425 0.0\n"
          ]
        },
        {
          "data": {
            "image/png": "[encoded data removed]",
            "text/plain": [
              "<Figure size 640x480 with 2 Axes>"
            ]
          },
          "metadata": {},
          "output_type": "display_data"
        }
      ],
      "source": [
        "plt.subplot(121)\n",
        "plt.imshow(input[0,:,:])\n",
        "plt.title('input')\n",
        "\n",
        "plt.subplot(122)\n",
        "plt.imshow(label[0,:,:])\n",
        "plt.title('label')\n",
        "\n",
        "print(input[0,:,:].max().item(), input[0,:,:].min().item())\n",
        "print(label[0,:,:].max().item(), label[0,:,:].min().item())\n",
        "\n",
        "plt.tight_layout()\n",
        "plt.show()"
      ]
    },
    {
      "cell_type": "code",
      "execution_count": 61,
      "id": "E_LDQ3GBF6Ie",
      "metadata": {
        "colab": {
          "base_uri": "https://localhost:8080/"
        },
        "id": "E_LDQ3GBF6Ie",
        "outputId": "1f46f784-9c12-4748-a866-9b6b6753b58a"
      },
      "outputs": [
        {
          "data": {
            "text/plain": [
              "torch.Size([1, 512, 512])"
            ]
          },
          "execution_count": 61,
          "metadata": {},
          "output_type": "execute_result"
        }
      ],
      "source": [
        "label.size()"
      ]
    },
    {
      "cell_type": "markdown",
      "id": "2e7f4903-a252-4e91-8564-c11045acaebd",
      "metadata": {
        "id": "2e7f4903-a252-4e91-8564-c11045acaebd"
      },
      "source": [
        "## 4. 네트워크 저장/불러오는 함수 정의하기"
      ]
    },
    {
      "cell_type": "code",
      "execution_count": 62,
      "id": "da08fbee-d67f-4ada-8015-fb011b94dd1a",
      "metadata": {
        "id": "da08fbee-d67f-4ada-8015-fb011b94dd1a"
      },
      "outputs": [],
      "source": [
        "## 네트워크 저장하기\n",
        "def save(ckpt_dir, net, optim, epoch):\n",
        "    if not os.path.exists(ckpt_dir):\n",
        "        os.makedirs(ckpt_dir)\n",
        "\n",
        "    torch.save({'net': net.state_dict(), 'optim': optim.state_dict()},\n",
        "               \"%s/model_epoch%d.pth\" % (ckpt_dir, epoch))\n",
        "\n",
        "## 네트워크 불러오기\n",
        "def load(ckpt_dir, net, optim):\n",
        "    if not os.path.exists(ckpt_dir):\n",
        "        epoch = 0\n",
        "        return net, optim, epoch\n",
        "\n",
        "    ckpt_lst = os.listdir(ckpt_dir)\n",
        "    ckpt_lst.sort(key=lambda f: int(''.join(filter(str.isdigit, f))))\n",
        "\n",
        "    dict_model = torch.load('%s/%s' % (ckpt_dir, ckpt_lst[-1]))\n",
        "\n",
        "    net.load_state_dict(dict_model['net'])\n",
        "    optim.load_state_dict(dict_model['optim'])\n",
        "    epoch = int(ckpt_lst[-1].split('epoch')[1].split('.pth')[0])\n",
        "\n",
        "    return net, optim, epoch"
      ]
    },
    {
      "cell_type": "markdown",
      "id": "a60ee484-5748-4a50-aeef-ed3e1e5248f6",
      "metadata": {
        "id": "a60ee484-5748-4a50-aeef-ed3e1e5248f6"
      },
      "source": [
        "## 5. 네트워크 훈련하기"
      ]
    },
    {
      "cell_type": "code",
      "execution_count": 63,
      "id": "d5b839ef-e876-4f81-992f-21fa9f9bfd0a",
      "metadata": {
        "id": "d5b839ef-e876-4f81-992f-21fa9f9bfd0a"
      },
      "outputs": [],
      "source": [
        "# 훈련 파라미터 설정하기\n",
        "param = {\n",
        "    \"model\": \"tsnet\", # unet, tsnet\n",
        "    \"aug\": \"g\", # 아래 transform에 맞게 변경\n",
        "    \"device\": \"cpu\",\n",
        "    \"loss\": \"BCE\", # \"MSE\", \"BCE\"\n",
        "    \"optimizer\": \"Adam\", # (Adam, SGD)\n",
        "    \"scheduler\": \"LambdaLR_0.995\", #(None,LambdaLR_[계수], MultiplicativeLR_[계수], StepLR_[step_size]_[gamma])\n",
        "    \"learning_rate\": 1e-3,\n",
        "    \"training_epochs\": 20,\n",
        "    \"batch_size\": 4,\n",
        "    \"num_workers\": 0\n",
        "    }\n",
        "\n",
        "base_dir = f'./runs/{param[\"model\"]}_{param[\"aug\"]}_{param[\"loss\"]}_{param[\"optimizer\"]}_{param[\"scheduler\"]}_{param[\"learning_rate\"]}_{param[\"training_epochs\"]}_{param[\"batch_size\"]}'\n",
        "data_dir = dir_data\n",
        "ckpt_dir = os.path.join(base_dir, \"checkpoint\")\n",
        "log_dir = os.path.join(base_dir, \"log\")\n",
        "\n"
      ]
    },
    {
      "cell_type": "code",
      "execution_count": 64,
      "id": "75588f5e-9193-4af6-ac45-723e35dad31c",
      "metadata": {
        "colab": {
          "base_uri": "https://localhost:8080/"
        },
        "id": "75588f5e-9193-4af6-ac45-723e35dad31c",
        "outputId": "9a9fbb57-70d8-482a-c201-6c1397273397"
      },
      "outputs": [],
      "source": [
        "\n",
        "# dataset_train = Dataset(data_dir=os.path.join(data_dir, 'train'), transform=transform)\n",
        "# loader_train = DataLoader(dataset_train, batch_size=param[\"batch_size\"], shuffle=True, num_workers=param[\"num_workers\"])\n",
        "\n",
        "# dataset_val = Dataset(data_dir=os.path.join(data_dir, 'val'), transform=transform)\n",
        "# loader_val = DataLoader(dataset_val, batch_size=param[\"batch_size\"], shuffle=False, num_workers=param[\"num_workers\"])\n",
        "\n",
        "# 훈련을 위한 Transform과 DataLoader\n",
        "transform = transforms.Compose([ToTensor(),\n",
        "                                # Normalization(mean=0.5, std=0.5),\n",
        "                                # FlipRot(), \n",
        "                                GammaCorrection(gamma_range=(0.4, 1.2)), \n",
        "                                ResizeImage(output_size=(512,512)),\n",
        "                                MinMaxNormalization()])\n",
        "\n",
        "# Whole Tumor Dataset\n",
        "dataset_train_whole_tumor = Dataset(data_dir=os.path.join(data_dir, 'train'), transform=transform)\n",
        "loader_train_whole_tumor = DataLoader(dataset_train_whole_tumor, batch_size=param[\"batch_size\"], shuffle=True, num_workers=param[\"num_workers\"])\n",
        "\n",
        "dataset_val_whole_tumor = Dataset(data_dir=os.path.join(data_dir, 'val'), transform=transform)\n",
        "loader_val_whole_tumor = DataLoader(dataset_val_whole_tumor, batch_size=param[\"batch_size\"], shuffle=False, num_workers=param[\"num_workers\"])\n",
        "\n",
        "# Tumor Core Dataset\n",
        "dataset_train_tumor_core = Dataset(data_dir=os.path.join(data_dir, 'train'), transform=transform)\n",
        "loader_train_tumor_core = DataLoader(dataset_train_tumor_core, batch_size=param[\"batch_size\"], shuffle=True, num_workers=param[\"num_workers\"])\n",
        "\n",
        "dataset_val_tumor_core = Dataset(data_dir=os.path.join(data_dir, 'val'), transform=transform)\n",
        "loader_val_tumor_core = DataLoader(dataset_val_tumor_core, batch_size=param[\"batch_size\"], shuffle=False, num_workers=param[\"num_workers\"])\n",
        "\n",
        "# Enhancing Tumor Core Dataset\n",
        "dataset_train_enhancing_tumor_core = Dataset(data_dir=os.path.join(data_dir, 'train'), transform=transform)\n",
        "loader_train_enhancing_tumor_core = DataLoader(dataset_train_enhancing_tumor_core, batch_size=param[\"batch_size\"], shuffle=True, num_workers=param[\"num_workers\"])\n",
        "\n",
        "dataset_val_enhancing_tumor_core = Dataset(data_dir=os.path.join(data_dir, 'val'), transform=transform)\n",
        "loader_val_enhancing_tumor_core = DataLoader(dataset_val_enhancing_tumor_core, batch_size=param[\"batch_size\"], shuffle=False, num_workers=param[\"num_workers\"])\n",
        "\n",
        "\n",
        "\n",
        "device = torch.device('cuda' if torch.cuda.is_available() else 'cpu')\n",
        "\n",
        "# 네트워크 생성하기\n",
        "if param[\"model\"] == \"unet\":\n",
        "    net_whole_tumor = UNet().to(device) \n",
        "    net_tumor_core = UNet().to(device)\n",
        "    net_enhancing_tumor_core = UNet().to(device)\n",
        "elif param[\"model\"] == \"tsnet\":\n",
        "    net_whole_tumor = make_TS_Net().to(device)\n",
        "    net_tumor_core = make_TS_Net().to(device)\n",
        "    net_enhancing_tumor_core = make_TS_Net().to(device)\n",
        "\n",
        "# Define the loss function and optimizer\n",
        "if param[\"loss\"] == \"MSE\":\n",
        "    fn_loss = nn.MSELoss().to(device)\n",
        "elif param[\"loss\"] == \"BCE\":\n",
        "    fn_loss = nn.BCEWithLogitsLoss().to(device)\n",
        "else:\n",
        "    print(\"올바른 loss function을 설정해주세요. (MSE)\")\n",
        "\n",
        "# Optimizer 설정하기\n",
        "if param[\"optimizer\"] == \"Adam\":\n",
        "    optim_whole_tumor = torch.optim.Adam(net_whole_tumor.parameters(), lr=param[\"learning_rate\"])\n",
        "    optim_tumor_core = torch.optim.Adam(net_tumor_core.parameters(), lr=param[\"learning_rate\"])\n",
        "    optim_enhancing_tumor_core = torch.optim.Adam(net_enhancing_tumor_core.parameters(), lr=param[\"learning_rate\"])\n",
        "elif param[\"optimizer\"] == \"SGD\":\n",
        "    optim_whole_tumor = torch.optim.SGD(net_whole_tumor.parameters() , lr=param[\"learning_rate\"])\n",
        "    optim_tumor_core = torch.optim.SGD(net_tumor_core.parameters() , lr=param[\"learning_rate\"])\n",
        "    optim_enhancing_tumor_core = torch.optim.SGD(net_enhancing_tumor_core.parameters() , lr=param[\"learning_rate\"])\n",
        "else:\n",
        "    print(\"올바른 optimizer를 입력해 주세요. (Adam, SGD)\")\n",
        "\n",
        "# Scheduler 설정하기\n",
        "if param[\"scheduler\"] == \"None\":\n",
        "    scheduler_whole_tumor = False\n",
        "    scheduler_tumor_core = False\n",
        "    scheduler_enhancing_tumor_core = False\n",
        "elif param[\"scheduler\"].split(\"_\")[0] == \"LambdaLR\":\n",
        "    lambda_coefficient = float(param[\"scheduler\"].split(\"_\")[1])\n",
        "    scheduler_whole_tumor = torch.optim.lr_scheduler.LambdaLR(optimizer=optim_whole_tumor, lr_lambda=lambda epoch: lambda_coefficient ** epoch)\n",
        "    scheduler_tumor_core = torch.optim.lr_scheduler.LambdaLR(optimizer=optim_tumor_core, lr_lambda=lambda epoch: lambda_coefficient ** epoch)\n",
        "    scheduler_enhancing_tumor_core = torch.optim.lr_scheduler.LambdaLR(optimizer=optim_enhancing_tumor_core, lr_lambda=lambda epoch: lambda_coefficient ** epoch)\n",
        "elif param[\"scheduler\"].split(\"_\")[0] == \"MultiplicativeLR\":\n",
        "    lambda_coefficient = float(param[\"scheduler\"].split(\"_\")[1])\n",
        "    scheduler_whole_tumor = torch.optim.lr_scheduler.MultiplicativeLR(optimizer=optim_whole_tumor, lr_lambda=lambda epoch: lambda_coefficient ** epoch)\n",
        "    scheduler_tumor_core = torch.optim.lr_scheduler.MultiplicativeLR(optimizer=optim_tumor_core, lr_lambda=lambda epoch: lambda_coefficient ** epoch)\n",
        "    scheduler_enhancing_tumor_core = torch.optim.lr_scheduler.MultiplicativeLR(optimizer=optim_enhancing_tumor_core, lr_lambda=lambda epoch: lambda_coefficient ** epoch)\n",
        "elif param[\"scheduler\"].split(\"_\")[0] == \"StepLR\":\n",
        "    param_scheduler = param[\"scheduler\"].split(\"_\")\n",
        "    step_size = int(param_scheduler[1])\n",
        "    gamma = float(param_scheduler[2])\n",
        "    scheduler_whole_tumor = torch.optim.lr_scheduler.StepLR(optim_whole_tumor, step_size=step_size, gamma=gamma)\n",
        "    scheduler_tumor_core = torch.optim.lr_scheduler.StepLR(optim_tumor_core, step_size=step_size, gamma=gamma)\n",
        "    scheduler_enhancing_tumor_core = torch.optim.lr_scheduler.StepLR(optim_enhancing_tumor_core, step_size=step_size, gamma=gamma)\n",
        "else:\n",
        "    scheduler_whole_tumor = False\n",
        "    scheduler_tumor_core = False\n",
        "    scheduler_enhancing_tumor_core = False\n",
        "    print(\"올바른 스케줄러를 입력하세요. (None, LambdaLR_[계수], MultiplicativeLR_[계수], StepLR_[step_size]_[gamma])\")\n",
        "\n",
        "\n",
        "# 그밖에 부수적인 variables 설정하기\n",
        "num_data_train = len(dataset_train_whole_tumor)\n",
        "num_data_val = len(loader_train_whole_tumor)\n",
        "\n",
        "num_batch_train = np.ceil(num_data_train / param[\"batch_size\"])\n",
        "num_batch_val = np.ceil(num_data_val / param[\"batch_size\"])\n",
        "\n",
        "# 그 밖에 부수적인 functions 설정하기\n",
        "fn_tonumpy = lambda x: x.to('cpu').detach().numpy().transpose(0, 2, 3, 1)\n",
        "fn_denorm = lambda x, mean, std: (x * std) + mean\n",
        "fn_class = lambda x: 1.0 * (x > 0.5)"
      ]
    },
    {
      "cell_type": "code",
      "execution_count": 65,
      "id": "17456195-4e50-4ca7-aeb0-c593a755af12",
      "metadata": {
        "id": "17456195-4e50-4ca7-aeb0-c593a755af12"
      },
      "outputs": [],
      "source": [
        "# Tensorboard 를 사용하기 위한 SummaryWriter 설정\n",
        "writer_train = SummaryWriter(log_dir=os.path.join(log_dir, 'train'))\n",
        "writer_val = SummaryWriter(log_dir=os.path.join(log_dir, 'val'))"
      ]
    },
    {
      "cell_type": "code",
      "execution_count": 66,
      "id": "8f658923-d68b-4e6d-b249-e3f83c366705",
      "metadata": {
        "id": "8f658923-d68b-4e6d-b249-e3f83c366705"
      },
      "outputs": [],
      "source": [
        "# 네트워크 학습시키기\n",
        "st_epoch = 0\n",
        "# 학습한 모델이 있을 경우 모델 로드하기\n",
        "# net, optim, st_epoch = load(ckpt_dir=ckpt_dir, net=net, optim=optim)"
      ]
    },
    {
      "cell_type": "code",
      "execution_count": null,
      "id": "d17e4bd3",
      "metadata": {},
      "outputs": [],
      "source": [
        "def crop_input_based_on_output(input_image, output_whole_tumor, label_whole_tumor, threshold=0.5):\n",
        "    # 이 함수에서 input_image는 첫 번째 모델의 입력 이미지입니다.\n",
        "    # output_whole_tumor는 첫 번째 모델의 출력입니다.\n",
        "    # label_whole_tumor는 첫 번째 모델의 정답 레이블입니다.\n",
        "    # threshold는 임계값으로, 기본값은 0.5입니다.\n",
        "\n",
        "    # 여기서 output_whole_tumor를 기반으로 입력 이미지를 잘라내거나 크기를 조정하여 \n",
        "    # 두 번째 모델인 tumor core 모델의 입력으로 생성합니다.\n",
        "\n",
        "    # 예시: output_whole_tumor를 기준으로 입력 이미지를 crop하는 방법\n",
        "    # 예시에서는 output_whole_tumor가 바이너리 세그멘테이션 맵으로 가정합니다.\n",
        "    # 세그멘테이션 맵을 기반으로 입력 이미지를 crop하여 반환합니다.\n",
        "\n",
        "    # 세그멘테이션 맵에서 유효한 영역을 가져옵니다.\n",
        "    valid_area = output_whole_tumor > threshold\n",
        "\n",
        "    # 세그멘테이션 맵을 기반으로 입력 이미지를 crop합니다.\n",
        "    # 여기서는 PyTorch의 indexing을 사용하여 crop할 수 있습니다.\n",
        "    cropped_input_image = input_image[:, valid_area]\n",
        "\n",
        "    # 반환된 crop된 이미지를 tumor core 모델의 입력으로 사용합니다.\n",
        "    return cropped_input_image, label_whole_tumor[:, valid_area]  # label_whole_tumor도 동일한 영역으로 잘라내어야 합니다."
      ]
    },
    {
      "cell_type": "code",
      "execution_count": null,
      "id": "b12b929d",
      "metadata": {},
      "outputs": [],
      "source": [
        "def train_model(net, optimizer, scheduler, data_loader, writer, epoch, phase):\n",
        "    net.train() if phase == 'train' else net.eval()\n",
        "    loss_arr = []\n",
        "\n",
        "    for batch, data in enumerate(data_loader, 1):\n",
        "        label = data['label'].to(device)\n",
        "        input = data['input'].to(device)\n",
        "\n",
        "        output = net(input)\n",
        "\n",
        "        if phase == 'train':\n",
        "            optimizer.zero_grad()\n",
        "\n",
        "        loss = fn_loss(output, label)\n",
        "        if phase == 'train':\n",
        "            loss.backward()\n",
        "            optimizer.step()\n",
        "\n",
        "        loss_arr += [loss.item()]\n",
        "\n",
        "        print(\"%s: EPOCH %04d / %04d | BATCH %04d / %04d | LOSS %.4f\" %\n",
        "              (phase.upper(), epoch, param[\"training_epochs\"], batch, len(data_loader), np.mean(loss_arr)), end=\"\")\n",
        "        if scheduler and phase == 'train':\n",
        "            print(\" | LR\",*scheduler.get_last_lr())\n",
        "        elif phase == 'train':\n",
        "            print(\" | LR\",optimizer.param_groups[0]['lr'])\n",
        "        else:\n",
        "            print()\n",
        "\n",
        "        label = fn_tonumpy(label)\n",
        "        input = fn_tonumpy(fn_denorm(input, mean=0.5, std=0.5))\n",
        "        output = fn_tonumpy(fn_class(output))\n",
        "\n",
        "        writer.add_image('label', label, len(data_loader) * (epoch - 1) + batch, dataformats='NHWC')\n",
        "        writer.add_image('input', input, len(data_loader) * (epoch - 1) + batch, dataformats='NHWC')\n",
        "        writer.add_image('output', output, len(data_loader) * (epoch - 1) + batch, dataformats='NHWC')\n",
        "    if scheduler and phase == 'train':\n",
        "      scheduler.step()\n",
        "      writer.add_scalar('learning_rate', *scheduler.get_last_lr())\n",
        "    elif phase == 'train':\n",
        "      writer.add_scalar('learning_rate', optimizer.param_groups[0]['lr'])\n",
        "    writer.add_scalar('loss', np.mean(loss_arr), epoch)\n",
        "\n",
        "\n",
        "# Training loop\n",
        "for epoch in range(st_epoch + 1, param[\"training_epochs\"] + 1):\n",
        "    train_model(net_whole_tumor, optim_whole_tumor, scheduler_whole_tumor, loader_train_whole_tumor, writer_train, epoch, 'train')\n",
        "    train_model(net_whole_tumor, None, None, loader_val_whole_tumor, writer_val, epoch, 'val')\n",
        "    \n",
        "    # Apply crop and forward the cropped output to the next model\n",
        "    loader_train_tumor_core.dataset.update_cropped_data(net_whole_tumor)\n",
        "    train_model(net_tumor_core, optim_tumor_core, scheduler_tumor_core, loader_train_tumor_core, writer_train, epoch, 'train')\n",
        "    train_model(net_tumor_core, None, None, loader_val_tumor_core, writer_val, epoch, 'val')\n",
        "\n",
        "    # Apply crop and forward the cropped output to the next model\n",
        "    loader_train_enhancing_tumor_core.dataset.update_cropped_data(net_tumor_core)\n",
        "    train_model(net_enhancing_tumor_core, optim_enhancing_tumor_core, scheduler_enhancing_tumor_core, loader_train_enhancing_tumor_core, writer_train, epoch, 'train')\n",
        "    train_model(net_enhancing_tumor_core, None, None, loader_val_enhancing_tumor_core, writer_val, epoch, 'val')\n",
        "\n",
        "    # Save models every 50 epochs\n",
        "    if epoch % 50 == 0:\n",
        "        save(ckpt_dir=ckpt_dir, net=net_whole_tumor, optim=optim_whole_tumor, epoch=epoch)\n",
        "        save(ckpt_dir=ckpt_dir, net=net_tumor_core, optim=optim_tumor_core, epoch=epoch)\n",
        "        save(ckpt_dir=ckpt_dir, net=net_enhancing_tumor_core, optim=optim_enhancing_tumor_core, epoch=epoch)\n",
        "\n",
        "# Close writers\n",
        "writer_train.close()\n",
        "writer_val.close()"
      ]
    },
    {
      "cell_type": "code",
      "execution_count": null,
      "id": "7015893d",
      "metadata": {},
      "outputs": [],
      "source": [
        "def train_model(net, optimizer, scheduler, data_loader, writer, epoch, phase):\n",
        "    net.train() if phase == 'train' else net.eval()\n",
        "    loss_arr = []\n",
        "\n",
        "    for batch, data in enumerate(data_loader, 1):\n",
        "        label = data['label'].to(device)\n",
        "        input = data['input'].to(device)\n",
        "\n",
        "        if phase == 'train':\n",
        "            optimizer.zero_grad()\n",
        "\n",
        "        output = net(input)\n",
        "\n",
        "        # If in training phase, use output for the next model\n",
        "        if phase == 'train':\n",
        "            cropped_input = crop_input_based_on_output(input, output)\n",
        "            next_model_output = net(cropped_input)\n",
        "            loss = fn_loss(next_model_output, label)\n",
        "            loss.backward()\n",
        "            optimizer.step()\n",
        "        else:\n",
        "            loss = fn_loss(output, label)\n",
        "\n",
        "        loss_arr += [loss.item()]\n",
        "\n",
        "        print(\"%s: EPOCH %04d / %04d | BATCH %04d / %04d | LOSS %.4f\" %\n",
        "              (phase.upper(), epoch, param[\"training_epochs\"], batch, len(data_loader), np.mean(loss_arr)), end=\"\")\n",
        "        if scheduler and phase == 'train':\n",
        "            print(\" | LR\",*scheduler.get_last_lr())\n",
        "        elif phase == 'train':\n",
        "            print(\" | LR\",optimizer.param_groups[0]['lr'])\n",
        "        else:\n",
        "            print()\n",
        "\n",
        "        label = fn_tonumpy(label)\n",
        "        input = fn_tonumpy(fn_denorm(input, mean=0.5, std=0.5))\n",
        "        output = fn_tonumpy(fn_class(output))\n",
        "\n",
        "        writer.add_image('label', label, len(data_loader) * (epoch - 1) + batch, dataformats='NHWC')\n",
        "        writer.add_image('input', input, len(data_loader) * (epoch - 1) + batch, dataformats='NHWC')\n",
        "        writer.add_image('output', output, len(data_loader) * (epoch - 1) + batch, dataformats='NHWC')\n",
        "    if scheduler and phase == 'train':\n",
        "      scheduler.step()\n",
        "      writer.add_scalar('learning_rate', *scheduler.get_last_lr())\n",
        "    elif phase == 'train':\n",
        "      writer.add_scalar('learning_rate', optimizer.param_groups[0]['lr'])\n",
        "    writer.add_scalar('loss', np.mean(loss_arr), epoch)\n",
        "\n",
        "\n",
        "# Training loop\n",
        "for epoch in range(st_epoch + 1, param[\"training_epochs\"] + 1):\n",
        "    train_model(net_whole_tumor, optim_whole_tumor, scheduler_whole_tumor, loader_train_whole_tumor, writer_train, epoch, 'train')\n",
        "    train_model(net_whole_tumor, None, None, loader_val_whole_tumor, writer_val, epoch, 'val')\n",
        "    \n",
        "    # Train and validate tumor core model\n",
        "    train_model(net_tumor_core, optim_tumor_core, scheduler_tumor_core, loader_train_tumor_core, writer_train, epoch, 'train')\n",
        "    train_model(net_tumor_core, None, None, loader_val_tumor_core, writer_val, epoch, 'val')\n",
        "\n",
        "    # Train and validate enhancing tumor core model\n",
        "    train_model(net_enhancing_tumor_core, optim_enhancing_tumor_core, scheduler_enhancing_tumor_core, loader_train_enhancing_tumor_core, writer_train, epoch, 'train')\n",
        "    train_model(net_enhancing_tumor_core, None, None, loader_val_enhancing_tumor_core, writer_val, epoch, 'val')\n",
        "\n",
        "    # Save models every 50 epochs\n",
        "    if epoch % 50 == 0:\n",
        "        save(ckpt_dir=ckpt_dir, net=net_whole_tumor, optim=optim_whole_tumor, epoch=epoch)\n",
        "        save(ckpt_dir=ckpt_dir, net=net_tumor_core, optim=optim_tumor_core, epoch=epoch)\n",
        "        save(ckpt_dir=ckpt_dir, net=net_enhancing_tumor_core, optim=optim_enhancing_tumor_core, epoch=epoch)\n",
        "\n",
        "# Close writers\n",
        "writer_train.close()\n",
        "writer_val.close()\n"
      ]
    },
    {
      "cell_type": "code",
      "execution_count": null,
      "id": "f08f75b4",
      "metadata": {},
      "outputs": [],
      "source": [
        "# 첫번째 모델의 출력을 사용하여 두번째 모델의 입력을 생성하고 학습, 두번째 모델의 출력을 사용하여 세번째 모델의 입력을 생성하고 학습\n",
        "for epoch in range(st_epoch + 1, param[\"training_epochs\"] + 1):\n",
        "    net_whole_tumor.train()\n",
        "    net_tumor_core.train()\n",
        "    net_enhancing_tumor_core.train()  # Enhancing tumor core 모델도 학습 상태로 설정\n",
        "    loss_arr_whole_tumor = []\n",
        "    loss_arr_tumor_core = []\n",
        "    loss_arr_enhancing_tumor_core = []\n",
        "\n",
        "    for batch, data in enumerate(loader_train_whole_tumor, 1):\n",
        "        # forward pass\n",
        "        label_whole_tumor = data['label'].to(device)\n",
        "        input_whole_tumor = data['input'].to(device)\n",
        "\n",
        "        # Get output of whole tumor model\n",
        "        output_whole_tumor = net_whole_tumor(input_whole_tumor)\n",
        "\n",
        "        # Crop input based on whole tumor model output\n",
        "        input_tumor_core, label_tumor_core = crop_input_based_on_output(input_whole_tumor, label_whole_tumor, output_whole_tumor)\n",
        "\n",
        "        # Forward pass for tumor core model\n",
        "        output_tumor_core = net_tumor_core(input_tumor_core)\n",
        "\n",
        "        # Crop input based on tumor core model output\n",
        "        input_enhancing_tumor_core, label_enhancing_tumor_core = crop_input_based_on_output(input_tumor_core, label_tumor_core, output_tumor_core)\n",
        "\n",
        "        # Forward pass for enhancing tumor core model\n",
        "        output_enhancing_tumor_core = net_enhancing_tumor_core(input_enhancing_tumor_core)\n",
        "\n",
        "        # Backward pass for enhancing tumor core model\n",
        "        optim_enhancing_tumor_core.zero_grad()\n",
        "        loss_enhancing_tumor_core = fn_loss(output_enhancing_tumor_core, label_enhancing_tumor_core)\n",
        "        loss_enhancing_tumor_core.backward()\n",
        "        optim_enhancing_tumor_core.step()\n",
        "\n",
        "        # Backward pass for tumor core model\n",
        "        optim_tumor_core.zero_grad()\n",
        "        loss_tumor_core = fn_loss(output_tumor_core, label_tumor_core)\n",
        "        loss_tumor_core.backward()\n",
        "        optim_tumor_core.step()\n",
        "\n",
        "        # Backward pass for whole tumor model\n",
        "        optim_whole_tumor.zero_grad()\n",
        "        loss_whole_tumor = fn_loss(output_whole_tumor, label_whole_tumor)\n",
        "        loss_whole_tumor.backward()\n",
        "        optim_whole_tumor.step()\n",
        "\n",
        "        loss_arr_whole_tumor.append(loss_whole_tumor.item())\n",
        "        loss_arr_tumor_core.append(loss_tumor_core.item())\n",
        "        loss_arr_enhancing_tumor_core.append(loss_enhancing_tumor_core.item())\n",
        "\n",
        "        print(\"TRAIN: EPOCH %04d / %04d | BATCH %04d / %04d | WT_LOSS %.4f | TC_LOSS %.4f | ETC_LOSS %.4f\" %\n",
        "              (epoch, param[\"training_epochs\"], batch, len(loader_train_whole_tumor), np.mean(loss_arr_whole_tumor), np.mean(loss_arr_tumor_core), np.mean(loss_arr_enhancing_tumor_core)))\n",
        "\n",
        "        # Tensorboard 저장하기\n",
        "        if param[\"scheduler\"] != \"None\":\n",
        "            scheduler_whole_tumor.step()\n",
        "            scheduler_tumor_core.step()\n",
        "            scheduler_enhancing_tumor_core.step()\n",
        "            writer_train.add_scalar('learning_rater_whole_tumor', *scheduler_whole_tumor.get_last_lr())\n",
        "            writer_train.add_scalar('learning_rate_tumor_core', *scheduler_tumor_core.get_last_lr())\n",
        "            writer_train.add_scalar('learning_rater_enhancing_tumor_core', *scheduler_enhancing_tumor_core.get_last_lr())\n",
        "        else:\n",
        "            writer_train.add_scalar('learning_rater_whole_tumor', optim_whole_tumor.param_groups[0]['lr'])\n",
        "            writer_train.add_scalar('learning_rate_tumor_core', optim_tumor_core.param_groups[0]['lr'])\n",
        "            writer_train.add_scalar('learning_rater_enhancing_tumor_core', optim_enhancing_tumor_core.param_groups[0]['lr'])\n",
        "        writer_train.add_scalar('loss_whole_tumor', np.mean(loss_arr_whole_tumor), epoch)\n",
        "        writer_train.add_scalar('loss_tumor_core', np.mean(loss_arr_tumor_core), epoch)\n",
        "        writer_train.add_scalar('loss_enhancing_tumor_core', np.mean(loss_arr_enhancing_tumor_core), epoch)\n",
        "\n",
        "    # 이하 validation 코드도 위와 동일한 방식으로 수정\n",
        "    # 생략\n"
      ]
    },
    {
      "cell_type": "markdown",
      "id": "E4QShmz2KMVM",
      "metadata": {
        "id": "E4QShmz2KMVM"
      },
      "source": [
        "## 6. 훈련된 모델 테스트하기"
      ]
    },
    {
      "cell_type": "code",
      "execution_count": null,
      "id": "ZPSoUnfVKAtF",
      "metadata": {
        "id": "ZPSoUnfVKAtF"
      },
      "outputs": [],
      "source": [
        "# TODO: Validation 코드 수정\n",
        "\n",
        "transform = transforms.Compose([ToTensor(),\n",
        "                                ResizeImage(output_size=(512,512)),\n",
        "                                MinMaxNormalization()])\n",
        "\n",
        "dataset_test = Dataset(data_dir=os.path.join(data_dir, 'test'), transform=transform)\n",
        "loader_test = DataLoader(dataset_test, batch_size=param[\"batch_size\"], shuffle=False, num_workers=param[\"num_workers\"])\n",
        "\n",
        "# 그밖에 부수적인 variables 설정하기\n",
        "num_data_test = len(dataset_test)\n",
        "num_batch_test = np.ceil(num_data_test / param[\"batch_size\"])\n",
        "\n",
        "# 결과 디렉토리 생성하기\n",
        "result_dir = os.path.join(base_dir, 'result')\n",
        "if not os.path.exists(result_dir):\n",
        "    os.makedirs(os.path.join(result_dir, 'png'))\n",
        "    os.makedirs(os.path.join(result_dir, 'numpy'))\n",
        "\n",
        "\n",
        "net, optim, st_epoch = load(ckpt_dir=ckpt_dir, net=net, optim=optim)\n",
        "\n",
        "with torch.no_grad():\n",
        "      net.eval()\n",
        "      loss_arr = []\n",
        "\n",
        "      for batch, data in enumerate(loader_test, 1):\n",
        "          # forward pass\n",
        "          label = data['label'].to(device)\n",
        "          input = data['input'].to(device)\n",
        "\n",
        "          output = net(input)\n",
        "\n",
        "          # 손실함수 계산하기\n",
        "          loss = fn_loss(output, label)\n",
        "          loss_arr += [loss.item()]\n",
        "\n",
        "          print(\"TEST: BATCH %04d / %04d | LOSS %.4f\" %\n",
        "                (batch, num_batch_test, np.mean(loss_arr)))\n",
        "\n",
        "          # Tensorboard 저장하기\n",
        "          label = fn_tonumpy(label)\n",
        "          input = fn_tonumpy(fn_denorm(input, mean=0.5, std=0.5))\n",
        "          output = fn_tonumpy(fn_class(output))\n",
        "\n",
        "          # 테스트 결과 저장하기\n",
        "          for j in range(label.shape[0]):\n",
        "              id = num_batch_test * (batch - 1) + j\n",
        "\n",
        "              plt.imsave(os.path.join(result_dir, 'png', 'label_%04d.png' % id), label[j].squeeze(), cmap='gray')\n",
        "              plt.imsave(os.path.join(result_dir, 'png', 'input_%04d.png' % id), input[j].squeeze(), cmap='gray')\n",
        "              plt.imsave(os.path.join(result_dir, 'png', 'output_%04d.png' % id), output[j].squeeze(), cmap='gray')\n",
        "\n",
        "              np.save(os.path.join(result_dir, 'numpy', 'label_%04d.npy' % id), label[j].squeeze())\n",
        "              np.save(os.path.join(result_dir, 'numpy', 'input_%04d.npy' % id), input[j].squeeze())\n",
        "              np.save(os.path.join(result_dir, 'numpy', 'output_%04d.npy' % id), output[j].squeeze())\n",
        "\n",
        "print(\"AVERAGE TEST: BATCH %04d / %04d | LOSS %.4f\" %\n",
        "        (batch, num_batch_test, np.mean(loss_arr)))"
      ]
    },
    {
      "cell_type": "markdown",
      "id": "DfEJftr8KU7l",
      "metadata": {
        "id": "DfEJftr8KU7l"
      },
      "source": [
        "## 7. 결과 시각화하기"
      ]
    },
    {
      "cell_type": "code",
      "execution_count": null,
      "id": "7vRH_VArKLNj",
      "metadata": {
        "colab": {
          "base_uri": "https://localhost:8080/",
          "height": 265
        },
        "id": "7vRH_VArKLNj",
        "outputId": "fd71ec28-7aa9-4c85-d119-aaf85842d33b"
      },
      "outputs": [
        {
          "data": {
            "image/png": "[encoded data removed]",
            "text/plain": [
              "<Figure size 800x600 with 3 Axes>"
            ]
          },
          "metadata": {},
          "output_type": "display_data"
        }
      ],
      "source": [
        "##\n",
        "lst_data = os.listdir(os.path.join(result_dir, 'numpy'))\n",
        "\n",
        "lst_label = [f for f in lst_data if f.startswith('label')]\n",
        "lst_input = [f for f in lst_data if f.startswith('input')]\n",
        "lst_output = [f for f in lst_data if f.startswith('output')]\n",
        "\n",
        "lst_label.sort()\n",
        "lst_input.sort()\n",
        "lst_output.sort()\n",
        "\n",
        "##\n",
        "id = 0\n",
        "\n",
        "label = np.load(os.path.join(result_dir,\"numpy\", lst_label[id]))\n",
        "input = np.load(os.path.join(result_dir,\"numpy\", lst_input[id]))\n",
        "output = np.load(os.path.join(result_dir,\"numpy\", lst_output[id]))\n",
        "\n",
        "## 플롯 그리기\n",
        "plt.figure(figsize=(8,6))\n",
        "plt.subplot(131)\n",
        "plt.imshow(input, cmap='gray')\n",
        "plt.title('input')\n",
        "\n",
        "plt.subplot(132)\n",
        "plt.imshow(label, cmap='gray')\n",
        "plt.title('label')\n",
        "\n",
        "plt.subplot(133)\n",
        "plt.imshow(output, cmap='gray')\n",
        "plt.title('output')\n",
        "\n",
        "plt.show()\n"
      ]
    }
  ],
  "metadata": {
    "accelerator": "GPU",
    "colab": {
      "collapsed_sections": [
        "1fd806ae-07ad-46c3-aafa-6b92440de0d0"
      ],
      "gpuType": "T4",
      "provenance": []
    },
    "kernelspec": {
      "display_name": "Python 3",
      "name": "python3"
    },
    "language_info": {
      "codemirror_mode": {
        "name": "ipython",
        "version": 3
      },
      "file_extension": ".py",
      "mimetype": "text/x-python",
      "name": "python",
      "nbconvert_exporter": "python",
      "pygments_lexer": "ipython3",
      "version": "3.10.0"
    }
  },
  "nbformat": 4,
  "nbformat_minor": 5
}
